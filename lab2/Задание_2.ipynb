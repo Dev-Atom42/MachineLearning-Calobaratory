{
  "nbformat": 4,
  "nbformat_minor": 0,
  "metadata": {
    "colab": {
      "provenance": [],
      "include_colab_link": true
    },
    "kernelspec": {
      "name": "python3",
      "display_name": "Python 3"
    },
    "language_info": {
      "name": "python"
    }
  },
  "cells": [
    {
      "cell_type": "markdown",
      "metadata": {
        "id": "view-in-github",
        "colab_type": "text"
      },
      "source": [
        "<a href=\"https://colab.research.google.com/github/Dev-Atom42/MachineLearning-Calobaratory/blob/main/lab2/%D0%97%D0%B0%D0%B4%D0%B0%D0%BD%D0%B8%D0%B5_2.ipynb\" target=\"_parent\"><img src=\"https://colab.research.google.com/assets/colab-badge.svg\" alt=\"Open In Colab\"/></a>"
      ]
    },
    {
      "cell_type": "markdown",
      "source": [
        "#Задание по практике 2"
      ],
      "metadata": {
        "id": "_dGfjiUjUNab"
      }
    },
    {
      "cell_type": "code",
      "source": [
        "!pip install pandas\n",
        "!pip install seaborn"
      ],
      "metadata": {
        "id": "wXXP-hXKrxPW",
        "colab": {
          "base_uri": "https://localhost:8080/"
        },
        "outputId": "918018f8-3c5b-4d26-efd7-2429e3b65fb9"
      },
      "execution_count": null,
      "outputs": [
        {
          "output_type": "stream",
          "name": "stdout",
          "text": [
            "Requirement already satisfied: pandas in /usr/local/lib/python3.10/dist-packages (1.5.3)\n",
            "Requirement already satisfied: python-dateutil>=2.8.1 in /usr/local/lib/python3.10/dist-packages (from pandas) (2.8.2)\n",
            "Requirement already satisfied: pytz>=2020.1 in /usr/local/lib/python3.10/dist-packages (from pandas) (2023.3.post1)\n",
            "Requirement already satisfied: numpy>=1.21.0 in /usr/local/lib/python3.10/dist-packages (from pandas) (1.23.5)\n",
            "Requirement already satisfied: six>=1.5 in /usr/local/lib/python3.10/dist-packages (from python-dateutil>=2.8.1->pandas) (1.16.0)\n",
            "Requirement already satisfied: seaborn in /usr/local/lib/python3.10/dist-packages (0.12.2)\n",
            "Requirement already satisfied: numpy!=1.24.0,>=1.17 in /usr/local/lib/python3.10/dist-packages (from seaborn) (1.23.5)\n",
            "Requirement already satisfied: pandas>=0.25 in /usr/local/lib/python3.10/dist-packages (from seaborn) (1.5.3)\n",
            "Requirement already satisfied: matplotlib!=3.6.1,>=3.1 in /usr/local/lib/python3.10/dist-packages (from seaborn) (3.7.1)\n",
            "Requirement already satisfied: contourpy>=1.0.1 in /usr/local/lib/python3.10/dist-packages (from matplotlib!=3.6.1,>=3.1->seaborn) (1.2.0)\n",
            "Requirement already satisfied: cycler>=0.10 in /usr/local/lib/python3.10/dist-packages (from matplotlib!=3.6.1,>=3.1->seaborn) (0.12.1)\n",
            "Requirement already satisfied: fonttools>=4.22.0 in /usr/local/lib/python3.10/dist-packages (from matplotlib!=3.6.1,>=3.1->seaborn) (4.44.3)\n",
            "Requirement already satisfied: kiwisolver>=1.0.1 in /usr/local/lib/python3.10/dist-packages (from matplotlib!=3.6.1,>=3.1->seaborn) (1.4.5)\n",
            "Requirement already satisfied: packaging>=20.0 in /usr/local/lib/python3.10/dist-packages (from matplotlib!=3.6.1,>=3.1->seaborn) (23.2)\n",
            "Requirement already satisfied: pillow>=6.2.0 in /usr/local/lib/python3.10/dist-packages (from matplotlib!=3.6.1,>=3.1->seaborn) (9.4.0)\n",
            "Requirement already satisfied: pyparsing>=2.3.1 in /usr/local/lib/python3.10/dist-packages (from matplotlib!=3.6.1,>=3.1->seaborn) (3.1.1)\n",
            "Requirement already satisfied: python-dateutil>=2.7 in /usr/local/lib/python3.10/dist-packages (from matplotlib!=3.6.1,>=3.1->seaborn) (2.8.2)\n",
            "Requirement already satisfied: pytz>=2020.1 in /usr/local/lib/python3.10/dist-packages (from pandas>=0.25->seaborn) (2023.3.post1)\n",
            "Requirement already satisfied: six>=1.5 in /usr/local/lib/python3.10/dist-packages (from python-dateutil>=2.7->matplotlib!=3.6.1,>=3.1->seaborn) (1.16.0)\n"
          ]
        }
      ]
    },
    {
      "cell_type": "code",
      "execution_count": null,
      "metadata": {
        "id": "7u0VPzz-UKNu"
      },
      "outputs": [],
      "source": [
        "import pandas as pd\n",
        "import seaborn as sns\n",
        "import matplotlib.pyplot as plt"
      ]
    },
    {
      "cell_type": "markdown",
      "source": [
        "##Введение в описательную статистику"
      ],
      "metadata": {
        "id": "yKPA-E-VVSS-"
      }
    },
    {
      "cell_type": "markdown",
      "source": [
        "1. Выберите категориальную целевую переменную (**Y**)\n",
        "\n",
        "Metropolitan/Nonmetropolitan\n",
        "\n",
        "2. Выберите переменную для анализа относительно категории (**X**)\n",
        "\n",
        "Murder and nonnegligent manslaughter\n",
        "\n",
        "3. Выведитие обобщенную статистическую информацию переменной (**X**)\n",
        "\n",
        "2. Вычислите среднее, медиану, моду, минимум, максимум, стандартное отклонение относительно целевой пременной из файла Classification datasets в соответствии с вашим вариантом\n",
        "\n",
        "3. Сделайте вывод относительно полученных результатов\n",
        "\n",
        "p.s если у вас нет категориальных признаков - преобразуйте любой числовой в категориальный (https://pandas.pydata.org/docs/reference/api/pandas.cut.html). Важно **не** использовать преобразованный Y вместе с этим же X (то есть, если вы преобразовали возраст в категорию, то вы не моежет использовать возраст в качестве X и возраст категорию в качестве Y)"
      ],
      "metadata": {
        "id": "Rrr4WPcGUwOx"
      }
    },
    {
      "cell_type": "code",
      "source": [
        "df = pd.read_csv(\"/content/Classification Dataset/ca_offenses_by_county.csv\")\n",
        "df"
      ],
      "metadata": {
        "id": "wZiCpTwgUuYw",
        "colab": {
          "base_uri": "https://localhost:8080/",
          "height": 513
        },
        "outputId": "417cd865-164a-4185-ea26-4fee2f823357"
      },
      "execution_count": null,
      "outputs": [
        {
          "output_type": "execute_result",
          "data": {
            "text/plain": [
              "     Metropolitan/Nonmetropolitan        County Violent crime  \\\n",
              "0           Metropolitan Counties       Alameda           510   \n",
              "1           Metropolitan Counties        Butte3           155   \n",
              "2           Metropolitan Counties  Contra Costa           426   \n",
              "3           Metropolitan Counties    El Dorado3           252   \n",
              "4           Metropolitan Counties        Fresno           962   \n",
              "...                           ...           ...           ...   \n",
              "2587                          NaN           NaN           NaN   \n",
              "2588                          NaN           NaN           NaN   \n",
              "2589                          NaN           NaN           NaN   \n",
              "2590                          NaN           NaN           NaN   \n",
              "2591                          NaN           NaN           NaN   \n",
              "\n",
              "      Murder and nonnegligent manslaughter  Rape (revised definition)  \\\n",
              "0                                      6.0                       13.0   \n",
              "1                                      4.0                       20.0   \n",
              "2                                     14.0                       24.0   \n",
              "3                                      9.0                       46.0   \n",
              "4                                      8.0                       32.0   \n",
              "...                                    ...                        ...   \n",
              "2587                                   NaN                        NaN   \n",
              "2588                                   NaN                        NaN   \n",
              "2589                                   NaN                        NaN   \n",
              "2590                                   NaN                        NaN   \n",
              "2591                                   NaN                        NaN   \n",
              "\n",
              "      Rape(legacy definition) Robbery Aggravated assault Property crime  \\\n",
              "0                         NaN     177                314          2,077   \n",
              "1                         NaN      14                117          1,422   \n",
              "2                         NaN     153                235          2,013   \n",
              "3                         NaN      32                165          2,031   \n",
              "4                         NaN     112                810          3,810   \n",
              "...                       ...     ...                ...            ...   \n",
              "2587                      NaN     NaN                NaN            NaN   \n",
              "2588                      NaN     NaN                NaN            NaN   \n",
              "2589                      NaN     NaN                NaN            NaN   \n",
              "2590                      NaN     NaN                NaN            NaN   \n",
              "2591                      NaN     NaN                NaN            NaN   \n",
              "\n",
              "     Burglary Larceny-theft Motor vehicle theft  Arson  \n",
              "0         463           985                 629   11.0  \n",
              "1         708           693                  21    0.0  \n",
              "2         660         1,332                  21   18.0  \n",
              "3         577         1,412                  42    4.0  \n",
              "4       1,398         1,838                 574  145.0  \n",
              "...       ...           ...                 ...    ...  \n",
              "2587      NaN           NaN                 NaN    NaN  \n",
              "2588      NaN           NaN                 NaN    NaN  \n",
              "2589      NaN           NaN                 NaN    NaN  \n",
              "2590      NaN           NaN                 NaN    NaN  \n",
              "2591      NaN           NaN                 NaN    NaN  \n",
              "\n",
              "[2592 rows x 13 columns]"
            ],
            "text/html": [
              "\n",
              "  <div id=\"df-ae2192a1-c40c-4dfe-ae55-e826923a1e3d\" class=\"colab-df-container\">\n",
              "    <div>\n",
              "<style scoped>\n",
              "    .dataframe tbody tr th:only-of-type {\n",
              "        vertical-align: middle;\n",
              "    }\n",
              "\n",
              "    .dataframe tbody tr th {\n",
              "        vertical-align: top;\n",
              "    }\n",
              "\n",
              "    .dataframe thead th {\n",
              "        text-align: right;\n",
              "    }\n",
              "</style>\n",
              "<table border=\"1\" class=\"dataframe\">\n",
              "  <thead>\n",
              "    <tr style=\"text-align: right;\">\n",
              "      <th></th>\n",
              "      <th>Metropolitan/Nonmetropolitan</th>\n",
              "      <th>County</th>\n",
              "      <th>Violent crime</th>\n",
              "      <th>Murder and nonnegligent manslaughter</th>\n",
              "      <th>Rape (revised definition)</th>\n",
              "      <th>Rape(legacy definition)</th>\n",
              "      <th>Robbery</th>\n",
              "      <th>Aggravated assault</th>\n",
              "      <th>Property crime</th>\n",
              "      <th>Burglary</th>\n",
              "      <th>Larceny-theft</th>\n",
              "      <th>Motor vehicle theft</th>\n",
              "      <th>Arson</th>\n",
              "    </tr>\n",
              "  </thead>\n",
              "  <tbody>\n",
              "    <tr>\n",
              "      <th>0</th>\n",
              "      <td>Metropolitan Counties</td>\n",
              "      <td>Alameda</td>\n",
              "      <td>510</td>\n",
              "      <td>6.0</td>\n",
              "      <td>13.0</td>\n",
              "      <td>NaN</td>\n",
              "      <td>177</td>\n",
              "      <td>314</td>\n",
              "      <td>2,077</td>\n",
              "      <td>463</td>\n",
              "      <td>985</td>\n",
              "      <td>629</td>\n",
              "      <td>11.0</td>\n",
              "    </tr>\n",
              "    <tr>\n",
              "      <th>1</th>\n",
              "      <td>Metropolitan Counties</td>\n",
              "      <td>Butte3</td>\n",
              "      <td>155</td>\n",
              "      <td>4.0</td>\n",
              "      <td>20.0</td>\n",
              "      <td>NaN</td>\n",
              "      <td>14</td>\n",
              "      <td>117</td>\n",
              "      <td>1,422</td>\n",
              "      <td>708</td>\n",
              "      <td>693</td>\n",
              "      <td>21</td>\n",
              "      <td>0.0</td>\n",
              "    </tr>\n",
              "    <tr>\n",
              "      <th>2</th>\n",
              "      <td>Metropolitan Counties</td>\n",
              "      <td>Contra Costa</td>\n",
              "      <td>426</td>\n",
              "      <td>14.0</td>\n",
              "      <td>24.0</td>\n",
              "      <td>NaN</td>\n",
              "      <td>153</td>\n",
              "      <td>235</td>\n",
              "      <td>2,013</td>\n",
              "      <td>660</td>\n",
              "      <td>1,332</td>\n",
              "      <td>21</td>\n",
              "      <td>18.0</td>\n",
              "    </tr>\n",
              "    <tr>\n",
              "      <th>3</th>\n",
              "      <td>Metropolitan Counties</td>\n",
              "      <td>El Dorado3</td>\n",
              "      <td>252</td>\n",
              "      <td>9.0</td>\n",
              "      <td>46.0</td>\n",
              "      <td>NaN</td>\n",
              "      <td>32</td>\n",
              "      <td>165</td>\n",
              "      <td>2,031</td>\n",
              "      <td>577</td>\n",
              "      <td>1,412</td>\n",
              "      <td>42</td>\n",
              "      <td>4.0</td>\n",
              "    </tr>\n",
              "    <tr>\n",
              "      <th>4</th>\n",
              "      <td>Metropolitan Counties</td>\n",
              "      <td>Fresno</td>\n",
              "      <td>962</td>\n",
              "      <td>8.0</td>\n",
              "      <td>32.0</td>\n",
              "      <td>NaN</td>\n",
              "      <td>112</td>\n",
              "      <td>810</td>\n",
              "      <td>3,810</td>\n",
              "      <td>1,398</td>\n",
              "      <td>1,838</td>\n",
              "      <td>574</td>\n",
              "      <td>145.0</td>\n",
              "    </tr>\n",
              "    <tr>\n",
              "      <th>...</th>\n",
              "      <td>...</td>\n",
              "      <td>...</td>\n",
              "      <td>...</td>\n",
              "      <td>...</td>\n",
              "      <td>...</td>\n",
              "      <td>...</td>\n",
              "      <td>...</td>\n",
              "      <td>...</td>\n",
              "      <td>...</td>\n",
              "      <td>...</td>\n",
              "      <td>...</td>\n",
              "      <td>...</td>\n",
              "      <td>...</td>\n",
              "    </tr>\n",
              "    <tr>\n",
              "      <th>2587</th>\n",
              "      <td>NaN</td>\n",
              "      <td>NaN</td>\n",
              "      <td>NaN</td>\n",
              "      <td>NaN</td>\n",
              "      <td>NaN</td>\n",
              "      <td>NaN</td>\n",
              "      <td>NaN</td>\n",
              "      <td>NaN</td>\n",
              "      <td>NaN</td>\n",
              "      <td>NaN</td>\n",
              "      <td>NaN</td>\n",
              "      <td>NaN</td>\n",
              "      <td>NaN</td>\n",
              "    </tr>\n",
              "    <tr>\n",
              "      <th>2588</th>\n",
              "      <td>NaN</td>\n",
              "      <td>NaN</td>\n",
              "      <td>NaN</td>\n",
              "      <td>NaN</td>\n",
              "      <td>NaN</td>\n",
              "      <td>NaN</td>\n",
              "      <td>NaN</td>\n",
              "      <td>NaN</td>\n",
              "      <td>NaN</td>\n",
              "      <td>NaN</td>\n",
              "      <td>NaN</td>\n",
              "      <td>NaN</td>\n",
              "      <td>NaN</td>\n",
              "    </tr>\n",
              "    <tr>\n",
              "      <th>2589</th>\n",
              "      <td>NaN</td>\n",
              "      <td>NaN</td>\n",
              "      <td>NaN</td>\n",
              "      <td>NaN</td>\n",
              "      <td>NaN</td>\n",
              "      <td>NaN</td>\n",
              "      <td>NaN</td>\n",
              "      <td>NaN</td>\n",
              "      <td>NaN</td>\n",
              "      <td>NaN</td>\n",
              "      <td>NaN</td>\n",
              "      <td>NaN</td>\n",
              "      <td>NaN</td>\n",
              "    </tr>\n",
              "    <tr>\n",
              "      <th>2590</th>\n",
              "      <td>NaN</td>\n",
              "      <td>NaN</td>\n",
              "      <td>NaN</td>\n",
              "      <td>NaN</td>\n",
              "      <td>NaN</td>\n",
              "      <td>NaN</td>\n",
              "      <td>NaN</td>\n",
              "      <td>NaN</td>\n",
              "      <td>NaN</td>\n",
              "      <td>NaN</td>\n",
              "      <td>NaN</td>\n",
              "      <td>NaN</td>\n",
              "      <td>NaN</td>\n",
              "    </tr>\n",
              "    <tr>\n",
              "      <th>2591</th>\n",
              "      <td>NaN</td>\n",
              "      <td>NaN</td>\n",
              "      <td>NaN</td>\n",
              "      <td>NaN</td>\n",
              "      <td>NaN</td>\n",
              "      <td>NaN</td>\n",
              "      <td>NaN</td>\n",
              "      <td>NaN</td>\n",
              "      <td>NaN</td>\n",
              "      <td>NaN</td>\n",
              "      <td>NaN</td>\n",
              "      <td>NaN</td>\n",
              "      <td>NaN</td>\n",
              "    </tr>\n",
              "  </tbody>\n",
              "</table>\n",
              "<p>2592 rows × 13 columns</p>\n",
              "</div>\n",
              "    <div class=\"colab-df-buttons\">\n",
              "\n",
              "  <div class=\"colab-df-container\">\n",
              "    <button class=\"colab-df-convert\" onclick=\"convertToInteractive('df-ae2192a1-c40c-4dfe-ae55-e826923a1e3d')\"\n",
              "            title=\"Convert this dataframe to an interactive table.\"\n",
              "            style=\"display:none;\">\n",
              "\n",
              "  <svg xmlns=\"http://www.w3.org/2000/svg\" height=\"24px\" viewBox=\"0 -960 960 960\">\n",
              "    <path d=\"M120-120v-720h720v720H120Zm60-500h600v-160H180v160Zm220 220h160v-160H400v160Zm0 220h160v-160H400v160ZM180-400h160v-160H180v160Zm440 0h160v-160H620v160ZM180-180h160v-160H180v160Zm440 0h160v-160H620v160Z\"/>\n",
              "  </svg>\n",
              "    </button>\n",
              "\n",
              "  <style>\n",
              "    .colab-df-container {\n",
              "      display:flex;\n",
              "      gap: 12px;\n",
              "    }\n",
              "\n",
              "    .colab-df-convert {\n",
              "      background-color: #E8F0FE;\n",
              "      border: none;\n",
              "      border-radius: 50%;\n",
              "      cursor: pointer;\n",
              "      display: none;\n",
              "      fill: #1967D2;\n",
              "      height: 32px;\n",
              "      padding: 0 0 0 0;\n",
              "      width: 32px;\n",
              "    }\n",
              "\n",
              "    .colab-df-convert:hover {\n",
              "      background-color: #E2EBFA;\n",
              "      box-shadow: 0px 1px 2px rgba(60, 64, 67, 0.3), 0px 1px 3px 1px rgba(60, 64, 67, 0.15);\n",
              "      fill: #174EA6;\n",
              "    }\n",
              "\n",
              "    .colab-df-buttons div {\n",
              "      margin-bottom: 4px;\n",
              "    }\n",
              "\n",
              "    [theme=dark] .colab-df-convert {\n",
              "      background-color: #3B4455;\n",
              "      fill: #D2E3FC;\n",
              "    }\n",
              "\n",
              "    [theme=dark] .colab-df-convert:hover {\n",
              "      background-color: #434B5C;\n",
              "      box-shadow: 0px 1px 3px 1px rgba(0, 0, 0, 0.15);\n",
              "      filter: drop-shadow(0px 1px 2px rgba(0, 0, 0, 0.3));\n",
              "      fill: #FFFFFF;\n",
              "    }\n",
              "  </style>\n",
              "\n",
              "    <script>\n",
              "      const buttonEl =\n",
              "        document.querySelector('#df-ae2192a1-c40c-4dfe-ae55-e826923a1e3d button.colab-df-convert');\n",
              "      buttonEl.style.display =\n",
              "        google.colab.kernel.accessAllowed ? 'block' : 'none';\n",
              "\n",
              "      async function convertToInteractive(key) {\n",
              "        const element = document.querySelector('#df-ae2192a1-c40c-4dfe-ae55-e826923a1e3d');\n",
              "        const dataTable =\n",
              "          await google.colab.kernel.invokeFunction('convertToInteractive',\n",
              "                                                    [key], {});\n",
              "        if (!dataTable) return;\n",
              "\n",
              "        const docLinkHtml = 'Like what you see? Visit the ' +\n",
              "          '<a target=\"_blank\" href=https://colab.research.google.com/notebooks/data_table.ipynb>data table notebook</a>'\n",
              "          + ' to learn more about interactive tables.';\n",
              "        element.innerHTML = '';\n",
              "        dataTable['output_type'] = 'display_data';\n",
              "        await google.colab.output.renderOutput(dataTable, element);\n",
              "        const docLink = document.createElement('div');\n",
              "        docLink.innerHTML = docLinkHtml;\n",
              "        element.appendChild(docLink);\n",
              "      }\n",
              "    </script>\n",
              "  </div>\n",
              "\n",
              "\n",
              "<div id=\"df-e49fc8d3-a78d-41f0-b18f-da29ac98c3f6\">\n",
              "  <button class=\"colab-df-quickchart\" onclick=\"quickchart('df-e49fc8d3-a78d-41f0-b18f-da29ac98c3f6')\"\n",
              "            title=\"Suggest charts\"\n",
              "            style=\"display:none;\">\n",
              "\n",
              "<svg xmlns=\"http://www.w3.org/2000/svg\" height=\"24px\"viewBox=\"0 0 24 24\"\n",
              "     width=\"24px\">\n",
              "    <g>\n",
              "        <path d=\"M19 3H5c-1.1 0-2 .9-2 2v14c0 1.1.9 2 2 2h14c1.1 0 2-.9 2-2V5c0-1.1-.9-2-2-2zM9 17H7v-7h2v7zm4 0h-2V7h2v10zm4 0h-2v-4h2v4z\"/>\n",
              "    </g>\n",
              "</svg>\n",
              "  </button>\n",
              "\n",
              "<style>\n",
              "  .colab-df-quickchart {\n",
              "      --bg-color: #E8F0FE;\n",
              "      --fill-color: #1967D2;\n",
              "      --hover-bg-color: #E2EBFA;\n",
              "      --hover-fill-color: #174EA6;\n",
              "      --disabled-fill-color: #AAA;\n",
              "      --disabled-bg-color: #DDD;\n",
              "  }\n",
              "\n",
              "  [theme=dark] .colab-df-quickchart {\n",
              "      --bg-color: #3B4455;\n",
              "      --fill-color: #D2E3FC;\n",
              "      --hover-bg-color: #434B5C;\n",
              "      --hover-fill-color: #FFFFFF;\n",
              "      --disabled-bg-color: #3B4455;\n",
              "      --disabled-fill-color: #666;\n",
              "  }\n",
              "\n",
              "  .colab-df-quickchart {\n",
              "    background-color: var(--bg-color);\n",
              "    border: none;\n",
              "    border-radius: 50%;\n",
              "    cursor: pointer;\n",
              "    display: none;\n",
              "    fill: var(--fill-color);\n",
              "    height: 32px;\n",
              "    padding: 0;\n",
              "    width: 32px;\n",
              "  }\n",
              "\n",
              "  .colab-df-quickchart:hover {\n",
              "    background-color: var(--hover-bg-color);\n",
              "    box-shadow: 0 1px 2px rgba(60, 64, 67, 0.3), 0 1px 3px 1px rgba(60, 64, 67, 0.15);\n",
              "    fill: var(--button-hover-fill-color);\n",
              "  }\n",
              "\n",
              "  .colab-df-quickchart-complete:disabled,\n",
              "  .colab-df-quickchart-complete:disabled:hover {\n",
              "    background-color: var(--disabled-bg-color);\n",
              "    fill: var(--disabled-fill-color);\n",
              "    box-shadow: none;\n",
              "  }\n",
              "\n",
              "  .colab-df-spinner {\n",
              "    border: 2px solid var(--fill-color);\n",
              "    border-color: transparent;\n",
              "    border-bottom-color: var(--fill-color);\n",
              "    animation:\n",
              "      spin 1s steps(1) infinite;\n",
              "  }\n",
              "\n",
              "  @keyframes spin {\n",
              "    0% {\n",
              "      border-color: transparent;\n",
              "      border-bottom-color: var(--fill-color);\n",
              "      border-left-color: var(--fill-color);\n",
              "    }\n",
              "    20% {\n",
              "      border-color: transparent;\n",
              "      border-left-color: var(--fill-color);\n",
              "      border-top-color: var(--fill-color);\n",
              "    }\n",
              "    30% {\n",
              "      border-color: transparent;\n",
              "      border-left-color: var(--fill-color);\n",
              "      border-top-color: var(--fill-color);\n",
              "      border-right-color: var(--fill-color);\n",
              "    }\n",
              "    40% {\n",
              "      border-color: transparent;\n",
              "      border-right-color: var(--fill-color);\n",
              "      border-top-color: var(--fill-color);\n",
              "    }\n",
              "    60% {\n",
              "      border-color: transparent;\n",
              "      border-right-color: var(--fill-color);\n",
              "    }\n",
              "    80% {\n",
              "      border-color: transparent;\n",
              "      border-right-color: var(--fill-color);\n",
              "      border-bottom-color: var(--fill-color);\n",
              "    }\n",
              "    90% {\n",
              "      border-color: transparent;\n",
              "      border-bottom-color: var(--fill-color);\n",
              "    }\n",
              "  }\n",
              "</style>\n",
              "\n",
              "  <script>\n",
              "    async function quickchart(key) {\n",
              "      const quickchartButtonEl =\n",
              "        document.querySelector('#' + key + ' button');\n",
              "      quickchartButtonEl.disabled = true;  // To prevent multiple clicks.\n",
              "      quickchartButtonEl.classList.add('colab-df-spinner');\n",
              "      try {\n",
              "        const charts = await google.colab.kernel.invokeFunction(\n",
              "            'suggestCharts', [key], {});\n",
              "      } catch (error) {\n",
              "        console.error('Error during call to suggestCharts:', error);\n",
              "      }\n",
              "      quickchartButtonEl.classList.remove('colab-df-spinner');\n",
              "      quickchartButtonEl.classList.add('colab-df-quickchart-complete');\n",
              "    }\n",
              "    (() => {\n",
              "      let quickchartButtonEl =\n",
              "        document.querySelector('#df-e49fc8d3-a78d-41f0-b18f-da29ac98c3f6 button');\n",
              "      quickchartButtonEl.style.display =\n",
              "        google.colab.kernel.accessAllowed ? 'block' : 'none';\n",
              "    })();\n",
              "  </script>\n",
              "</div>\n",
              "    </div>\n",
              "  </div>\n"
            ]
          },
          "metadata": {},
          "execution_count": 38
        }
      ]
    },
    {
      "cell_type": "code",
      "source": [
        "describe = df.describe()\n",
        "describe"
      ],
      "metadata": {
        "colab": {
          "base_uri": "https://localhost:8080/",
          "height": 300
        },
        "id": "cffiugsYQL7e",
        "outputId": "8ada8c1c-ec24-4844-c9ca-2c600a609aac"
      },
      "execution_count": null,
      "outputs": [
        {
          "output_type": "execute_result",
          "data": {
            "text/plain": [
              "       Murder and nonnegligent manslaughter  Rape (revised definition)  \\\n",
              "count                             57.000000                  57.000000   \n",
              "mean                               6.614035                  32.385965   \n",
              "std                               14.315020                  49.598659   \n",
              "min                                0.000000                   0.000000   \n",
              "25%                                1.000000                   7.000000   \n",
              "50%                                3.000000                  18.000000   \n",
              "75%                                6.000000                  32.000000   \n",
              "max                               98.000000                 304.000000   \n",
              "\n",
              "       Rape(legacy definition)       Arson  \n",
              "count                      0.0   57.000000  \n",
              "mean                       NaN   20.526316  \n",
              "std                        NaN   50.934519  \n",
              "min                        NaN    0.000000  \n",
              "25%                        NaN    0.000000  \n",
              "50%                        NaN    6.000000  \n",
              "75%                        NaN   15.000000  \n",
              "max                        NaN  300.000000  "
            ],
            "text/html": [
              "\n",
              "  <div id=\"df-48fde32a-e0de-4b33-9174-0f66eb3129fc\" class=\"colab-df-container\">\n",
              "    <div>\n",
              "<style scoped>\n",
              "    .dataframe tbody tr th:only-of-type {\n",
              "        vertical-align: middle;\n",
              "    }\n",
              "\n",
              "    .dataframe tbody tr th {\n",
              "        vertical-align: top;\n",
              "    }\n",
              "\n",
              "    .dataframe thead th {\n",
              "        text-align: right;\n",
              "    }\n",
              "</style>\n",
              "<table border=\"1\" class=\"dataframe\">\n",
              "  <thead>\n",
              "    <tr style=\"text-align: right;\">\n",
              "      <th></th>\n",
              "      <th>Murder and nonnegligent manslaughter</th>\n",
              "      <th>Rape (revised definition)</th>\n",
              "      <th>Rape(legacy definition)</th>\n",
              "      <th>Arson</th>\n",
              "    </tr>\n",
              "  </thead>\n",
              "  <tbody>\n",
              "    <tr>\n",
              "      <th>count</th>\n",
              "      <td>57.000000</td>\n",
              "      <td>57.000000</td>\n",
              "      <td>0.0</td>\n",
              "      <td>57.000000</td>\n",
              "    </tr>\n",
              "    <tr>\n",
              "      <th>mean</th>\n",
              "      <td>6.614035</td>\n",
              "      <td>32.385965</td>\n",
              "      <td>NaN</td>\n",
              "      <td>20.526316</td>\n",
              "    </tr>\n",
              "    <tr>\n",
              "      <th>std</th>\n",
              "      <td>14.315020</td>\n",
              "      <td>49.598659</td>\n",
              "      <td>NaN</td>\n",
              "      <td>50.934519</td>\n",
              "    </tr>\n",
              "    <tr>\n",
              "      <th>min</th>\n",
              "      <td>0.000000</td>\n",
              "      <td>0.000000</td>\n",
              "      <td>NaN</td>\n",
              "      <td>0.000000</td>\n",
              "    </tr>\n",
              "    <tr>\n",
              "      <th>25%</th>\n",
              "      <td>1.000000</td>\n",
              "      <td>7.000000</td>\n",
              "      <td>NaN</td>\n",
              "      <td>0.000000</td>\n",
              "    </tr>\n",
              "    <tr>\n",
              "      <th>50%</th>\n",
              "      <td>3.000000</td>\n",
              "      <td>18.000000</td>\n",
              "      <td>NaN</td>\n",
              "      <td>6.000000</td>\n",
              "    </tr>\n",
              "    <tr>\n",
              "      <th>75%</th>\n",
              "      <td>6.000000</td>\n",
              "      <td>32.000000</td>\n",
              "      <td>NaN</td>\n",
              "      <td>15.000000</td>\n",
              "    </tr>\n",
              "    <tr>\n",
              "      <th>max</th>\n",
              "      <td>98.000000</td>\n",
              "      <td>304.000000</td>\n",
              "      <td>NaN</td>\n",
              "      <td>300.000000</td>\n",
              "    </tr>\n",
              "  </tbody>\n",
              "</table>\n",
              "</div>\n",
              "    <div class=\"colab-df-buttons\">\n",
              "\n",
              "  <div class=\"colab-df-container\">\n",
              "    <button class=\"colab-df-convert\" onclick=\"convertToInteractive('df-48fde32a-e0de-4b33-9174-0f66eb3129fc')\"\n",
              "            title=\"Convert this dataframe to an interactive table.\"\n",
              "            style=\"display:none;\">\n",
              "\n",
              "  <svg xmlns=\"http://www.w3.org/2000/svg\" height=\"24px\" viewBox=\"0 -960 960 960\">\n",
              "    <path d=\"M120-120v-720h720v720H120Zm60-500h600v-160H180v160Zm220 220h160v-160H400v160Zm0 220h160v-160H400v160ZM180-400h160v-160H180v160Zm440 0h160v-160H620v160ZM180-180h160v-160H180v160Zm440 0h160v-160H620v160Z\"/>\n",
              "  </svg>\n",
              "    </button>\n",
              "\n",
              "  <style>\n",
              "    .colab-df-container {\n",
              "      display:flex;\n",
              "      gap: 12px;\n",
              "    }\n",
              "\n",
              "    .colab-df-convert {\n",
              "      background-color: #E8F0FE;\n",
              "      border: none;\n",
              "      border-radius: 50%;\n",
              "      cursor: pointer;\n",
              "      display: none;\n",
              "      fill: #1967D2;\n",
              "      height: 32px;\n",
              "      padding: 0 0 0 0;\n",
              "      width: 32px;\n",
              "    }\n",
              "\n",
              "    .colab-df-convert:hover {\n",
              "      background-color: #E2EBFA;\n",
              "      box-shadow: 0px 1px 2px rgba(60, 64, 67, 0.3), 0px 1px 3px 1px rgba(60, 64, 67, 0.15);\n",
              "      fill: #174EA6;\n",
              "    }\n",
              "\n",
              "    .colab-df-buttons div {\n",
              "      margin-bottom: 4px;\n",
              "    }\n",
              "\n",
              "    [theme=dark] .colab-df-convert {\n",
              "      background-color: #3B4455;\n",
              "      fill: #D2E3FC;\n",
              "    }\n",
              "\n",
              "    [theme=dark] .colab-df-convert:hover {\n",
              "      background-color: #434B5C;\n",
              "      box-shadow: 0px 1px 3px 1px rgba(0, 0, 0, 0.15);\n",
              "      filter: drop-shadow(0px 1px 2px rgba(0, 0, 0, 0.3));\n",
              "      fill: #FFFFFF;\n",
              "    }\n",
              "  </style>\n",
              "\n",
              "    <script>\n",
              "      const buttonEl =\n",
              "        document.querySelector('#df-48fde32a-e0de-4b33-9174-0f66eb3129fc button.colab-df-convert');\n",
              "      buttonEl.style.display =\n",
              "        google.colab.kernel.accessAllowed ? 'block' : 'none';\n",
              "\n",
              "      async function convertToInteractive(key) {\n",
              "        const element = document.querySelector('#df-48fde32a-e0de-4b33-9174-0f66eb3129fc');\n",
              "        const dataTable =\n",
              "          await google.colab.kernel.invokeFunction('convertToInteractive',\n",
              "                                                    [key], {});\n",
              "        if (!dataTable) return;\n",
              "\n",
              "        const docLinkHtml = 'Like what you see? Visit the ' +\n",
              "          '<a target=\"_blank\" href=https://colab.research.google.com/notebooks/data_table.ipynb>data table notebook</a>'\n",
              "          + ' to learn more about interactive tables.';\n",
              "        element.innerHTML = '';\n",
              "        dataTable['output_type'] = 'display_data';\n",
              "        await google.colab.output.renderOutput(dataTable, element);\n",
              "        const docLink = document.createElement('div');\n",
              "        docLink.innerHTML = docLinkHtml;\n",
              "        element.appendChild(docLink);\n",
              "      }\n",
              "    </script>\n",
              "  </div>\n",
              "\n",
              "\n",
              "<div id=\"df-5d7eb844-6021-4eae-a572-13377699d189\">\n",
              "  <button class=\"colab-df-quickchart\" onclick=\"quickchart('df-5d7eb844-6021-4eae-a572-13377699d189')\"\n",
              "            title=\"Suggest charts\"\n",
              "            style=\"display:none;\">\n",
              "\n",
              "<svg xmlns=\"http://www.w3.org/2000/svg\" height=\"24px\"viewBox=\"0 0 24 24\"\n",
              "     width=\"24px\">\n",
              "    <g>\n",
              "        <path d=\"M19 3H5c-1.1 0-2 .9-2 2v14c0 1.1.9 2 2 2h14c1.1 0 2-.9 2-2V5c0-1.1-.9-2-2-2zM9 17H7v-7h2v7zm4 0h-2V7h2v10zm4 0h-2v-4h2v4z\"/>\n",
              "    </g>\n",
              "</svg>\n",
              "  </button>\n",
              "\n",
              "<style>\n",
              "  .colab-df-quickchart {\n",
              "      --bg-color: #E8F0FE;\n",
              "      --fill-color: #1967D2;\n",
              "      --hover-bg-color: #E2EBFA;\n",
              "      --hover-fill-color: #174EA6;\n",
              "      --disabled-fill-color: #AAA;\n",
              "      --disabled-bg-color: #DDD;\n",
              "  }\n",
              "\n",
              "  [theme=dark] .colab-df-quickchart {\n",
              "      --bg-color: #3B4455;\n",
              "      --fill-color: #D2E3FC;\n",
              "      --hover-bg-color: #434B5C;\n",
              "      --hover-fill-color: #FFFFFF;\n",
              "      --disabled-bg-color: #3B4455;\n",
              "      --disabled-fill-color: #666;\n",
              "  }\n",
              "\n",
              "  .colab-df-quickchart {\n",
              "    background-color: var(--bg-color);\n",
              "    border: none;\n",
              "    border-radius: 50%;\n",
              "    cursor: pointer;\n",
              "    display: none;\n",
              "    fill: var(--fill-color);\n",
              "    height: 32px;\n",
              "    padding: 0;\n",
              "    width: 32px;\n",
              "  }\n",
              "\n",
              "  .colab-df-quickchart:hover {\n",
              "    background-color: var(--hover-bg-color);\n",
              "    box-shadow: 0 1px 2px rgba(60, 64, 67, 0.3), 0 1px 3px 1px rgba(60, 64, 67, 0.15);\n",
              "    fill: var(--button-hover-fill-color);\n",
              "  }\n",
              "\n",
              "  .colab-df-quickchart-complete:disabled,\n",
              "  .colab-df-quickchart-complete:disabled:hover {\n",
              "    background-color: var(--disabled-bg-color);\n",
              "    fill: var(--disabled-fill-color);\n",
              "    box-shadow: none;\n",
              "  }\n",
              "\n",
              "  .colab-df-spinner {\n",
              "    border: 2px solid var(--fill-color);\n",
              "    border-color: transparent;\n",
              "    border-bottom-color: var(--fill-color);\n",
              "    animation:\n",
              "      spin 1s steps(1) infinite;\n",
              "  }\n",
              "\n",
              "  @keyframes spin {\n",
              "    0% {\n",
              "      border-color: transparent;\n",
              "      border-bottom-color: var(--fill-color);\n",
              "      border-left-color: var(--fill-color);\n",
              "    }\n",
              "    20% {\n",
              "      border-color: transparent;\n",
              "      border-left-color: var(--fill-color);\n",
              "      border-top-color: var(--fill-color);\n",
              "    }\n",
              "    30% {\n",
              "      border-color: transparent;\n",
              "      border-left-color: var(--fill-color);\n",
              "      border-top-color: var(--fill-color);\n",
              "      border-right-color: var(--fill-color);\n",
              "    }\n",
              "    40% {\n",
              "      border-color: transparent;\n",
              "      border-right-color: var(--fill-color);\n",
              "      border-top-color: var(--fill-color);\n",
              "    }\n",
              "    60% {\n",
              "      border-color: transparent;\n",
              "      border-right-color: var(--fill-color);\n",
              "    }\n",
              "    80% {\n",
              "      border-color: transparent;\n",
              "      border-right-color: var(--fill-color);\n",
              "      border-bottom-color: var(--fill-color);\n",
              "    }\n",
              "    90% {\n",
              "      border-color: transparent;\n",
              "      border-bottom-color: var(--fill-color);\n",
              "    }\n",
              "  }\n",
              "</style>\n",
              "\n",
              "  <script>\n",
              "    async function quickchart(key) {\n",
              "      const quickchartButtonEl =\n",
              "        document.querySelector('#' + key + ' button');\n",
              "      quickchartButtonEl.disabled = true;  // To prevent multiple clicks.\n",
              "      quickchartButtonEl.classList.add('colab-df-spinner');\n",
              "      try {\n",
              "        const charts = await google.colab.kernel.invokeFunction(\n",
              "            'suggestCharts', [key], {});\n",
              "      } catch (error) {\n",
              "        console.error('Error during call to suggestCharts:', error);\n",
              "      }\n",
              "      quickchartButtonEl.classList.remove('colab-df-spinner');\n",
              "      quickchartButtonEl.classList.add('colab-df-quickchart-complete');\n",
              "    }\n",
              "    (() => {\n",
              "      let quickchartButtonEl =\n",
              "        document.querySelector('#df-5d7eb844-6021-4eae-a572-13377699d189 button');\n",
              "      quickchartButtonEl.style.display =\n",
              "        google.colab.kernel.accessAllowed ? 'block' : 'none';\n",
              "    })();\n",
              "  </script>\n",
              "</div>\n",
              "    </div>\n",
              "  </div>\n"
            ]
          },
          "metadata": {},
          "execution_count": 43
        }
      ]
    },
    {
      "cell_type": "code",
      "source": [
        "mean = df['Murder and nonnegligent manslaughter'].mean()\n",
        "print('среднее:', mean)"
      ],
      "metadata": {
        "id": "ud5DMETOU8hS",
        "colab": {
          "base_uri": "https://localhost:8080/"
        },
        "outputId": "3388c74d-5290-4f7f-97fc-9f25b2287fe8"
      },
      "execution_count": null,
      "outputs": [
        {
          "output_type": "stream",
          "name": "stdout",
          "text": [
            "среднее: 6.614035087719298\n"
          ]
        }
      ]
    },
    {
      "cell_type": "code",
      "source": [
        "median = df['Murder and nonnegligent manslaughter'].median()\n",
        "print('медиана:', median)"
      ],
      "metadata": {
        "id": "TVB8P3FDVwxM",
        "colab": {
          "base_uri": "https://localhost:8080/"
        },
        "outputId": "178f1aa2-64d9-42e2-b30c-8e0a09d3cb8d"
      },
      "execution_count": null,
      "outputs": [
        {
          "output_type": "stream",
          "name": "stdout",
          "text": [
            "медиана: 3.0\n"
          ]
        }
      ]
    },
    {
      "cell_type": "code",
      "source": [
        "mode = df.groupby([\"Metropolitan/Nonmetropolitan\"])[\"Murder and nonnegligent manslaughter\"].agg(pd.Series.mode)\n",
        "print('мода по каждой штуке:\\n', mode)"
      ],
      "metadata": {
        "id": "0xHCgiXCVyhs",
        "colab": {
          "base_uri": "https://localhost:8080/"
        },
        "outputId": "38229eb1-fb87-4cd8-b6a2-b61efda6376c"
      },
      "execution_count": null,
      "outputs": [
        {
          "output_type": "stream",
          "name": "stdout",
          "text": [
            "мода по каждой штуке:\n",
            " Metropolitan/Nonmetropolitan\n",
            "Metropolitan Counties       3.0\n",
            "Nonmetropolitan Counties    0.0\n",
            "Name: Murder and nonnegligent manslaughter, dtype: float64\n"
          ]
        }
      ]
    },
    {
      "cell_type": "code",
      "source": [
        "min = df['Murder and nonnegligent manslaughter'].min()\n",
        "print('минимум:', min)"
      ],
      "metadata": {
        "id": "HprClRfXVzxW",
        "colab": {
          "base_uri": "https://localhost:8080/"
        },
        "outputId": "84c1cd88-6658-4bf1-aa0b-9f2f088c9642"
      },
      "execution_count": null,
      "outputs": [
        {
          "output_type": "stream",
          "name": "stdout",
          "text": [
            "минимум: 0.0\n"
          ]
        }
      ]
    },
    {
      "cell_type": "code",
      "source": [
        "max = df['Murder and nonnegligent manslaughter'].max()\n",
        "print('максимум:', max)"
      ],
      "metadata": {
        "id": "sA2gR7IAV1k3",
        "colab": {
          "base_uri": "https://localhost:8080/"
        },
        "outputId": "fc493aef-58c2-44da-f18f-984b22f3c312"
      },
      "execution_count": null,
      "outputs": [
        {
          "output_type": "stream",
          "name": "stdout",
          "text": [
            "максимум: 98.0\n"
          ]
        }
      ]
    },
    {
      "cell_type": "code",
      "source": [
        "std = df['Murder and nonnegligent manslaughter'].std()\n",
        "print('standart отклонение:', std)"
      ],
      "metadata": {
        "id": "BWeXHW3Vovz4",
        "colab": {
          "base_uri": "https://localhost:8080/"
        },
        "outputId": "53263237-eeb0-4e59-c6b1-619e08534dc1"
      },
      "execution_count": null,
      "outputs": [
        {
          "output_type": "stream",
          "name": "stdout",
          "text": [
            "standart отклонение: 14.31502006630612\n"
          ]
        }
      ]
    },
    {
      "cell_type": "markdown",
      "source": [
        "Вычислите следующие квантили: 25%, 50% (медиана), 75% для числового признака вашего датасета. Затем найдите интерквартильный размах."
      ],
      "metadata": {
        "id": "dZEVd9QIVMyV"
      }
    },
    {
      "cell_type": "code",
      "source": [
        "print(\"25%\")\n",
        "q1 = df['Murder and nonnegligent manslaughter'].quantile(0.25)\n",
        "q1"
      ],
      "metadata": {
        "id": "2UMcBq9dVbVE",
        "colab": {
          "base_uri": "https://localhost:8080/"
        },
        "outputId": "4d169cfc-429c-4d5c-c8c3-b85223058161"
      },
      "execution_count": null,
      "outputs": [
        {
          "output_type": "stream",
          "name": "stdout",
          "text": [
            "25%\n"
          ]
        },
        {
          "output_type": "execute_result",
          "data": {
            "text/plain": [
              "1.0"
            ]
          },
          "metadata": {},
          "execution_count": 33
        }
      ]
    },
    {
      "cell_type": "code",
      "source": [
        "print(\"50%\")\n",
        "q2 = df['Murder and nonnegligent manslaughter'].quantile(0.5)\n",
        "q2"
      ],
      "metadata": {
        "id": "8joJvKduWJsC",
        "colab": {
          "base_uri": "https://localhost:8080/"
        },
        "outputId": "6354c23b-fe84-4cee-e885-71ee7c45e4d1"
      },
      "execution_count": null,
      "outputs": [
        {
          "output_type": "stream",
          "name": "stdout",
          "text": [
            "50%\n"
          ]
        },
        {
          "output_type": "execute_result",
          "data": {
            "text/plain": [
              "3.0"
            ]
          },
          "metadata": {},
          "execution_count": 34
        }
      ]
    },
    {
      "cell_type": "code",
      "source": [
        "print(\"75%\")\n",
        "q3 = df['Murder and nonnegligent manslaughter'].quantile(0.75)\n",
        "q3"
      ],
      "metadata": {
        "id": "pQTQqM3GWLOV",
        "colab": {
          "base_uri": "https://localhost:8080/"
        },
        "outputId": "23d67abf-bd1e-46c0-8b6a-d7a35c1fff8e"
      },
      "execution_count": null,
      "outputs": [
        {
          "output_type": "stream",
          "name": "stdout",
          "text": [
            "75%\n"
          ]
        },
        {
          "output_type": "execute_result",
          "data": {
            "text/plain": [
              "6.0"
            ]
          },
          "metadata": {},
          "execution_count": 35
        }
      ]
    },
    {
      "cell_type": "code",
      "source": [
        "iqr = q3 - q1\n",
        "print('Интерквантильный размах:', iqr)"
      ],
      "metadata": {
        "id": "lAwZHIbfWMmH",
        "colab": {
          "base_uri": "https://localhost:8080/"
        },
        "outputId": "208e223a-cb8c-4f90-82d6-bc3b2f66679d"
      },
      "execution_count": null,
      "outputs": [
        {
          "output_type": "stream",
          "name": "stdout",
          "text": [
            "Интерквантильный размах: 5.0\n"
          ]
        }
      ]
    },
    {
      "cell_type": "markdown",
      "source": [
        "Какие выводы можно сделать исходя из полученных статистических данных?"
      ],
      "metadata": {
        "id": "vm0-5sY4WX2I"
      }
    },
    {
      "cell_type": "markdown",
      "source": [
        "**Ответ здесь**\n",
        "\n",
        "```\n",
        "Судя по моде...\n",
        "В Metropolitan Counties murders (УБИЙСТВА) происходят куда чаще, чем в Nonmetropolitan Counties. (3 против 0)\n",
        "```\n"
      ],
      "metadata": {
        "id": "OnO1hVGyWe8D"
      }
    },
    {
      "cell_type": "markdown",
      "source": [
        "##Основы визуализации"
      ],
      "metadata": {
        "id": "zDISZbQVWk6m"
      }
    },
    {
      "cell_type": "markdown",
      "source": [
        " Постройте гистограмму переменной (X) относительно категориального признака (Y) из своего датасета."
      ],
      "metadata": {
        "id": "aU8cakZvZBuj"
      }
    },
    {
      "cell_type": "code",
      "source": [
        "import plotly.express as px"
      ],
      "metadata": {
        "id": "-uVcZ4GcXgzi"
      },
      "execution_count": null,
      "outputs": []
    },
    {
      "cell_type": "code",
      "source": [
        "histogram = df.groupby([\"County\"])[\"Murder and nonnegligent manslaughter\", \"Metropolitan/Nonmetropolitan\"].agg(pd.Series.sum)\n",
        "px.histogram(histogram, x='Murder and nonnegligent manslaughter', y='Metropolitan/Nonmetropolitan', barmode='group')"
      ],
      "metadata": {
        "id": "9-KTIzdfZLmP",
        "colab": {
          "base_uri": "https://localhost:8080/",
          "height": 615
        },
        "outputId": "f2fcbc19-c1ff-4f7c-b271-f0a2c7a8506e"
      },
      "execution_count": null,
      "outputs": [
        {
          "output_type": "stream",
          "name": "stderr",
          "text": [
            "<ipython-input-48-8bdbceea8669>:1: FutureWarning:\n",
            "\n",
            "Indexing with multiple keys (implicitly converted to a tuple of keys) will be deprecated, use a list instead.\n",
            "\n"
          ]
        },
        {
          "output_type": "display_data",
          "data": {
            "text/html": [
              "<html>\n",
              "<head><meta charset=\"utf-8\" /></head>\n",
              "<body>\n",
              "    <div>            <script src=\"https://cdnjs.cloudflare.com/ajax/libs/mathjax/2.7.5/MathJax.js?config=TeX-AMS-MML_SVG\"></script><script type=\"text/javascript\">if (window.MathJax && window.MathJax.Hub && window.MathJax.Hub.Config) {window.MathJax.Hub.Config({SVG: {font: \"STIX-Web\"}});}</script>                <script type=\"text/javascript\">window.PlotlyConfig = {MathJaxConfig: 'local'};</script>\n",
              "        <script charset=\"utf-8\" src=\"https://cdn.plot.ly/plotly-2.24.1.min.js\"></script>                <div id=\"96d179fe-c92d-4bfd-b9aa-400549561518\" class=\"plotly-graph-div\" style=\"height:525px; width:100%;\"></div>            <script type=\"text/javascript\">                                    window.PLOTLYENV=window.PLOTLYENV || {};                                    if (document.getElementById(\"96d179fe-c92d-4bfd-b9aa-400549561518\")) {                    Plotly.newPlot(                        \"96d179fe-c92d-4bfd-b9aa-400549561518\",                        [{\"alignmentgroup\":\"True\",\"bingroup\":\"y\",\"histfunc\":\"sum\",\"hovertemplate\":\"sum of Murder and nonnegligent manslaughter=%{x}\\u003cbr\\u003eMetropolitan\\u002fNonmetropolitan=%{y}\\u003cextra\\u003e\\u003c\\u002fextra\\u003e\",\"legendgroup\":\"\",\"marker\":{\"color\":\"#636efa\",\"pattern\":{\"shape\":\"\"}},\"name\":\"\",\"offsetgroup\":\"\",\"orientation\":\"h\",\"showlegend\":false,\"x\":[6.0,0.0,1.0,4.0,6.0,0.0,14.0,1.0,9.0,8.0,1.0,7.0,0.0,0.0,31.0,2.0,3.0,0.0,98.0,1.0,3.0,0.0,5.0,10.0,0.0,0.0,5.0,1.0,0.0,2.0,4.0,1.0,12.0,37.0,1.0,18.0,10.0,5.0,3.0,3.0,2.0,4.0,0.0,3.0,0.0,2.0,3.0,5.0,11.0,1.0,3.0,1.0,23.0,0.0,3.0,1.0,3.0],\"xaxis\":\"x\",\"y\":[\"Metropolitan Counties\",\"Nonmetropolitan Counties\",\"Nonmetropolitan Counties\",\"Metropolitan Counties\",\"Nonmetropolitan Counties\",\"Nonmetropolitan Counties\",\"Metropolitan Counties\",\"Nonmetropolitan Counties\",\"Metropolitan Counties\",\"Metropolitan Counties\",\"Nonmetropolitan Counties\",\"Nonmetropolitan Counties\",\"Metropolitan Counties\",\"Nonmetropolitan Counties\",\"Metropolitan Counties\",\"Metropolitan Counties\",\"Nonmetropolitan Counties\",\"Nonmetropolitan Counties\",\"Metropolitan Counties\",\"Metropolitan Counties\",\"Metropolitan Counties\",\"Nonmetropolitan Counties\",\"Nonmetropolitan Counties\",\"Metropolitan Counties\",\"Nonmetropolitan Counties\",\"Nonmetropolitan Counties\",\"Metropolitan Counties\",\"Metropolitan Counties\",\"Nonmetropolitan Counties\",\"Metropolitan Counties\",\"Metropolitan Counties\",\"Nonmetropolitan Counties\",\"Metropolitan Counties\",\"Metropolitan Counties\",\"Metropolitan Counties\",\"Metropolitan Counties\",\"Metropolitan Counties\",\"Metropolitan Counties\",\"Metropolitan Counties\",\"Metropolitan Counties\",\"Metropolitan Counties\",\"Metropolitan Counties\",\"Metropolitan Counties\",\"Metropolitan Counties\",\"Nonmetropolitan Counties\",\"Nonmetropolitan Counties\",\"Metropolitan Counties\",\"Metropolitan Counties\",\"Metropolitan Counties\",\"Metropolitan Counties\",\"Nonmetropolitan Counties\",\"Nonmetropolitan Counties\",\"Metropolitan Counties\",\"Nonmetropolitan Counties\",\"Metropolitan Counties\",\"Metropolitan Counties\",\"Metropolitan Counties\"],\"yaxis\":\"y\",\"type\":\"histogram\"}],                        {\"template\":{\"data\":{\"histogram2dcontour\":[{\"type\":\"histogram2dcontour\",\"colorbar\":{\"outlinewidth\":0,\"ticks\":\"\"},\"colorscale\":[[0.0,\"#0d0887\"],[0.1111111111111111,\"#46039f\"],[0.2222222222222222,\"#7201a8\"],[0.3333333333333333,\"#9c179e\"],[0.4444444444444444,\"#bd3786\"],[0.5555555555555556,\"#d8576b\"],[0.6666666666666666,\"#ed7953\"],[0.7777777777777778,\"#fb9f3a\"],[0.8888888888888888,\"#fdca26\"],[1.0,\"#f0f921\"]]}],\"choropleth\":[{\"type\":\"choropleth\",\"colorbar\":{\"outlinewidth\":0,\"ticks\":\"\"}}],\"histogram2d\":[{\"type\":\"histogram2d\",\"colorbar\":{\"outlinewidth\":0,\"ticks\":\"\"},\"colorscale\":[[0.0,\"#0d0887\"],[0.1111111111111111,\"#46039f\"],[0.2222222222222222,\"#7201a8\"],[0.3333333333333333,\"#9c179e\"],[0.4444444444444444,\"#bd3786\"],[0.5555555555555556,\"#d8576b\"],[0.6666666666666666,\"#ed7953\"],[0.7777777777777778,\"#fb9f3a\"],[0.8888888888888888,\"#fdca26\"],[1.0,\"#f0f921\"]]}],\"heatmap\":[{\"type\":\"heatmap\",\"colorbar\":{\"outlinewidth\":0,\"ticks\":\"\"},\"colorscale\":[[0.0,\"#0d0887\"],[0.1111111111111111,\"#46039f\"],[0.2222222222222222,\"#7201a8\"],[0.3333333333333333,\"#9c179e\"],[0.4444444444444444,\"#bd3786\"],[0.5555555555555556,\"#d8576b\"],[0.6666666666666666,\"#ed7953\"],[0.7777777777777778,\"#fb9f3a\"],[0.8888888888888888,\"#fdca26\"],[1.0,\"#f0f921\"]]}],\"heatmapgl\":[{\"type\":\"heatmapgl\",\"colorbar\":{\"outlinewidth\":0,\"ticks\":\"\"},\"colorscale\":[[0.0,\"#0d0887\"],[0.1111111111111111,\"#46039f\"],[0.2222222222222222,\"#7201a8\"],[0.3333333333333333,\"#9c179e\"],[0.4444444444444444,\"#bd3786\"],[0.5555555555555556,\"#d8576b\"],[0.6666666666666666,\"#ed7953\"],[0.7777777777777778,\"#fb9f3a\"],[0.8888888888888888,\"#fdca26\"],[1.0,\"#f0f921\"]]}],\"contourcarpet\":[{\"type\":\"contourcarpet\",\"colorbar\":{\"outlinewidth\":0,\"ticks\":\"\"}}],\"contour\":[{\"type\":\"contour\",\"colorbar\":{\"outlinewidth\":0,\"ticks\":\"\"},\"colorscale\":[[0.0,\"#0d0887\"],[0.1111111111111111,\"#46039f\"],[0.2222222222222222,\"#7201a8\"],[0.3333333333333333,\"#9c179e\"],[0.4444444444444444,\"#bd3786\"],[0.5555555555555556,\"#d8576b\"],[0.6666666666666666,\"#ed7953\"],[0.7777777777777778,\"#fb9f3a\"],[0.8888888888888888,\"#fdca26\"],[1.0,\"#f0f921\"]]}],\"surface\":[{\"type\":\"surface\",\"colorbar\":{\"outlinewidth\":0,\"ticks\":\"\"},\"colorscale\":[[0.0,\"#0d0887\"],[0.1111111111111111,\"#46039f\"],[0.2222222222222222,\"#7201a8\"],[0.3333333333333333,\"#9c179e\"],[0.4444444444444444,\"#bd3786\"],[0.5555555555555556,\"#d8576b\"],[0.6666666666666666,\"#ed7953\"],[0.7777777777777778,\"#fb9f3a\"],[0.8888888888888888,\"#fdca26\"],[1.0,\"#f0f921\"]]}],\"mesh3d\":[{\"type\":\"mesh3d\",\"colorbar\":{\"outlinewidth\":0,\"ticks\":\"\"}}],\"scatter\":[{\"fillpattern\":{\"fillmode\":\"overlay\",\"size\":10,\"solidity\":0.2},\"type\":\"scatter\"}],\"parcoords\":[{\"type\":\"parcoords\",\"line\":{\"colorbar\":{\"outlinewidth\":0,\"ticks\":\"\"}}}],\"scatterpolargl\":[{\"type\":\"scatterpolargl\",\"marker\":{\"colorbar\":{\"outlinewidth\":0,\"ticks\":\"\"}}}],\"bar\":[{\"error_x\":{\"color\":\"#2a3f5f\"},\"error_y\":{\"color\":\"#2a3f5f\"},\"marker\":{\"line\":{\"color\":\"#E5ECF6\",\"width\":0.5},\"pattern\":{\"fillmode\":\"overlay\",\"size\":10,\"solidity\":0.2}},\"type\":\"bar\"}],\"scattergeo\":[{\"type\":\"scattergeo\",\"marker\":{\"colorbar\":{\"outlinewidth\":0,\"ticks\":\"\"}}}],\"scatterpolar\":[{\"type\":\"scatterpolar\",\"marker\":{\"colorbar\":{\"outlinewidth\":0,\"ticks\":\"\"}}}],\"histogram\":[{\"marker\":{\"pattern\":{\"fillmode\":\"overlay\",\"size\":10,\"solidity\":0.2}},\"type\":\"histogram\"}],\"scattergl\":[{\"type\":\"scattergl\",\"marker\":{\"colorbar\":{\"outlinewidth\":0,\"ticks\":\"\"}}}],\"scatter3d\":[{\"type\":\"scatter3d\",\"line\":{\"colorbar\":{\"outlinewidth\":0,\"ticks\":\"\"}},\"marker\":{\"colorbar\":{\"outlinewidth\":0,\"ticks\":\"\"}}}],\"scattermapbox\":[{\"type\":\"scattermapbox\",\"marker\":{\"colorbar\":{\"outlinewidth\":0,\"ticks\":\"\"}}}],\"scatterternary\":[{\"type\":\"scatterternary\",\"marker\":{\"colorbar\":{\"outlinewidth\":0,\"ticks\":\"\"}}}],\"scattercarpet\":[{\"type\":\"scattercarpet\",\"marker\":{\"colorbar\":{\"outlinewidth\":0,\"ticks\":\"\"}}}],\"carpet\":[{\"aaxis\":{\"endlinecolor\":\"#2a3f5f\",\"gridcolor\":\"white\",\"linecolor\":\"white\",\"minorgridcolor\":\"white\",\"startlinecolor\":\"#2a3f5f\"},\"baxis\":{\"endlinecolor\":\"#2a3f5f\",\"gridcolor\":\"white\",\"linecolor\":\"white\",\"minorgridcolor\":\"white\",\"startlinecolor\":\"#2a3f5f\"},\"type\":\"carpet\"}],\"table\":[{\"cells\":{\"fill\":{\"color\":\"#EBF0F8\"},\"line\":{\"color\":\"white\"}},\"header\":{\"fill\":{\"color\":\"#C8D4E3\"},\"line\":{\"color\":\"white\"}},\"type\":\"table\"}],\"barpolar\":[{\"marker\":{\"line\":{\"color\":\"#E5ECF6\",\"width\":0.5},\"pattern\":{\"fillmode\":\"overlay\",\"size\":10,\"solidity\":0.2}},\"type\":\"barpolar\"}],\"pie\":[{\"automargin\":true,\"type\":\"pie\"}]},\"layout\":{\"autotypenumbers\":\"strict\",\"colorway\":[\"#636efa\",\"#EF553B\",\"#00cc96\",\"#ab63fa\",\"#FFA15A\",\"#19d3f3\",\"#FF6692\",\"#B6E880\",\"#FF97FF\",\"#FECB52\"],\"font\":{\"color\":\"#2a3f5f\"},\"hovermode\":\"closest\",\"hoverlabel\":{\"align\":\"left\"},\"paper_bgcolor\":\"white\",\"plot_bgcolor\":\"#E5ECF6\",\"polar\":{\"bgcolor\":\"#E5ECF6\",\"angularaxis\":{\"gridcolor\":\"white\",\"linecolor\":\"white\",\"ticks\":\"\"},\"radialaxis\":{\"gridcolor\":\"white\",\"linecolor\":\"white\",\"ticks\":\"\"}},\"ternary\":{\"bgcolor\":\"#E5ECF6\",\"aaxis\":{\"gridcolor\":\"white\",\"linecolor\":\"white\",\"ticks\":\"\"},\"baxis\":{\"gridcolor\":\"white\",\"linecolor\":\"white\",\"ticks\":\"\"},\"caxis\":{\"gridcolor\":\"white\",\"linecolor\":\"white\",\"ticks\":\"\"}},\"coloraxis\":{\"colorbar\":{\"outlinewidth\":0,\"ticks\":\"\"}},\"colorscale\":{\"sequential\":[[0.0,\"#0d0887\"],[0.1111111111111111,\"#46039f\"],[0.2222222222222222,\"#7201a8\"],[0.3333333333333333,\"#9c179e\"],[0.4444444444444444,\"#bd3786\"],[0.5555555555555556,\"#d8576b\"],[0.6666666666666666,\"#ed7953\"],[0.7777777777777778,\"#fb9f3a\"],[0.8888888888888888,\"#fdca26\"],[1.0,\"#f0f921\"]],\"sequentialminus\":[[0.0,\"#0d0887\"],[0.1111111111111111,\"#46039f\"],[0.2222222222222222,\"#7201a8\"],[0.3333333333333333,\"#9c179e\"],[0.4444444444444444,\"#bd3786\"],[0.5555555555555556,\"#d8576b\"],[0.6666666666666666,\"#ed7953\"],[0.7777777777777778,\"#fb9f3a\"],[0.8888888888888888,\"#fdca26\"],[1.0,\"#f0f921\"]],\"diverging\":[[0,\"#8e0152\"],[0.1,\"#c51b7d\"],[0.2,\"#de77ae\"],[0.3,\"#f1b6da\"],[0.4,\"#fde0ef\"],[0.5,\"#f7f7f7\"],[0.6,\"#e6f5d0\"],[0.7,\"#b8e186\"],[0.8,\"#7fbc41\"],[0.9,\"#4d9221\"],[1,\"#276419\"]]},\"xaxis\":{\"gridcolor\":\"white\",\"linecolor\":\"white\",\"ticks\":\"\",\"title\":{\"standoff\":15},\"zerolinecolor\":\"white\",\"automargin\":true,\"zerolinewidth\":2},\"yaxis\":{\"gridcolor\":\"white\",\"linecolor\":\"white\",\"ticks\":\"\",\"title\":{\"standoff\":15},\"zerolinecolor\":\"white\",\"automargin\":true,\"zerolinewidth\":2},\"scene\":{\"xaxis\":{\"backgroundcolor\":\"#E5ECF6\",\"gridcolor\":\"white\",\"linecolor\":\"white\",\"showbackground\":true,\"ticks\":\"\",\"zerolinecolor\":\"white\",\"gridwidth\":2},\"yaxis\":{\"backgroundcolor\":\"#E5ECF6\",\"gridcolor\":\"white\",\"linecolor\":\"white\",\"showbackground\":true,\"ticks\":\"\",\"zerolinecolor\":\"white\",\"gridwidth\":2},\"zaxis\":{\"backgroundcolor\":\"#E5ECF6\",\"gridcolor\":\"white\",\"linecolor\":\"white\",\"showbackground\":true,\"ticks\":\"\",\"zerolinecolor\":\"white\",\"gridwidth\":2}},\"shapedefaults\":{\"line\":{\"color\":\"#2a3f5f\"}},\"annotationdefaults\":{\"arrowcolor\":\"#2a3f5f\",\"arrowhead\":0,\"arrowwidth\":1},\"geo\":{\"bgcolor\":\"white\",\"landcolor\":\"#E5ECF6\",\"subunitcolor\":\"white\",\"showland\":true,\"showlakes\":true,\"lakecolor\":\"white\"},\"title\":{\"x\":0.05},\"mapbox\":{\"style\":\"light\"}}},\"xaxis\":{\"anchor\":\"y\",\"domain\":[0.0,1.0],\"title\":{\"text\":\"sum of Murder and nonnegligent manslaughter\"}},\"yaxis\":{\"anchor\":\"x\",\"domain\":[0.0,1.0],\"title\":{\"text\":\"Metropolitan\\u002fNonmetropolitan\"}},\"legend\":{\"tracegroupgap\":0},\"margin\":{\"t\":60},\"barmode\":\"group\"},                        {\"responsive\": true}                    ).then(function(){\n",
              "                            \n",
              "var gd = document.getElementById('96d179fe-c92d-4bfd-b9aa-400549561518');\n",
              "var x = new MutationObserver(function (mutations, observer) {{\n",
              "        var display = window.getComputedStyle(gd).display;\n",
              "        if (!display || display === 'none') {{\n",
              "            console.log([gd, 'removed!']);\n",
              "            Plotly.purge(gd);\n",
              "            observer.disconnect();\n",
              "        }}\n",
              "}});\n",
              "\n",
              "// Listen for the removal of the full notebook cells\n",
              "var notebookContainer = gd.closest('#notebook-container');\n",
              "if (notebookContainer) {{\n",
              "    x.observe(notebookContainer, {childList: true});\n",
              "}}\n",
              "\n",
              "// Listen for the clearing of the current output cell\n",
              "var outputEl = gd.closest('.output');\n",
              "if (outputEl) {{\n",
              "    x.observe(outputEl, {childList: true});\n",
              "}}\n",
              "\n",
              "                        })                };                            </script>        </div>\n",
              "</body>\n",
              "</html>"
            ]
          },
          "metadata": {}
        }
      ]
    },
    {
      "cell_type": "markdown",
      "source": [
        "**Сумма Murder'ов (убийств) больше в Metropolitan, чем в Nonmetropolitan **"
      ],
      "metadata": {
        "id": "c7rg4tXEdsgT"
      }
    },
    {
      "cell_type": "markdown",
      "source": [],
      "metadata": {
        "id": "sT_RUrFLdre9"
      }
    },
    {
      "cell_type": "markdown",
      "source": [
        "Постройте boxplot любого признака из своего датасета.\n",
        "\n",
        "1) boxplot числовой переменной;\n",
        "\n",
        "2) boxplot числовой переменной относительно категориальный переменной;\n",
        "\n",
        "*p.s. Если у вас только один числовой признак, преобразуйте категориальный при помощи LabelEncoder (https://scikit-learn.org/stable/modules/generated/sklearn.preprocessing.LabelEncoder.html)*"
      ],
      "metadata": {
        "id": "zPsEO4m1ZWDy"
      }
    },
    {
      "cell_type": "code",
      "source": [
        "px.box(df['Murder and nonnegligent manslaughter'])"
      ],
      "metadata": {
        "id": "ccJLh1r-Zdne",
        "colab": {
          "base_uri": "https://localhost:8080/",
          "height": 542
        },
        "outputId": "71802c33-a623-4f95-a1f1-92d0a2d075ec"
      },
      "execution_count": null,
      "outputs": [
        {
          "output_type": "display_data",
          "data": {
            "text/html": [
              "<html>\n",
              "<head><meta charset=\"utf-8\" /></head>\n",
              "<body>\n",
              "    <div>            <script src=\"https://cdnjs.cloudflare.com/ajax/libs/mathjax/2.7.5/MathJax.js?config=TeX-AMS-MML_SVG\"></script><script type=\"text/javascript\">if (window.MathJax && window.MathJax.Hub && window.MathJax.Hub.Config) {window.MathJax.Hub.Config({SVG: {font: \"STIX-Web\"}});}</script>                <script type=\"text/javascript\">window.PlotlyConfig = {MathJaxConfig: 'local'};</script>\n",
              "        <script charset=\"utf-8\" src=\"https://cdn.plot.ly/plotly-2.24.1.min.js\"></script>                <div id=\"dbb180e5-2f2c-402a-945a-e60481429a78\" class=\"plotly-graph-div\" style=\"height:525px; width:100%;\"></div>            <script type=\"text/javascript\">                                    window.PLOTLYENV=window.PLOTLYENV || {};                                    if (document.getElementById(\"dbb180e5-2f2c-402a-945a-e60481429a78\")) {                    Plotly.newPlot(                        \"dbb180e5-2f2c-402a-945a-e60481429a78\",                        [{\"alignmentgroup\":\"True\",\"hovertemplate\":\"variable=%{x}\\u003cbr\\u003evalue=%{y}\\u003cextra\\u003e\\u003c\\u002fextra\\u003e\",\"legendgroup\":\"\",\"marker\":{\"color\":\"#636efa\"},\"name\":\"\",\"notched\":false,\"offsetgroup\":\"\",\"orientation\":\"v\",\"showlegend\":false,\"x\":[\"Murder and nonnegligent manslaughter\",\"Murder and nonnegligent manslaughter\",\"Murder and nonnegligent manslaughter\",\"Murder and nonnegligent manslaughter\",\"Murder and nonnegligent manslaughter\",\"Murder and nonnegligent manslaughter\",\"Murder and nonnegligent manslaughter\",\"Murder and nonnegligent manslaughter\",\"Murder and nonnegligent manslaughter\",\"Murder and nonnegligent manslaughter\",\"Murder and nonnegligent manslaughter\",\"Murder and nonnegligent manslaughter\",\"Murder and nonnegligent manslaughter\",\"Murder and nonnegligent manslaughter\",\"Murder and nonnegligent manslaughter\",\"Murder and nonnegligent manslaughter\",\"Murder and nonnegligent manslaughter\",\"Murder and nonnegligent manslaughter\",\"Murder and nonnegligent manslaughter\",\"Murder and nonnegligent manslaughter\",\"Murder and nonnegligent manslaughter\",\"Murder and nonnegligent manslaughter\",\"Murder and nonnegligent manslaughter\",\"Murder and nonnegligent manslaughter\",\"Murder and nonnegligent manslaughter\",\"Murder and nonnegligent manslaughter\",\"Murder and nonnegligent manslaughter\",\"Murder and nonnegligent manslaughter\",\"Murder and nonnegligent manslaughter\",\"Murder and nonnegligent manslaughter\",\"Murder and nonnegligent manslaughter\",\"Murder and nonnegligent manslaughter\",\"Murder and nonnegligent manslaughter\",\"Murder and nonnegligent manslaughter\",\"Murder and nonnegligent manslaughter\",\"Murder and nonnegligent manslaughter\",\"Murder and nonnegligent manslaughter\",\"Murder and nonnegligent manslaughter\",\"Murder and nonnegligent manslaughter\",\"Murder and nonnegligent manslaughter\",\"Murder and nonnegligent manslaughter\",\"Murder and nonnegligent manslaughter\",\"Murder and nonnegligent manslaughter\",\"Murder and nonnegligent manslaughter\",\"Murder and nonnegligent manslaughter\",\"Murder and nonnegligent manslaughter\",\"Murder and nonnegligent manslaughter\",\"Murder and nonnegligent manslaughter\",\"Murder and nonnegligent manslaughter\",\"Murder and nonnegligent manslaughter\",\"Murder and nonnegligent manslaughter\",\"Murder and nonnegligent manslaughter\",\"Murder and nonnegligent manslaughter\",\"Murder and nonnegligent manslaughter\",\"Murder and nonnegligent manslaughter\",\"Murder and nonnegligent manslaughter\",\"Murder and nonnegligent manslaughter\",\"Murder and nonnegligent manslaughter\",\"Murder and nonnegligent manslaughter\",\"Murder and nonnegligent manslaughter\",\"Murder and nonnegligent manslaughter\",\"Murder and nonnegligent manslaughter\",\"Murder and nonnegligent manslaughter\",\"Murder and nonnegligent manslaughter\",\"Murder and nonnegligent manslaughter\",\"Murder and nonnegligent manslaughter\",\"Murder and nonnegligent manslaughter\",\"Murder and nonnegligent manslaughter\",\"Murder and nonnegligent manslaughter\",\"Murder and nonnegligent manslaughter\",\"Murder and nonnegligent manslaughter\",\"Murder and nonnegligent manslaughter\",\"Murder and nonnegligent manslaughter\",\"Murder and nonnegligent manslaughter\",\"Murder and nonnegligent manslaughter\",\"Murder and nonnegligent manslaughter\",\"Murder and nonnegligent manslaughter\",\"Murder and nonnegligent manslaughter\",\"Murder and nonnegligent manslaughter\",\"Murder and nonnegligent manslaughter\",\"Murder and nonnegligent manslaughter\",\"Murder and nonnegligent manslaughter\",\"Murder and nonnegligent manslaughter\",\"Murder and nonnegligent manslaughter\",\"Murder and nonnegligent manslaughter\",\"Murder and nonnegligent manslaughter\",\"Murder and nonnegligent manslaughter\",\"Murder and nonnegligent manslaughter\",\"Murder and nonnegligent manslaughter\",\"Murder and nonnegligent manslaughter\",\"Murder and nonnegligent manslaughter\",\"Murder and nonnegligent manslaughter\",\"Murder and nonnegligent manslaughter\",\"Murder and nonnegligent manslaughter\",\"Murder and nonnegligent manslaughter\",\"Murder and nonnegligent manslaughter\",\"Murder and nonnegligent manslaughter\",\"Murder and nonnegligent manslaughter\",\"Murder and nonnegligent manslaughter\",\"Murder and nonnegligent manslaughter\",\"Murder and nonnegligent manslaughter\",\"Murder and nonnegligent manslaughter\",\"Murder and nonnegligent manslaughter\",\"Murder and nonnegligent manslaughter\",\"Murder and nonnegligent manslaughter\",\"Murder and nonnegligent manslaughter\",\"Murder and nonnegligent manslaughter\",\"Murder and nonnegligent manslaughter\",\"Murder and nonnegligent manslaughter\",\"Murder and nonnegligent manslaughter\",\"Murder and nonnegligent manslaughter\",\"Murder and nonnegligent manslaughter\",\"Murder and nonnegligent manslaughter\",\"Murder and nonnegligent manslaughter\",\"Murder and nonnegligent manslaughter\",\"Murder and nonnegligent manslaughter\",\"Murder and nonnegligent manslaughter\",\"Murder and nonnegligent manslaughter\",\"Murder and nonnegligent manslaughter\",\"Murder and nonnegligent manslaughter\",\"Murder and nonnegligent manslaughter\",\"Murder and nonnegligent manslaughter\",\"Murder and nonnegligent manslaughter\",\"Murder and nonnegligent manslaughter\",\"Murder and nonnegligent manslaughter\",\"Murder and nonnegligent manslaughter\",\"Murder and nonnegligent manslaughter\",\"Murder and nonnegligent manslaughter\",\"Murder and nonnegligent manslaughter\",\"Murder and nonnegligent manslaughter\",\"Murder and nonnegligent manslaughter\",\"Murder and nonnegligent manslaughter\",\"Murder and nonnegligent manslaughter\",\"Murder and nonnegligent manslaughter\",\"Murder and nonnegligent manslaughter\",\"Murder and nonnegligent manslaughter\",\"Murder and nonnegligent manslaughter\",\"Murder and nonnegligent manslaughter\",\"Murder and nonnegligent manslaughter\",\"Murder and nonnegligent manslaughter\",\"Murder and nonnegligent manslaughter\",\"Murder and nonnegligent manslaughter\",\"Murder and nonnegligent manslaughter\",\"Murder and nonnegligent manslaughter\",\"Murder and nonnegligent manslaughter\",\"Murder and nonnegligent manslaughter\",\"Murder and nonnegligent manslaughter\",\"Murder and nonnegligent manslaughter\",\"Murder and nonnegligent manslaughter\",\"Murder and nonnegligent manslaughter\",\"Murder and nonnegligent manslaughter\",\"Murder and nonnegligent manslaughter\",\"Murder and nonnegligent manslaughter\",\"Murder and nonnegligent manslaughter\",\"Murder and nonnegligent manslaughter\",\"Murder and nonnegligent manslaughter\",\"Murder and nonnegligent manslaughter\",\"Murder and nonnegligent manslaughter\",\"Murder and nonnegligent manslaughter\",\"Murder and nonnegligent manslaughter\",\"Murder and nonnegligent manslaughter\",\"Murder and nonnegligent manslaughter\",\"Murder and nonnegligent manslaughter\",\"Murder and nonnegligent manslaughter\",\"Murder and nonnegligent manslaughter\",\"Murder and nonnegligent manslaughter\",\"Murder and nonnegligent manslaughter\",\"Murder and nonnegligent manslaughter\",\"Murder and nonnegligent manslaughter\",\"Murder and nonnegligent manslaughter\",\"Murder and nonnegligent manslaughter\",\"Murder and nonnegligent manslaughter\",\"Murder and nonnegligent manslaughter\",\"Murder and nonnegligent manslaughter\",\"Murder and nonnegligent manslaughter\",\"Murder and nonnegligent manslaughter\",\"Murder and nonnegligent manslaughter\",\"Murder and nonnegligent manslaughter\",\"Murder and nonnegligent manslaughter\",\"Murder and nonnegligent manslaughter\",\"Murder and nonnegligent manslaughter\",\"Murder and nonnegligent manslaughter\",\"Murder and nonnegligent manslaughter\",\"Murder and nonnegligent manslaughter\",\"Murder and nonnegligent manslaughter\",\"Murder and nonnegligent manslaughter\",\"Murder and nonnegligent manslaughter\",\"Murder and nonnegligent manslaughter\",\"Murder and nonnegligent manslaughter\",\"Murder and nonnegligent manslaughter\",\"Murder and nonnegligent manslaughter\",\"Murder and nonnegligent manslaughter\",\"Murder and nonnegligent manslaughter\",\"Murder and nonnegligent manslaughter\",\"Murder and nonnegligent manslaughter\",\"Murder and nonnegligent manslaughter\",\"Murder and nonnegligent manslaughter\",\"Murder and nonnegligent manslaughter\",\"Murder and nonnegligent manslaughter\",\"Murder and nonnegligent manslaughter\",\"Murder and nonnegligent manslaughter\",\"Murder and nonnegligent manslaughter\",\"Murder and nonnegligent manslaughter\",\"Murder and nonnegligent manslaughter\",\"Murder and nonnegligent manslaughter\",\"Murder and nonnegligent manslaughter\",\"Murder and nonnegligent manslaughter\",\"Murder and nonnegligent manslaughter\",\"Murder and nonnegligent manslaughter\",\"Murder and nonnegligent manslaughter\",\"Murder and nonnegligent manslaughter\",\"Murder and nonnegligent manslaughter\",\"Murder and nonnegligent manslaughter\",\"Murder and nonnegligent manslaughter\",\"Murder and nonnegligent manslaughter\",\"Murder and nonnegligent manslaughter\",\"Murder and nonnegligent manslaughter\",\"Murder and nonnegligent manslaughter\",\"Murder and nonnegligent manslaughter\",\"Murder and nonnegligent manslaughter\",\"Murder and nonnegligent manslaughter\",\"Murder and nonnegligent manslaughter\",\"Murder and nonnegligent manslaughter\",\"Murder and nonnegligent manslaughter\",\"Murder and nonnegligent manslaughter\",\"Murder and nonnegligent manslaughter\",\"Murder and nonnegligent manslaughter\",\"Murder and nonnegligent manslaughter\",\"Murder and nonnegligent manslaughter\",\"Murder and nonnegligent manslaughter\",\"Murder and nonnegligent manslaughter\",\"Murder and nonnegligent manslaughter\",\"Murder and nonnegligent manslaughter\",\"Murder and nonnegligent manslaughter\",\"Murder and nonnegligent manslaughter\",\"Murder and nonnegligent manslaughter\",\"Murder and nonnegligent manslaughter\",\"Murder and nonnegligent manslaughter\",\"Murder and nonnegligent manslaughter\",\"Murder and nonnegligent manslaughter\",\"Murder and nonnegligent manslaughter\",\"Murder and nonnegligent manslaughter\",\"Murder and nonnegligent manslaughter\",\"Murder and nonnegligent manslaughter\",\"Murder and nonnegligent manslaughter\",\"Murder and nonnegligent manslaughter\",\"Murder and nonnegligent manslaughter\",\"Murder and nonnegligent manslaughter\",\"Murder and nonnegligent manslaughter\",\"Murder and nonnegligent manslaughter\",\"Murder and nonnegligent manslaughter\",\"Murder and nonnegligent manslaughter\",\"Murder and nonnegligent manslaughter\",\"Murder and nonnegligent manslaughter\",\"Murder and nonnegligent manslaughter\",\"Murder and nonnegligent manslaughter\",\"Murder and nonnegligent manslaughter\",\"Murder and nonnegligent manslaughter\",\"Murder and nonnegligent manslaughter\",\"Murder and nonnegligent manslaughter\",\"Murder and nonnegligent manslaughter\",\"Murder and nonnegligent manslaughter\",\"Murder and nonnegligent manslaughter\",\"Murder and nonnegligent manslaughter\",\"Murder and nonnegligent manslaughter\",\"Murder and nonnegligent manslaughter\",\"Murder and nonnegligent manslaughter\",\"Murder and nonnegligent manslaughter\",\"Murder and nonnegligent manslaughter\",\"Murder and nonnegligent manslaughter\",\"Murder and nonnegligent manslaughter\",\"Murder and nonnegligent manslaughter\",\"Murder and nonnegligent manslaughter\",\"Murder and nonnegligent manslaughter\",\"Murder and nonnegligent manslaughter\",\"Murder and nonnegligent manslaughter\",\"Murder and nonnegligent manslaughter\",\"Murder and nonnegligent manslaughter\",\"Murder and nonnegligent manslaughter\",\"Murder and nonnegligent manslaughter\",\"Murder and nonnegligent manslaughter\",\"Murder and nonnegligent manslaughter\",\"Murder and nonnegligent manslaughter\",\"Murder and nonnegligent manslaughter\",\"Murder and nonnegligent manslaughter\",\"Murder and nonnegligent manslaughter\",\"Murder and nonnegligent manslaughter\",\"Murder and nonnegligent manslaughter\",\"Murder and nonnegligent manslaughter\",\"Murder and nonnegligent manslaughter\",\"Murder and nonnegligent manslaughter\",\"Murder and nonnegligent manslaughter\",\"Murder and nonnegligent manslaughter\",\"Murder and nonnegligent manslaughter\",\"Murder and nonnegligent manslaughter\",\"Murder and nonnegligent manslaughter\",\"Murder and nonnegligent manslaughter\",\"Murder and nonnegligent manslaughter\",\"Murder and nonnegligent manslaughter\",\"Murder and nonnegligent manslaughter\",\"Murder and nonnegligent manslaughter\",\"Murder and nonnegligent manslaughter\",\"Murder and nonnegligent manslaughter\",\"Murder and nonnegligent manslaughter\",\"Murder and nonnegligent manslaughter\",\"Murder and nonnegligent manslaughter\",\"Murder and nonnegligent manslaughter\",\"Murder and nonnegligent manslaughter\",\"Murder and nonnegligent manslaughter\",\"Murder and nonnegligent manslaughter\",\"Murder and nonnegligent manslaughter\",\"Murder and nonnegligent manslaughter\",\"Murder and nonnegligent manslaughter\",\"Murder and nonnegligent manslaughter\",\"Murder and nonnegligent manslaughter\",\"Murder and nonnegligent manslaughter\",\"Murder and nonnegligent manslaughter\",\"Murder and nonnegligent manslaughter\",\"Murder and nonnegligent manslaughter\",\"Murder and nonnegligent manslaughter\",\"Murder and nonnegligent manslaughter\",\"Murder and nonnegligent manslaughter\",\"Murder and nonnegligent manslaughter\",\"Murder and nonnegligent manslaughter\",\"Murder and nonnegligent manslaughter\",\"Murder and nonnegligent manslaughter\",\"Murder and nonnegligent manslaughter\",\"Murder and nonnegligent manslaughter\",\"Murder and nonnegligent manslaughter\",\"Murder and nonnegligent manslaughter\",\"Murder and nonnegligent manslaughter\",\"Murder and nonnegligent manslaughter\",\"Murder and nonnegligent manslaughter\",\"Murder and nonnegligent manslaughter\",\"Murder and nonnegligent manslaughter\",\"Murder and nonnegligent manslaughter\",\"Murder and nonnegligent manslaughter\",\"Murder and nonnegligent manslaughter\",\"Murder and nonnegligent manslaughter\",\"Murder and nonnegligent manslaughter\",\"Murder and nonnegligent manslaughter\",\"Murder and nonnegligent manslaughter\",\"Murder and nonnegligent manslaughter\",\"Murder and nonnegligent manslaughter\",\"Murder and nonnegligent manslaughter\",\"Murder and nonnegligent manslaughter\",\"Murder and nonnegligent manslaughter\",\"Murder and nonnegligent manslaughter\",\"Murder and nonnegligent manslaughter\",\"Murder and nonnegligent manslaughter\",\"Murder and nonnegligent manslaughter\",\"Murder and nonnegligent manslaughter\",\"Murder and nonnegligent manslaughter\",\"Murder and nonnegligent manslaughter\",\"Murder and nonnegligent manslaughter\",\"Murder and nonnegligent manslaughter\",\"Murder and nonnegligent manslaughter\",\"Murder and nonnegligent manslaughter\",\"Murder and nonnegligent manslaughter\",\"Murder and nonnegligent manslaughter\",\"Murder and nonnegligent manslaughter\",\"Murder and nonnegligent manslaughter\",\"Murder and nonnegligent manslaughter\",\"Murder and nonnegligent manslaughter\",\"Murder and nonnegligent manslaughter\",\"Murder and nonnegligent manslaughter\",\"Murder and nonnegligent manslaughter\",\"Murder and nonnegligent manslaughter\",\"Murder and nonnegligent manslaughter\",\"Murder and nonnegligent manslaughter\",\"Murder and nonnegligent manslaughter\",\"Murder and nonnegligent manslaughter\",\"Murder and nonnegligent manslaughter\",\"Murder and nonnegligent manslaughter\",\"Murder and nonnegligent manslaughter\",\"Murder and nonnegligent manslaughter\",\"Murder and nonnegligent manslaughter\",\"Murder and nonnegligent manslaughter\",\"Murder and nonnegligent manslaughter\",\"Murder and nonnegligent manslaughter\",\"Murder and nonnegligent manslaughter\",\"Murder and nonnegligent manslaughter\",\"Murder and nonnegligent manslaughter\",\"Murder and nonnegligent manslaughter\",\"Murder and nonnegligent manslaughter\",\"Murder and nonnegligent manslaughter\",\"Murder and nonnegligent manslaughter\",\"Murder and nonnegligent manslaughter\",\"Murder and nonnegligent manslaughter\",\"Murder and nonnegligent manslaughter\",\"Murder and nonnegligent manslaughter\",\"Murder and nonnegligent manslaughter\",\"Murder and nonnegligent manslaughter\",\"Murder and nonnegligent manslaughter\",\"Murder and nonnegligent manslaughter\",\"Murder and nonnegligent manslaughter\",\"Murder and nonnegligent manslaughter\",\"Murder and nonnegligent manslaughter\",\"Murder and nonnegligent manslaughter\",\"Murder and nonnegligent manslaughter\",\"Murder and nonnegligent manslaughter\",\"Murder and nonnegligent manslaughter\",\"Murder and nonnegligent manslaughter\",\"Murder and nonnegligent manslaughter\",\"Murder and nonnegligent manslaughter\",\"Murder and nonnegligent manslaughter\",\"Murder and nonnegligent manslaughter\",\"Murder and nonnegligent manslaughter\",\"Murder and nonnegligent manslaughter\",\"Murder and nonnegligent manslaughter\",\"Murder and nonnegligent manslaughter\",\"Murder and nonnegligent manslaughter\",\"Murder and nonnegligent manslaughter\",\"Murder and nonnegligent manslaughter\",\"Murder and nonnegligent manslaughter\",\"Murder and nonnegligent manslaughter\",\"Murder and nonnegligent manslaughter\",\"Murder and nonnegligent manslaughter\",\"Murder and nonnegligent manslaughter\",\"Murder and nonnegligent manslaughter\",\"Murder and nonnegligent manslaughter\",\"Murder and nonnegligent manslaughter\",\"Murder and nonnegligent manslaughter\",\"Murder and nonnegligent manslaughter\",\"Murder and nonnegligent manslaughter\",\"Murder and nonnegligent manslaughter\",\"Murder and nonnegligent manslaughter\",\"Murder and nonnegligent manslaughter\",\"Murder and nonnegligent manslaughter\",\"Murder and nonnegligent manslaughter\",\"Murder and nonnegligent manslaughter\",\"Murder and nonnegligent manslaughter\",\"Murder and nonnegligent manslaughter\",\"Murder and nonnegligent manslaughter\",\"Murder and nonnegligent manslaughter\",\"Murder and nonnegligent manslaughter\",\"Murder and nonnegligent manslaughter\",\"Murder and nonnegligent manslaughter\",\"Murder and nonnegligent manslaughter\",\"Murder and nonnegligent manslaughter\",\"Murder and nonnegligent manslaughter\",\"Murder and nonnegligent manslaughter\",\"Murder and nonnegligent manslaughter\",\"Murder and nonnegligent manslaughter\",\"Murder and nonnegligent manslaughter\",\"Murder and nonnegligent manslaughter\",\"Murder and nonnegligent manslaughter\",\"Murder and nonnegligent manslaughter\",\"Murder and nonnegligent manslaughter\",\"Murder and nonnegligent manslaughter\",\"Murder and nonnegligent manslaughter\",\"Murder and nonnegligent manslaughter\",\"Murder and nonnegligent manslaughter\",\"Murder and nonnegligent manslaughter\",\"Murder and nonnegligent manslaughter\",\"Murder and nonnegligent manslaughter\",\"Murder and nonnegligent manslaughter\",\"Murder and nonnegligent manslaughter\",\"Murder and nonnegligent manslaughter\",\"Murder and nonnegligent manslaughter\",\"Murder and nonnegligent manslaughter\",\"Murder and nonnegligent manslaughter\",\"Murder and nonnegligent manslaughter\",\"Murder and nonnegligent manslaughter\",\"Murder and nonnegligent manslaughter\",\"Murder and nonnegligent manslaughter\",\"Murder and nonnegligent manslaughter\",\"Murder and nonnegligent manslaughter\",\"Murder and nonnegligent manslaughter\",\"Murder and nonnegligent manslaughter\",\"Murder and nonnegligent manslaughter\",\"Murder and nonnegligent manslaughter\",\"Murder and nonnegligent manslaughter\",\"Murder and nonnegligent manslaughter\",\"Murder and nonnegligent manslaughter\",\"Murder and nonnegligent manslaughter\",\"Murder and nonnegligent manslaughter\",\"Murder and nonnegligent manslaughter\",\"Murder and nonnegligent manslaughter\",\"Murder and nonnegligent manslaughter\",\"Murder and nonnegligent manslaughter\",\"Murder and nonnegligent manslaughter\",\"Murder and nonnegligent manslaughter\",\"Murder and nonnegligent manslaughter\",\"Murder and nonnegligent manslaughter\",\"Murder and nonnegligent manslaughter\",\"Murder and nonnegligent manslaughter\",\"Murder and nonnegligent manslaughter\",\"Murder and nonnegligent manslaughter\",\"Murder and nonnegligent manslaughter\",\"Murder and nonnegligent manslaughter\",\"Murder and nonnegligent manslaughter\",\"Murder and nonnegligent manslaughter\",\"Murder and nonnegligent manslaughter\",\"Murder and nonnegligent manslaughter\",\"Murder and nonnegligent manslaughter\",\"Murder and nonnegligent manslaughter\",\"Murder and nonnegligent manslaughter\",\"Murder and nonnegligent manslaughter\",\"Murder and nonnegligent manslaughter\",\"Murder and nonnegligent manslaughter\",\"Murder and nonnegligent manslaughter\",\"Murder and nonnegligent manslaughter\",\"Murder and nonnegligent manslaughter\",\"Murder and nonnegligent manslaughter\",\"Murder and nonnegligent manslaughter\",\"Murder and nonnegligent manslaughter\",\"Murder and nonnegligent manslaughter\",\"Murder and nonnegligent manslaughter\",\"Murder and nonnegligent manslaughter\",\"Murder and nonnegligent manslaughter\",\"Murder and nonnegligent manslaughter\",\"Murder and nonnegligent manslaughter\",\"Murder and nonnegligent manslaughter\",\"Murder and nonnegligent manslaughter\",\"Murder and nonnegligent manslaughter\",\"Murder and nonnegligent manslaughter\",\"Murder and nonnegligent manslaughter\",\"Murder and nonnegligent manslaughter\",\"Murder and nonnegligent manslaughter\",\"Murder and nonnegligent manslaughter\",\"Murder and nonnegligent manslaughter\",\"Murder and nonnegligent manslaughter\",\"Murder and nonnegligent manslaughter\",\"Murder and nonnegligent manslaughter\",\"Murder and nonnegligent manslaughter\",\"Murder and nonnegligent manslaughter\",\"Murder and nonnegligent manslaughter\",\"Murder and nonnegligent manslaughter\",\"Murder and nonnegligent manslaughter\",\"Murder and nonnegligent manslaughter\",\"Murder and nonnegligent manslaughter\",\"Murder and nonnegligent manslaughter\",\"Murder and nonnegligent manslaughter\",\"Murder and nonnegligent manslaughter\",\"Murder and nonnegligent manslaughter\",\"Murder and nonnegligent manslaughter\",\"Murder and nonnegligent manslaughter\",\"Murder and nonnegligent manslaughter\",\"Murder and nonnegligent manslaughter\",\"Murder and nonnegligent manslaughter\",\"Murder and nonnegligent manslaughter\",\"Murder and nonnegligent manslaughter\",\"Murder and nonnegligent manslaughter\",\"Murder and nonnegligent manslaughter\",\"Murder and nonnegligent manslaughter\",\"Murder and nonnegligent manslaughter\",\"Murder and nonnegligent manslaughter\",\"Murder and nonnegligent manslaughter\",\"Murder and nonnegligent manslaughter\",\"Murder and nonnegligent manslaughter\",\"Murder and nonnegligent manslaughter\",\"Murder and nonnegligent manslaughter\",\"Murder and nonnegligent manslaughter\",\"Murder and nonnegligent manslaughter\",\"Murder and nonnegligent manslaughter\",\"Murder and nonnegligent manslaughter\",\"Murder and nonnegligent manslaughter\",\"Murder and nonnegligent manslaughter\",\"Murder and nonnegligent manslaughter\",\"Murder and nonnegligent manslaughter\",\"Murder and nonnegligent manslaughter\",\"Murder and nonnegligent manslaughter\",\"Murder and nonnegligent manslaughter\",\"Murder and nonnegligent manslaughter\",\"Murder and nonnegligent manslaughter\",\"Murder and nonnegligent manslaughter\",\"Murder and nonnegligent manslaughter\",\"Murder and nonnegligent manslaughter\",\"Murder and nonnegligent manslaughter\",\"Murder and nonnegligent manslaughter\",\"Murder and nonnegligent manslaughter\",\"Murder and nonnegligent manslaughter\",\"Murder and nonnegligent manslaughter\",\"Murder and nonnegligent manslaughter\",\"Murder and nonnegligent manslaughter\",\"Murder and nonnegligent manslaughter\",\"Murder and nonnegligent manslaughter\",\"Murder and nonnegligent manslaughter\",\"Murder and nonnegligent manslaughter\",\"Murder and nonnegligent manslaughter\",\"Murder and nonnegligent manslaughter\",\"Murder and nonnegligent manslaughter\",\"Murder and nonnegligent manslaughter\",\"Murder and nonnegligent manslaughter\",\"Murder and nonnegligent manslaughter\",\"Murder and nonnegligent manslaughter\",\"Murder and nonnegligent manslaughter\",\"Murder and nonnegligent manslaughter\",\"Murder and nonnegligent manslaughter\",\"Murder and nonnegligent manslaughter\",\"Murder and nonnegligent manslaughter\",\"Murder and nonnegligent manslaughter\",\"Murder and nonnegligent manslaughter\",\"Murder and nonnegligent manslaughter\",\"Murder and nonnegligent manslaughter\",\"Murder and nonnegligent manslaughter\",\"Murder and nonnegligent manslaughter\",\"Murder and nonnegligent manslaughter\",\"Murder and nonnegligent manslaughter\",\"Murder and nonnegligent manslaughter\",\"Murder and nonnegligent manslaughter\",\"Murder and nonnegligent manslaughter\",\"Murder and nonnegligent manslaughter\",\"Murder and nonnegligent manslaughter\",\"Murder and nonnegligent manslaughter\",\"Murder and nonnegligent manslaughter\",\"Murder and nonnegligent manslaughter\",\"Murder and nonnegligent manslaughter\",\"Murder and nonnegligent manslaughter\",\"Murder and nonnegligent manslaughter\",\"Murder and nonnegligent manslaughter\",\"Murder and nonnegligent manslaughter\",\"Murder and nonnegligent manslaughter\",\"Murder and nonnegligent manslaughter\",\"Murder and nonnegligent manslaughter\",\"Murder and nonnegligent manslaughter\",\"Murder and nonnegligent manslaughter\",\"Murder and nonnegligent manslaughter\",\"Murder and nonnegligent manslaughter\",\"Murder and nonnegligent manslaughter\",\"Murder and nonnegligent manslaughter\",\"Murder and nonnegligent manslaughter\",\"Murder and nonnegligent manslaughter\",\"Murder and nonnegligent manslaughter\",\"Murder and nonnegligent manslaughter\",\"Murder and nonnegligent manslaughter\",\"Murder and nonnegligent manslaughter\",\"Murder and nonnegligent manslaughter\",\"Murder and nonnegligent manslaughter\",\"Murder and nonnegligent manslaughter\",\"Murder and nonnegligent manslaughter\",\"Murder and nonnegligent manslaughter\",\"Murder and nonnegligent manslaughter\",\"Murder and nonnegligent manslaughter\",\"Murder and nonnegligent manslaughter\",\"Murder and nonnegligent manslaughter\",\"Murder and nonnegligent manslaughter\",\"Murder and nonnegligent manslaughter\",\"Murder and nonnegligent manslaughter\",\"Murder and nonnegligent manslaughter\",\"Murder and nonnegligent manslaughter\",\"Murder and nonnegligent manslaughter\",\"Murder and nonnegligent manslaughter\",\"Murder and nonnegligent manslaughter\",\"Murder and nonnegligent manslaughter\",\"Murder and nonnegligent manslaughter\",\"Murder and nonnegligent manslaughter\",\"Murder and nonnegligent manslaughter\",\"Murder and nonnegligent manslaughter\",\"Murder and nonnegligent manslaughter\",\"Murder and nonnegligent manslaughter\",\"Murder and nonnegligent manslaughter\",\"Murder and nonnegligent manslaughter\",\"Murder and nonnegligent manslaughter\",\"Murder and nonnegligent manslaughter\",\"Murder and nonnegligent manslaughter\",\"Murder and nonnegligent manslaughter\",\"Murder and nonnegligent manslaughter\",\"Murder and nonnegligent manslaughter\",\"Murder and nonnegligent manslaughter\",\"Murder and nonnegligent manslaughter\",\"Murder and nonnegligent manslaughter\",\"Murder and nonnegligent manslaughter\",\"Murder and nonnegligent manslaughter\",\"Murder and nonnegligent manslaughter\",\"Murder and nonnegligent manslaughter\",\"Murder and nonnegligent manslaughter\",\"Murder and nonnegligent manslaughter\",\"Murder and nonnegligent manslaughter\",\"Murder and nonnegligent manslaughter\",\"Murder and nonnegligent manslaughter\",\"Murder and nonnegligent manslaughter\",\"Murder and nonnegligent manslaughter\",\"Murder and nonnegligent manslaughter\",\"Murder and nonnegligent manslaughter\",\"Murder and nonnegligent manslaughter\",\"Murder and nonnegligent manslaughter\",\"Murder and nonnegligent manslaughter\",\"Murder and nonnegligent manslaughter\",\"Murder and nonnegligent manslaughter\",\"Murder and nonnegligent manslaughter\",\"Murder and nonnegligent manslaughter\",\"Murder and nonnegligent manslaughter\",\"Murder and nonnegligent manslaughter\",\"Murder and nonnegligent manslaughter\",\"Murder and nonnegligent manslaughter\",\"Murder and nonnegligent manslaughter\",\"Murder and nonnegligent manslaughter\",\"Murder and nonnegligent manslaughter\",\"Murder and nonnegligent manslaughter\",\"Murder and nonnegligent manslaughter\",\"Murder and nonnegligent manslaughter\",\"Murder and nonnegligent manslaughter\",\"Murder and nonnegligent manslaughter\",\"Murder and nonnegligent manslaughter\",\"Murder and nonnegligent manslaughter\",\"Murder and nonnegligent manslaughter\",\"Murder and nonnegligent manslaughter\",\"Murder and nonnegligent manslaughter\",\"Murder and nonnegligent manslaughter\",\"Murder and nonnegligent manslaughter\",\"Murder and nonnegligent manslaughter\",\"Murder and nonnegligent manslaughter\",\"Murder and nonnegligent manslaughter\",\"Murder and nonnegligent manslaughter\",\"Murder and nonnegligent manslaughter\",\"Murder and nonnegligent manslaughter\",\"Murder and nonnegligent manslaughter\",\"Murder and nonnegligent manslaughter\",\"Murder and nonnegligent manslaughter\",\"Murder and nonnegligent manslaughter\",\"Murder and nonnegligent manslaughter\",\"Murder and nonnegligent manslaughter\",\"Murder and nonnegligent manslaughter\",\"Murder and nonnegligent manslaughter\",\"Murder and nonnegligent manslaughter\",\"Murder and nonnegligent manslaughter\",\"Murder and nonnegligent manslaughter\",\"Murder and nonnegligent manslaughter\",\"Murder and nonnegligent manslaughter\",\"Murder and nonnegligent manslaughter\",\"Murder and nonnegligent manslaughter\",\"Murder and nonnegligent manslaughter\",\"Murder and nonnegligent manslaughter\",\"Murder and nonnegligent manslaughter\",\"Murder and nonnegligent manslaughter\",\"Murder and nonnegligent manslaughter\",\"Murder and nonnegligent manslaughter\",\"Murder and nonnegligent manslaughter\",\"Murder and nonnegligent manslaughter\",\"Murder and nonnegligent manslaughter\",\"Murder and nonnegligent manslaughter\",\"Murder and nonnegligent manslaughter\",\"Murder and nonnegligent manslaughter\",\"Murder and nonnegligent manslaughter\",\"Murder and nonnegligent manslaughter\",\"Murder and nonnegligent manslaughter\",\"Murder and nonnegligent manslaughter\",\"Murder and nonnegligent manslaughter\",\"Murder and nonnegligent manslaughter\",\"Murder and nonnegligent manslaughter\",\"Murder and nonnegligent manslaughter\",\"Murder and nonnegligent manslaughter\",\"Murder and nonnegligent manslaughter\",\"Murder and nonnegligent manslaughter\",\"Murder and nonnegligent manslaughter\",\"Murder and nonnegligent manslaughter\",\"Murder and nonnegligent manslaughter\",\"Murder and nonnegligent manslaughter\",\"Murder and nonnegligent manslaughter\",\"Murder and nonnegligent manslaughter\",\"Murder and nonnegligent manslaughter\",\"Murder and nonnegligent manslaughter\",\"Murder and nonnegligent manslaughter\",\"Murder and nonnegligent manslaughter\",\"Murder and nonnegligent manslaughter\",\"Murder and nonnegligent manslaughter\",\"Murder and nonnegligent manslaughter\",\"Murder and nonnegligent manslaughter\",\"Murder and nonnegligent manslaughter\",\"Murder and nonnegligent manslaughter\",\"Murder and nonnegligent manslaughter\",\"Murder and nonnegligent manslaughter\",\"Murder and nonnegligent manslaughter\",\"Murder and nonnegligent manslaughter\",\"Murder and nonnegligent manslaughter\",\"Murder and nonnegligent manslaughter\",\"Murder and nonnegligent manslaughter\",\"Murder and nonnegligent manslaughter\",\"Murder and nonnegligent manslaughter\",\"Murder and nonnegligent manslaughter\",\"Murder and nonnegligent manslaughter\",\"Murder and nonnegligent manslaughter\",\"Murder and nonnegligent manslaughter\",\"Murder and nonnegligent manslaughter\",\"Murder and nonnegligent manslaughter\",\"Murder and nonnegligent manslaughter\",\"Murder and nonnegligent manslaughter\",\"Murder and nonnegligent manslaughter\",\"Murder and nonnegligent manslaughter\",\"Murder and nonnegligent manslaughter\",\"Murder and nonnegligent manslaughter\",\"Murder and nonnegligent manslaughter\",\"Murder and nonnegligent manslaughter\",\"Murder and nonnegligent manslaughter\",\"Murder and nonnegligent manslaughter\",\"Murder and nonnegligent manslaughter\",\"Murder and nonnegligent manslaughter\",\"Murder and nonnegligent manslaughter\",\"Murder and nonnegligent manslaughter\",\"Murder and nonnegligent manslaughter\",\"Murder and nonnegligent manslaughter\",\"Murder and nonnegligent manslaughter\",\"Murder and nonnegligent manslaughter\",\"Murder and nonnegligent manslaughter\",\"Murder and nonnegligent manslaughter\",\"Murder and nonnegligent manslaughter\",\"Murder and nonnegligent manslaughter\",\"Murder and nonnegligent manslaughter\",\"Murder and nonnegligent manslaughter\",\"Murder and nonnegligent manslaughter\",\"Murder and nonnegligent manslaughter\",\"Murder and nonnegligent manslaughter\",\"Murder and nonnegligent manslaughter\",\"Murder and nonnegligent manslaughter\",\"Murder and nonnegligent manslaughter\",\"Murder and nonnegligent manslaughter\",\"Murder and nonnegligent manslaughter\",\"Murder and nonnegligent manslaughter\",\"Murder and nonnegligent manslaughter\",\"Murder and nonnegligent manslaughter\",\"Murder and nonnegligent manslaughter\",\"Murder and nonnegligent manslaughter\",\"Murder and nonnegligent manslaughter\",\"Murder and nonnegligent manslaughter\",\"Murder and nonnegligent manslaughter\",\"Murder and nonnegligent manslaughter\",\"Murder and nonnegligent manslaughter\",\"Murder and nonnegligent manslaughter\",\"Murder and nonnegligent manslaughter\",\"Murder and nonnegligent manslaughter\",\"Murder and nonnegligent manslaughter\",\"Murder and nonnegligent manslaughter\",\"Murder and nonnegligent manslaughter\",\"Murder and nonnegligent manslaughter\",\"Murder and nonnegligent manslaughter\",\"Murder and nonnegligent manslaughter\",\"Murder and nonnegligent manslaughter\",\"Murder and nonnegligent manslaughter\",\"Murder and nonnegligent manslaughter\",\"Murder and nonnegligent manslaughter\",\"Murder and nonnegligent manslaughter\",\"Murder and nonnegligent manslaughter\",\"Murder and nonnegligent manslaughter\",\"Murder and nonnegligent manslaughter\",\"Murder and nonnegligent manslaughter\",\"Murder and nonnegligent manslaughter\",\"Murder and nonnegligent manslaughter\",\"Murder and nonnegligent manslaughter\",\"Murder and nonnegligent manslaughter\",\"Murder and nonnegligent manslaughter\",\"Murder and nonnegligent manslaughter\",\"Murder and nonnegligent manslaughter\",\"Murder and nonnegligent manslaughter\",\"Murder and nonnegligent manslaughter\",\"Murder and nonnegligent manslaughter\",\"Murder and nonnegligent manslaughter\",\"Murder and nonnegligent manslaughter\",\"Murder and nonnegligent manslaughter\",\"Murder and nonnegligent manslaughter\",\"Murder and nonnegligent manslaughter\",\"Murder and nonnegligent manslaughter\",\"Murder and nonnegligent manslaughter\",\"Murder and nonnegligent manslaughter\",\"Murder and nonnegligent manslaughter\",\"Murder and nonnegligent manslaughter\",\"Murder and nonnegligent manslaughter\",\"Murder and nonnegligent manslaughter\",\"Murder and nonnegligent manslaughter\",\"Murder and nonnegligent manslaughter\",\"Murder and nonnegligent manslaughter\",\"Murder and nonnegligent manslaughter\",\"Murder and nonnegligent manslaughter\",\"Murder and nonnegligent manslaughter\",\"Murder and nonnegligent manslaughter\",\"Murder and nonnegligent manslaughter\",\"Murder and nonnegligent manslaughter\",\"Murder and nonnegligent manslaughter\",\"Murder and nonnegligent manslaughter\",\"Murder and nonnegligent manslaughter\",\"Murder and nonnegligent manslaughter\",\"Murder and nonnegligent manslaughter\",\"Murder and nonnegligent manslaughter\",\"Murder and nonnegligent manslaughter\",\"Murder and nonnegligent manslaughter\",\"Murder and nonnegligent manslaughter\",\"Murder and nonnegligent manslaughter\",\"Murder and nonnegligent manslaughter\",\"Murder and nonnegligent manslaughter\",\"Murder and nonnegligent manslaughter\",\"Murder and nonnegligent manslaughter\",\"Murder and nonnegligent manslaughter\",\"Murder and nonnegligent manslaughter\",\"Murder and nonnegligent manslaughter\",\"Murder and nonnegligent manslaughter\",\"Murder and nonnegligent manslaughter\",\"Murder and nonnegligent manslaughter\",\"Murder and nonnegligent manslaughter\",\"Murder and nonnegligent manslaughter\",\"Murder and nonnegligent manslaughter\",\"Murder and nonnegligent manslaughter\",\"Murder and nonnegligent manslaughter\",\"Murder and nonnegligent manslaughter\",\"Murder and nonnegligent manslaughter\",\"Murder and nonnegligent manslaughter\",\"Murder and nonnegligent manslaughter\",\"Murder and nonnegligent manslaughter\",\"Murder and nonnegligent manslaughter\",\"Murder and nonnegligent manslaughter\",\"Murder and nonnegligent manslaughter\",\"Murder and nonnegligent manslaughter\",\"Murder and nonnegligent manslaughter\",\"Murder and nonnegligent manslaughter\",\"Murder and nonnegligent manslaughter\",\"Murder and nonnegligent manslaughter\",\"Murder and nonnegligent manslaughter\",\"Murder and nonnegligent manslaughter\",\"Murder and nonnegligent manslaughter\",\"Murder and nonnegligent manslaughter\",\"Murder and nonnegligent manslaughter\",\"Murder and nonnegligent manslaughter\",\"Murder and nonnegligent manslaughter\",\"Murder and nonnegligent manslaughter\",\"Murder and nonnegligent manslaughter\",\"Murder and nonnegligent manslaughter\",\"Murder and nonnegligent manslaughter\",\"Murder and nonnegligent manslaughter\",\"Murder and nonnegligent manslaughter\",\"Murder and nonnegligent manslaughter\",\"Murder and nonnegligent manslaughter\",\"Murder and nonnegligent manslaughter\",\"Murder and nonnegligent manslaughter\",\"Murder and nonnegligent manslaughter\",\"Murder and nonnegligent manslaughter\",\"Murder and nonnegligent manslaughter\",\"Murder and nonnegligent manslaughter\",\"Murder and nonnegligent manslaughter\",\"Murder and nonnegligent manslaughter\",\"Murder and nonnegligent manslaughter\",\"Murder and nonnegligent manslaughter\",\"Murder and nonnegligent manslaughter\",\"Murder and nonnegligent manslaughter\",\"Murder and nonnegligent manslaughter\",\"Murder and nonnegligent manslaughter\",\"Murder and nonnegligent manslaughter\",\"Murder and nonnegligent manslaughter\",\"Murder and nonnegligent manslaughter\",\"Murder and nonnegligent manslaughter\",\"Murder and nonnegligent manslaughter\",\"Murder and nonnegligent manslaughter\",\"Murder and nonnegligent manslaughter\",\"Murder and nonnegligent manslaughter\",\"Murder and nonnegligent manslaughter\",\"Murder and nonnegligent manslaughter\",\"Murder and nonnegligent manslaughter\",\"Murder and nonnegligent manslaughter\",\"Murder and nonnegligent manslaughter\",\"Murder and nonnegligent manslaughter\",\"Murder and nonnegligent manslaughter\",\"Murder and nonnegligent manslaughter\",\"Murder and nonnegligent manslaughter\",\"Murder and nonnegligent manslaughter\",\"Murder and nonnegligent manslaughter\",\"Murder and nonnegligent manslaughter\",\"Murder and nonnegligent manslaughter\",\"Murder and nonnegligent manslaughter\",\"Murder and nonnegligent manslaughter\",\"Murder and nonnegligent manslaughter\",\"Murder and nonnegligent manslaughter\",\"Murder and nonnegligent manslaughter\",\"Murder and nonnegligent manslaughter\",\"Murder and nonnegligent manslaughter\",\"Murder and nonnegligent manslaughter\",\"Murder and nonnegligent manslaughter\",\"Murder and nonnegligent manslaughter\",\"Murder and nonnegligent manslaughter\",\"Murder and nonnegligent manslaughter\",\"Murder and nonnegligent manslaughter\",\"Murder and nonnegligent manslaughter\",\"Murder and nonnegligent manslaughter\",\"Murder and nonnegligent manslaughter\",\"Murder and nonnegligent manslaughter\",\"Murder and nonnegligent manslaughter\",\"Murder and nonnegligent manslaughter\",\"Murder and nonnegligent manslaughter\",\"Murder and nonnegligent manslaughter\",\"Murder and nonnegligent manslaughter\",\"Murder and nonnegligent manslaughter\",\"Murder and nonnegligent manslaughter\",\"Murder and nonnegligent manslaughter\",\"Murder and nonnegligent manslaughter\",\"Murder and nonnegligent manslaughter\",\"Murder and nonnegligent manslaughter\",\"Murder and nonnegligent manslaughter\",\"Murder and nonnegligent manslaughter\",\"Murder and nonnegligent manslaughter\",\"Murder and nonnegligent manslaughter\",\"Murder and nonnegligent manslaughter\",\"Murder and nonnegligent manslaughter\",\"Murder and nonnegligent manslaughter\",\"Murder and nonnegligent manslaughter\",\"Murder and nonnegligent manslaughter\",\"Murder and nonnegligent manslaughter\",\"Murder and nonnegligent manslaughter\",\"Murder and nonnegligent manslaughter\",\"Murder and nonnegligent manslaughter\",\"Murder and nonnegligent manslaughter\",\"Murder and nonnegligent manslaughter\",\"Murder and nonnegligent manslaughter\",\"Murder and nonnegligent manslaughter\",\"Murder and nonnegligent manslaughter\",\"Murder and nonnegligent manslaughter\",\"Murder and nonnegligent manslaughter\",\"Murder and nonnegligent manslaughter\",\"Murder and nonnegligent manslaughter\",\"Murder and nonnegligent manslaughter\",\"Murder and nonnegligent manslaughter\",\"Murder and nonnegligent manslaughter\",\"Murder and nonnegligent manslaughter\",\"Murder and nonnegligent manslaughter\",\"Murder and nonnegligent manslaughter\",\"Murder and nonnegligent manslaughter\",\"Murder and nonnegligent manslaughter\",\"Murder and nonnegligent manslaughter\",\"Murder and nonnegligent manslaughter\",\"Murder and nonnegligent manslaughter\",\"Murder and nonnegligent manslaughter\",\"Murder and nonnegligent manslaughter\",\"Murder and nonnegligent manslaughter\",\"Murder and nonnegligent manslaughter\",\"Murder and nonnegligent manslaughter\",\"Murder and nonnegligent manslaughter\",\"Murder and nonnegligent manslaughter\",\"Murder and nonnegligent manslaughter\",\"Murder and nonnegligent manslaughter\",\"Murder and nonnegligent manslaughter\",\"Murder and nonnegligent manslaughter\",\"Murder and nonnegligent manslaughter\",\"Murder and nonnegligent manslaughter\",\"Murder and nonnegligent manslaughter\",\"Murder and nonnegligent manslaughter\",\"Murder and nonnegligent manslaughter\",\"Murder and nonnegligent manslaughter\",\"Murder and nonnegligent manslaughter\",\"Murder and nonnegligent manslaughter\",\"Murder and nonnegligent manslaughter\",\"Murder and nonnegligent manslaughter\",\"Murder and nonnegligent manslaughter\",\"Murder and nonnegligent manslaughter\",\"Murder and nonnegligent manslaughter\",\"Murder and nonnegligent manslaughter\",\"Murder and nonnegligent manslaughter\",\"Murder and nonnegligent manslaughter\",\"Murder and nonnegligent manslaughter\",\"Murder and nonnegligent manslaughter\",\"Murder and nonnegligent manslaughter\",\"Murder and nonnegligent manslaughter\",\"Murder and nonnegligent manslaughter\",\"Murder and nonnegligent manslaughter\",\"Murder and nonnegligent manslaughter\",\"Murder and nonnegligent manslaughter\",\"Murder and nonnegligent manslaughter\",\"Murder and nonnegligent manslaughter\",\"Murder and nonnegligent manslaughter\",\"Murder and nonnegligent manslaughter\",\"Murder and nonnegligent manslaughter\",\"Murder and nonnegligent manslaughter\",\"Murder and nonnegligent manslaughter\",\"Murder and nonnegligent manslaughter\",\"Murder and nonnegligent manslaughter\",\"Murder and nonnegligent manslaughter\",\"Murder and nonnegligent manslaughter\",\"Murder and nonnegligent manslaughter\",\"Murder and nonnegligent manslaughter\",\"Murder and nonnegligent manslaughter\",\"Murder and nonnegligent manslaughter\",\"Murder and nonnegligent manslaughter\",\"Murder and nonnegligent manslaughter\",\"Murder and nonnegligent manslaughter\",\"Murder and nonnegligent manslaughter\",\"Murder and nonnegligent manslaughter\",\"Murder and nonnegligent manslaughter\",\"Murder and nonnegligent manslaughter\",\"Murder and nonnegligent manslaughter\",\"Murder and nonnegligent manslaughter\",\"Murder and nonnegligent manslaughter\",\"Murder and nonnegligent manslaughter\",\"Murder and nonnegligent manslaughter\",\"Murder and nonnegligent manslaughter\",\"Murder and nonnegligent manslaughter\",\"Murder and nonnegligent manslaughter\",\"Murder and nonnegligent manslaughter\",\"Murder and nonnegligent manslaughter\",\"Murder and nonnegligent manslaughter\",\"Murder and nonnegligent manslaughter\",\"Murder and nonnegligent manslaughter\",\"Murder and nonnegligent manslaughter\",\"Murder and nonnegligent manslaughter\",\"Murder and nonnegligent manslaughter\",\"Murder and nonnegligent manslaughter\",\"Murder and nonnegligent manslaughter\",\"Murder and nonnegligent manslaughter\",\"Murder and nonnegligent manslaughter\",\"Murder and nonnegligent manslaughter\",\"Murder and nonnegligent manslaughter\",\"Murder and nonnegligent manslaughter\",\"Murder and nonnegligent manslaughter\",\"Murder and nonnegligent manslaughter\",\"Murder and nonnegligent manslaughter\",\"Murder and nonnegligent manslaughter\",\"Murder and nonnegligent manslaughter\",\"Murder and nonnegligent manslaughter\",\"Murder and nonnegligent manslaughter\",\"Murder and nonnegligent manslaughter\",\"Murder and nonnegligent manslaughter\",\"Murder and nonnegligent manslaughter\",\"Murder and nonnegligent manslaughter\",\"Murder and nonnegligent manslaughter\",\"Murder and nonnegligent manslaughter\",\"Murder and nonnegligent manslaughter\",\"Murder and nonnegligent manslaughter\",\"Murder and nonnegligent manslaughter\",\"Murder and nonnegligent manslaughter\",\"Murder and nonnegligent manslaughter\",\"Murder and nonnegligent manslaughter\",\"Murder and nonnegligent manslaughter\",\"Murder and nonnegligent manslaughter\",\"Murder and nonnegligent manslaughter\",\"Murder and nonnegligent manslaughter\",\"Murder and nonnegligent manslaughter\",\"Murder and nonnegligent manslaughter\",\"Murder and nonnegligent manslaughter\",\"Murder and nonnegligent manslaughter\",\"Murder and nonnegligent manslaughter\",\"Murder and nonnegligent manslaughter\",\"Murder and nonnegligent manslaughter\",\"Murder and nonnegligent manslaughter\",\"Murder and nonnegligent manslaughter\",\"Murder and nonnegligent manslaughter\",\"Murder and nonnegligent manslaughter\",\"Murder and nonnegligent manslaughter\",\"Murder and nonnegligent manslaughter\",\"Murder and nonnegligent manslaughter\",\"Murder and nonnegligent manslaughter\",\"Murder and nonnegligent manslaughter\",\"Murder and nonnegligent manslaughter\",\"Murder and nonnegligent manslaughter\",\"Murder and nonnegligent manslaughter\",\"Murder and nonnegligent manslaughter\",\"Murder and nonnegligent manslaughter\",\"Murder and nonnegligent manslaughter\",\"Murder and nonnegligent manslaughter\",\"Murder and nonnegligent manslaughter\",\"Murder and nonnegligent manslaughter\",\"Murder and nonnegligent manslaughter\",\"Murder and nonnegligent manslaughter\",\"Murder and nonnegligent manslaughter\",\"Murder and nonnegligent manslaughter\",\"Murder and nonnegligent manslaughter\",\"Murder and nonnegligent manslaughter\",\"Murder and nonnegligent manslaughter\",\"Murder and nonnegligent manslaughter\",\"Murder and nonnegligent manslaughter\",\"Murder and nonnegligent manslaughter\",\"Murder and nonnegligent manslaughter\",\"Murder and nonnegligent manslaughter\",\"Murder and nonnegligent manslaughter\",\"Murder and nonnegligent manslaughter\",\"Murder and nonnegligent manslaughter\",\"Murder and nonnegligent manslaughter\",\"Murder and nonnegligent manslaughter\",\"Murder and nonnegligent manslaughter\",\"Murder and nonnegligent manslaughter\",\"Murder and nonnegligent manslaughter\",\"Murder and nonnegligent manslaughter\",\"Murder and nonnegligent manslaughter\",\"Murder and nonnegligent manslaughter\",\"Murder and nonnegligent manslaughter\",\"Murder and nonnegligent manslaughter\",\"Murder and nonnegligent manslaughter\",\"Murder and nonnegligent manslaughter\",\"Murder and nonnegligent manslaughter\",\"Murder and nonnegligent manslaughter\",\"Murder and nonnegligent manslaughter\",\"Murder and nonnegligent manslaughter\",\"Murder and nonnegligent manslaughter\",\"Murder and nonnegligent manslaughter\",\"Murder and nonnegligent manslaughter\",\"Murder and nonnegligent manslaughter\",\"Murder and nonnegligent manslaughter\",\"Murder and nonnegligent manslaughter\",\"Murder and nonnegligent manslaughter\",\"Murder and nonnegligent manslaughter\",\"Murder and nonnegligent manslaughter\",\"Murder and nonnegligent manslaughter\",\"Murder and nonnegligent manslaughter\",\"Murder and nonnegligent manslaughter\",\"Murder and nonnegligent manslaughter\",\"Murder and nonnegligent manslaughter\",\"Murder and nonnegligent manslaughter\",\"Murder and nonnegligent manslaughter\",\"Murder and nonnegligent manslaughter\",\"Murder and nonnegligent manslaughter\",\"Murder and nonnegligent manslaughter\",\"Murder and nonnegligent manslaughter\",\"Murder and nonnegligent manslaughter\",\"Murder and nonnegligent manslaughter\",\"Murder and nonnegligent manslaughter\",\"Murder and nonnegligent manslaughter\",\"Murder and nonnegligent manslaughter\",\"Murder and nonnegligent manslaughter\",\"Murder and nonnegligent manslaughter\",\"Murder and nonnegligent manslaughter\",\"Murder and nonnegligent manslaughter\",\"Murder and nonnegligent manslaughter\",\"Murder and nonnegligent manslaughter\",\"Murder and nonnegligent manslaughter\",\"Murder and nonnegligent manslaughter\",\"Murder and nonnegligent manslaughter\",\"Murder and nonnegligent manslaughter\",\"Murder and nonnegligent manslaughter\",\"Murder and nonnegligent manslaughter\",\"Murder and nonnegligent manslaughter\",\"Murder and nonnegligent manslaughter\",\"Murder and nonnegligent manslaughter\",\"Murder and nonnegligent manslaughter\",\"Murder and nonnegligent manslaughter\",\"Murder and nonnegligent manslaughter\",\"Murder and nonnegligent manslaughter\",\"Murder and nonnegligent manslaughter\",\"Murder and nonnegligent manslaughter\",\"Murder and nonnegligent manslaughter\",\"Murder and nonnegligent manslaughter\",\"Murder and nonnegligent manslaughter\",\"Murder and nonnegligent manslaughter\",\"Murder and nonnegligent manslaughter\",\"Murder and nonnegligent manslaughter\",\"Murder and nonnegligent manslaughter\",\"Murder and nonnegligent manslaughter\",\"Murder and nonnegligent manslaughter\",\"Murder and nonnegligent manslaughter\",\"Murder and nonnegligent manslaughter\",\"Murder and nonnegligent manslaughter\",\"Murder and nonnegligent manslaughter\",\"Murder and nonnegligent manslaughter\",\"Murder and nonnegligent manslaughter\",\"Murder and nonnegligent manslaughter\",\"Murder and nonnegligent manslaughter\",\"Murder and nonnegligent manslaughter\",\"Murder and nonnegligent manslaughter\",\"Murder and nonnegligent manslaughter\",\"Murder and nonnegligent manslaughter\",\"Murder and nonnegligent manslaughter\",\"Murder and nonnegligent manslaughter\",\"Murder and nonnegligent manslaughter\",\"Murder and nonnegligent manslaughter\",\"Murder and nonnegligent manslaughter\",\"Murder and nonnegligent manslaughter\",\"Murder and nonnegligent manslaughter\",\"Murder and nonnegligent manslaughter\",\"Murder and nonnegligent manslaughter\",\"Murder and nonnegligent manslaughter\",\"Murder and nonnegligent manslaughter\",\"Murder and nonnegligent manslaughter\",\"Murder and nonnegligent manslaughter\",\"Murder and nonnegligent manslaughter\",\"Murder and nonnegligent manslaughter\",\"Murder and nonnegligent manslaughter\",\"Murder and nonnegligent manslaughter\",\"Murder and nonnegligent manslaughter\",\"Murder and nonnegligent manslaughter\",\"Murder and nonnegligent manslaughter\",\"Murder and nonnegligent manslaughter\",\"Murder and nonnegligent manslaughter\",\"Murder and nonnegligent manslaughter\",\"Murder and nonnegligent manslaughter\",\"Murder and nonnegligent manslaughter\",\"Murder and nonnegligent manslaughter\",\"Murder and nonnegligent manslaughter\",\"Murder and nonnegligent manslaughter\",\"Murder and nonnegligent manslaughter\",\"Murder and nonnegligent manslaughter\",\"Murder and nonnegligent manslaughter\",\"Murder and nonnegligent manslaughter\",\"Murder and nonnegligent manslaughter\",\"Murder and nonnegligent manslaughter\",\"Murder and nonnegligent manslaughter\",\"Murder and nonnegligent manslaughter\",\"Murder and nonnegligent manslaughter\",\"Murder and nonnegligent manslaughter\",\"Murder and nonnegligent manslaughter\",\"Murder and nonnegligent manslaughter\",\"Murder and nonnegligent manslaughter\",\"Murder and nonnegligent manslaughter\",\"Murder and nonnegligent manslaughter\",\"Murder and nonnegligent manslaughter\",\"Murder and nonnegligent manslaughter\",\"Murder and nonnegligent manslaughter\",\"Murder and nonnegligent manslaughter\",\"Murder and nonnegligent manslaughter\",\"Murder and nonnegligent manslaughter\",\"Murder and nonnegligent manslaughter\",\"Murder and nonnegligent manslaughter\",\"Murder and nonnegligent manslaughter\",\"Murder and nonnegligent manslaughter\",\"Murder and nonnegligent manslaughter\",\"Murder and nonnegligent manslaughter\",\"Murder and nonnegligent manslaughter\",\"Murder and nonnegligent manslaughter\",\"Murder and nonnegligent manslaughter\",\"Murder and nonnegligent manslaughter\",\"Murder and nonnegligent manslaughter\",\"Murder and nonnegligent manslaughter\",\"Murder and nonnegligent manslaughter\",\"Murder and nonnegligent manslaughter\",\"Murder and nonnegligent manslaughter\",\"Murder and nonnegligent manslaughter\",\"Murder and nonnegligent manslaughter\",\"Murder and nonnegligent manslaughter\",\"Murder and nonnegligent manslaughter\",\"Murder and nonnegligent manslaughter\",\"Murder and nonnegligent manslaughter\",\"Murder and nonnegligent manslaughter\",\"Murder and nonnegligent manslaughter\",\"Murder and nonnegligent manslaughter\",\"Murder and nonnegligent manslaughter\",\"Murder and nonnegligent manslaughter\",\"Murder and nonnegligent manslaughter\",\"Murder and nonnegligent manslaughter\",\"Murder and nonnegligent manslaughter\",\"Murder and nonnegligent manslaughter\",\"Murder and nonnegligent manslaughter\",\"Murder and nonnegligent manslaughter\",\"Murder and nonnegligent manslaughter\",\"Murder and nonnegligent manslaughter\",\"Murder and nonnegligent manslaughter\",\"Murder and nonnegligent manslaughter\",\"Murder and nonnegligent manslaughter\",\"Murder and nonnegligent manslaughter\",\"Murder and nonnegligent manslaughter\",\"Murder and nonnegligent manslaughter\",\"Murder and nonnegligent manslaughter\",\"Murder and nonnegligent manslaughter\",\"Murder and nonnegligent manslaughter\",\"Murder and nonnegligent manslaughter\",\"Murder and nonnegligent manslaughter\",\"Murder and nonnegligent manslaughter\",\"Murder and nonnegligent manslaughter\",\"Murder and nonnegligent manslaughter\",\"Murder and nonnegligent manslaughter\",\"Murder and nonnegligent manslaughter\",\"Murder and nonnegligent manslaughter\",\"Murder and nonnegligent manslaughter\",\"Murder and nonnegligent manslaughter\",\"Murder and nonnegligent manslaughter\",\"Murder and nonnegligent manslaughter\",\"Murder and nonnegligent manslaughter\",\"Murder and nonnegligent manslaughter\",\"Murder and nonnegligent manslaughter\",\"Murder and nonnegligent manslaughter\",\"Murder and nonnegligent manslaughter\",\"Murder and nonnegligent manslaughter\",\"Murder and nonnegligent manslaughter\",\"Murder and nonnegligent manslaughter\",\"Murder and nonnegligent manslaughter\",\"Murder and nonnegligent manslaughter\",\"Murder and nonnegligent manslaughter\",\"Murder and nonnegligent manslaughter\",\"Murder and nonnegligent manslaughter\",\"Murder and nonnegligent manslaughter\",\"Murder and nonnegligent manslaughter\",\"Murder and nonnegligent manslaughter\",\"Murder and nonnegligent manslaughter\",\"Murder and nonnegligent manslaughter\",\"Murder and nonnegligent manslaughter\",\"Murder and nonnegligent manslaughter\",\"Murder and nonnegligent manslaughter\",\"Murder and nonnegligent manslaughter\",\"Murder and nonnegligent manslaughter\",\"Murder and nonnegligent manslaughter\",\"Murder and nonnegligent manslaughter\",\"Murder and nonnegligent manslaughter\",\"Murder and nonnegligent manslaughter\",\"Murder and nonnegligent manslaughter\",\"Murder and nonnegligent manslaughter\",\"Murder and nonnegligent manslaughter\",\"Murder and nonnegligent manslaughter\",\"Murder and nonnegligent manslaughter\",\"Murder and nonnegligent manslaughter\",\"Murder and nonnegligent manslaughter\",\"Murder and nonnegligent manslaughter\",\"Murder and nonnegligent manslaughter\",\"Murder and nonnegligent manslaughter\",\"Murder and nonnegligent manslaughter\",\"Murder and nonnegligent manslaughter\",\"Murder and nonnegligent manslaughter\",\"Murder and nonnegligent manslaughter\",\"Murder and nonnegligent manslaughter\",\"Murder and nonnegligent manslaughter\",\"Murder and nonnegligent manslaughter\",\"Murder and nonnegligent manslaughter\",\"Murder and nonnegligent manslaughter\",\"Murder and nonnegligent manslaughter\",\"Murder and nonnegligent manslaughter\",\"Murder and nonnegligent manslaughter\",\"Murder and nonnegligent manslaughter\",\"Murder and nonnegligent manslaughter\",\"Murder and nonnegligent manslaughter\",\"Murder and nonnegligent manslaughter\",\"Murder and nonnegligent manslaughter\",\"Murder and nonnegligent manslaughter\",\"Murder and nonnegligent manslaughter\",\"Murder and nonnegligent manslaughter\",\"Murder and nonnegligent manslaughter\",\"Murder and nonnegligent manslaughter\",\"Murder and nonnegligent manslaughter\",\"Murder and nonnegligent manslaughter\",\"Murder and nonnegligent manslaughter\",\"Murder and nonnegligent manslaughter\",\"Murder and nonnegligent manslaughter\",\"Murder and nonnegligent manslaughter\",\"Murder and nonnegligent manslaughter\",\"Murder and nonnegligent manslaughter\",\"Murder and nonnegligent manslaughter\",\"Murder and nonnegligent manslaughter\",\"Murder and nonnegligent manslaughter\",\"Murder and nonnegligent manslaughter\",\"Murder and nonnegligent manslaughter\",\"Murder and nonnegligent manslaughter\",\"Murder and nonnegligent manslaughter\",\"Murder and nonnegligent manslaughter\",\"Murder and nonnegligent manslaughter\",\"Murder and nonnegligent manslaughter\",\"Murder and nonnegligent manslaughter\",\"Murder and nonnegligent manslaughter\",\"Murder and nonnegligent manslaughter\",\"Murder and nonnegligent manslaughter\",\"Murder and nonnegligent manslaughter\",\"Murder and nonnegligent manslaughter\",\"Murder and nonnegligent manslaughter\",\"Murder and nonnegligent manslaughter\",\"Murder and nonnegligent manslaughter\",\"Murder and nonnegligent manslaughter\",\"Murder and nonnegligent manslaughter\",\"Murder and nonnegligent manslaughter\",\"Murder and nonnegligent manslaughter\",\"Murder and nonnegligent manslaughter\",\"Murder and nonnegligent manslaughter\",\"Murder and nonnegligent manslaughter\",\"Murder and nonnegligent manslaughter\",\"Murder and nonnegligent manslaughter\",\"Murder and nonnegligent manslaughter\",\"Murder and nonnegligent manslaughter\",\"Murder and nonnegligent manslaughter\",\"Murder and nonnegligent manslaughter\",\"Murder and nonnegligent manslaughter\",\"Murder and nonnegligent manslaughter\",\"Murder and nonnegligent manslaughter\",\"Murder and nonnegligent manslaughter\",\"Murder and nonnegligent manslaughter\",\"Murder and nonnegligent manslaughter\",\"Murder and nonnegligent manslaughter\",\"Murder and nonnegligent manslaughter\",\"Murder and nonnegligent manslaughter\",\"Murder and nonnegligent manslaughter\",\"Murder and nonnegligent manslaughter\",\"Murder and nonnegligent manslaughter\",\"Murder and nonnegligent manslaughter\",\"Murder and nonnegligent manslaughter\",\"Murder and nonnegligent manslaughter\",\"Murder and nonnegligent manslaughter\",\"Murder and nonnegligent manslaughter\",\"Murder and nonnegligent manslaughter\",\"Murder and nonnegligent manslaughter\",\"Murder and nonnegligent manslaughter\",\"Murder and nonnegligent manslaughter\",\"Murder and nonnegligent manslaughter\",\"Murder and nonnegligent manslaughter\",\"Murder and nonnegligent manslaughter\",\"Murder and nonnegligent manslaughter\",\"Murder and nonnegligent manslaughter\",\"Murder and nonnegligent manslaughter\",\"Murder and nonnegligent manslaughter\",\"Murder and nonnegligent manslaughter\",\"Murder and nonnegligent manslaughter\",\"Murder and nonnegligent manslaughter\",\"Murder and nonnegligent manslaughter\",\"Murder and nonnegligent manslaughter\",\"Murder and nonnegligent manslaughter\",\"Murder and nonnegligent manslaughter\",\"Murder and nonnegligent manslaughter\",\"Murder and nonnegligent manslaughter\",\"Murder and nonnegligent manslaughter\",\"Murder and nonnegligent manslaughter\",\"Murder and nonnegligent manslaughter\",\"Murder and nonnegligent manslaughter\",\"Murder and nonnegligent manslaughter\",\"Murder and nonnegligent manslaughter\",\"Murder and nonnegligent manslaughter\",\"Murder and nonnegligent manslaughter\",\"Murder and nonnegligent manslaughter\",\"Murder and nonnegligent manslaughter\",\"Murder and nonnegligent manslaughter\",\"Murder and nonnegligent manslaughter\",\"Murder and nonnegligent manslaughter\",\"Murder and nonnegligent manslaughter\",\"Murder and nonnegligent manslaughter\",\"Murder and nonnegligent manslaughter\",\"Murder and nonnegligent manslaughter\",\"Murder and nonnegligent manslaughter\",\"Murder and nonnegligent manslaughter\",\"Murder and nonnegligent manslaughter\",\"Murder and nonnegligent manslaughter\",\"Murder and nonnegligent manslaughter\",\"Murder and nonnegligent manslaughter\",\"Murder and nonnegligent manslaughter\",\"Murder and nonnegligent manslaughter\",\"Murder and nonnegligent manslaughter\",\"Murder and nonnegligent manslaughter\",\"Murder and nonnegligent manslaughter\",\"Murder and nonnegligent manslaughter\",\"Murder and nonnegligent manslaughter\",\"Murder and nonnegligent manslaughter\",\"Murder and nonnegligent manslaughter\",\"Murder and nonnegligent manslaughter\",\"Murder and nonnegligent manslaughter\",\"Murder and nonnegligent manslaughter\",\"Murder and nonnegligent manslaughter\",\"Murder and nonnegligent manslaughter\",\"Murder and nonnegligent manslaughter\",\"Murder and nonnegligent manslaughter\",\"Murder and nonnegligent manslaughter\",\"Murder and nonnegligent manslaughter\",\"Murder and nonnegligent manslaughter\",\"Murder and nonnegligent manslaughter\",\"Murder and nonnegligent manslaughter\",\"Murder and nonnegligent manslaughter\",\"Murder and nonnegligent manslaughter\",\"Murder and nonnegligent manslaughter\",\"Murder and nonnegligent manslaughter\",\"Murder and nonnegligent manslaughter\",\"Murder and nonnegligent manslaughter\",\"Murder and nonnegligent manslaughter\",\"Murder and nonnegligent manslaughter\",\"Murder and nonnegligent manslaughter\",\"Murder and nonnegligent manslaughter\",\"Murder and nonnegligent manslaughter\",\"Murder and nonnegligent manslaughter\",\"Murder and nonnegligent manslaughter\",\"Murder and nonnegligent manslaughter\",\"Murder and nonnegligent manslaughter\",\"Murder and nonnegligent manslaughter\",\"Murder and nonnegligent manslaughter\",\"Murder and nonnegligent manslaughter\",\"Murder and nonnegligent manslaughter\",\"Murder and nonnegligent manslaughter\",\"Murder and nonnegligent manslaughter\",\"Murder and nonnegligent manslaughter\",\"Murder and nonnegligent manslaughter\",\"Murder and nonnegligent manslaughter\",\"Murder and nonnegligent manslaughter\",\"Murder and nonnegligent manslaughter\",\"Murder and nonnegligent manslaughter\",\"Murder and nonnegligent manslaughter\",\"Murder and nonnegligent manslaughter\",\"Murder and nonnegligent manslaughter\",\"Murder and nonnegligent manslaughter\",\"Murder and nonnegligent manslaughter\",\"Murder and nonnegligent manslaughter\",\"Murder and nonnegligent manslaughter\",\"Murder and nonnegligent manslaughter\",\"Murder and nonnegligent manslaughter\",\"Murder and nonnegligent manslaughter\",\"Murder and nonnegligent manslaughter\",\"Murder and nonnegligent manslaughter\",\"Murder and nonnegligent manslaughter\",\"Murder and nonnegligent manslaughter\",\"Murder and nonnegligent manslaughter\",\"Murder and nonnegligent manslaughter\",\"Murder and nonnegligent manslaughter\",\"Murder and nonnegligent manslaughter\",\"Murder and nonnegligent manslaughter\",\"Murder and nonnegligent manslaughter\",\"Murder and nonnegligent manslaughter\",\"Murder and nonnegligent manslaughter\",\"Murder and nonnegligent manslaughter\",\"Murder and nonnegligent manslaughter\",\"Murder and nonnegligent manslaughter\",\"Murder and nonnegligent manslaughter\",\"Murder and nonnegligent manslaughter\",\"Murder and nonnegligent manslaughter\",\"Murder and nonnegligent manslaughter\",\"Murder and nonnegligent manslaughter\",\"Murder and nonnegligent manslaughter\",\"Murder and nonnegligent manslaughter\",\"Murder and nonnegligent manslaughter\",\"Murder and nonnegligent manslaughter\",\"Murder and nonnegligent manslaughter\",\"Murder and nonnegligent manslaughter\",\"Murder and nonnegligent manslaughter\",\"Murder and nonnegligent manslaughter\",\"Murder and nonnegligent manslaughter\",\"Murder and nonnegligent manslaughter\",\"Murder and nonnegligent manslaughter\",\"Murder and nonnegligent manslaughter\",\"Murder and nonnegligent manslaughter\",\"Murder and nonnegligent manslaughter\",\"Murder and nonnegligent manslaughter\",\"Murder and nonnegligent manslaughter\",\"Murder and nonnegligent manslaughter\",\"Murder and nonnegligent manslaughter\",\"Murder and nonnegligent manslaughter\",\"Murder and nonnegligent manslaughter\",\"Murder and nonnegligent manslaughter\",\"Murder and nonnegligent manslaughter\",\"Murder and nonnegligent manslaughter\",\"Murder and nonnegligent manslaughter\",\"Murder and nonnegligent manslaughter\",\"Murder and nonnegligent manslaughter\",\"Murder and nonnegligent manslaughter\",\"Murder and nonnegligent manslaughter\",\"Murder and nonnegligent manslaughter\",\"Murder and nonnegligent manslaughter\",\"Murder and nonnegligent manslaughter\",\"Murder and nonnegligent manslaughter\",\"Murder and nonnegligent manslaughter\",\"Murder and nonnegligent manslaughter\",\"Murder and nonnegligent manslaughter\",\"Murder and nonnegligent manslaughter\",\"Murder and nonnegligent manslaughter\",\"Murder and nonnegligent manslaughter\",\"Murder and nonnegligent manslaughter\",\"Murder and nonnegligent manslaughter\",\"Murder and nonnegligent manslaughter\",\"Murder and nonnegligent manslaughter\",\"Murder and nonnegligent manslaughter\",\"Murder and nonnegligent manslaughter\",\"Murder and nonnegligent manslaughter\",\"Murder and nonnegligent manslaughter\",\"Murder and nonnegligent manslaughter\",\"Murder and nonnegligent manslaughter\",\"Murder and nonnegligent manslaughter\",\"Murder and nonnegligent manslaughter\",\"Murder and nonnegligent manslaughter\",\"Murder and nonnegligent manslaughter\",\"Murder and nonnegligent manslaughter\",\"Murder and nonnegligent manslaughter\",\"Murder and nonnegligent manslaughter\",\"Murder and nonnegligent manslaughter\",\"Murder and nonnegligent manslaughter\",\"Murder and nonnegligent manslaughter\",\"Murder and nonnegligent manslaughter\",\"Murder and nonnegligent manslaughter\",\"Murder and nonnegligent manslaughter\",\"Murder and nonnegligent manslaughter\",\"Murder and nonnegligent manslaughter\",\"Murder and nonnegligent manslaughter\",\"Murder and nonnegligent manslaughter\",\"Murder and nonnegligent manslaughter\",\"Murder and nonnegligent manslaughter\",\"Murder and nonnegligent manslaughter\",\"Murder and nonnegligent manslaughter\",\"Murder and nonnegligent manslaughter\",\"Murder and nonnegligent manslaughter\",\"Murder and nonnegligent manslaughter\",\"Murder and nonnegligent manslaughter\",\"Murder and nonnegligent manslaughter\",\"Murder and nonnegligent manslaughter\",\"Murder and nonnegligent manslaughter\",\"Murder and nonnegligent manslaughter\",\"Murder and nonnegligent manslaughter\",\"Murder and nonnegligent manslaughter\",\"Murder and nonnegligent manslaughter\",\"Murder and nonnegligent manslaughter\",\"Murder and nonnegligent manslaughter\",\"Murder and nonnegligent manslaughter\",\"Murder and nonnegligent manslaughter\",\"Murder and nonnegligent manslaughter\",\"Murder and nonnegligent manslaughter\",\"Murder and nonnegligent manslaughter\",\"Murder and nonnegligent manslaughter\",\"Murder and nonnegligent manslaughter\",\"Murder and nonnegligent manslaughter\",\"Murder and nonnegligent manslaughter\",\"Murder and nonnegligent manslaughter\",\"Murder and nonnegligent manslaughter\",\"Murder and nonnegligent manslaughter\",\"Murder and nonnegligent manslaughter\",\"Murder and nonnegligent manslaughter\",\"Murder and nonnegligent manslaughter\",\"Murder and nonnegligent manslaughter\",\"Murder and nonnegligent manslaughter\",\"Murder and nonnegligent manslaughter\",\"Murder and nonnegligent manslaughter\",\"Murder and nonnegligent manslaughter\",\"Murder and nonnegligent manslaughter\",\"Murder and nonnegligent manslaughter\",\"Murder and nonnegligent manslaughter\",\"Murder and nonnegligent manslaughter\",\"Murder and nonnegligent manslaughter\",\"Murder and nonnegligent manslaughter\",\"Murder and nonnegligent manslaughter\",\"Murder and nonnegligent manslaughter\",\"Murder and nonnegligent manslaughter\",\"Murder and nonnegligent manslaughter\",\"Murder and nonnegligent manslaughter\",\"Murder and nonnegligent manslaughter\",\"Murder and nonnegligent manslaughter\",\"Murder and nonnegligent manslaughter\",\"Murder and nonnegligent manslaughter\",\"Murder and nonnegligent manslaughter\",\"Murder and nonnegligent manslaughter\",\"Murder and nonnegligent manslaughter\",\"Murder and nonnegligent manslaughter\",\"Murder and nonnegligent manslaughter\",\"Murder and nonnegligent manslaughter\",\"Murder and nonnegligent manslaughter\",\"Murder and nonnegligent manslaughter\",\"Murder and nonnegligent manslaughter\",\"Murder and nonnegligent manslaughter\",\"Murder and nonnegligent manslaughter\",\"Murder and nonnegligent manslaughter\",\"Murder and nonnegligent manslaughter\",\"Murder and nonnegligent manslaughter\",\"Murder and nonnegligent manslaughter\",\"Murder and nonnegligent manslaughter\",\"Murder and nonnegligent manslaughter\",\"Murder and nonnegligent manslaughter\",\"Murder and nonnegligent manslaughter\",\"Murder and nonnegligent manslaughter\",\"Murder and nonnegligent manslaughter\",\"Murder and nonnegligent manslaughter\",\"Murder and nonnegligent manslaughter\",\"Murder and nonnegligent manslaughter\",\"Murder and nonnegligent manslaughter\",\"Murder and nonnegligent manslaughter\",\"Murder and nonnegligent manslaughter\",\"Murder and nonnegligent manslaughter\",\"Murder and nonnegligent manslaughter\",\"Murder and nonnegligent manslaughter\",\"Murder and nonnegligent manslaughter\",\"Murder and nonnegligent manslaughter\",\"Murder and nonnegligent manslaughter\",\"Murder and nonnegligent manslaughter\",\"Murder and nonnegligent manslaughter\",\"Murder and nonnegligent manslaughter\",\"Murder and nonnegligent manslaughter\",\"Murder and nonnegligent manslaughter\",\"Murder and nonnegligent manslaughter\",\"Murder and nonnegligent manslaughter\",\"Murder and nonnegligent manslaughter\",\"Murder and nonnegligent manslaughter\",\"Murder and nonnegligent manslaughter\",\"Murder and nonnegligent manslaughter\",\"Murder and nonnegligent manslaughter\",\"Murder and nonnegligent manslaughter\",\"Murder and nonnegligent manslaughter\",\"Murder and nonnegligent manslaughter\",\"Murder and nonnegligent manslaughter\",\"Murder and nonnegligent manslaughter\",\"Murder and nonnegligent manslaughter\",\"Murder and nonnegligent manslaughter\",\"Murder and nonnegligent manslaughter\",\"Murder and nonnegligent manslaughter\",\"Murder and nonnegligent manslaughter\",\"Murder and nonnegligent manslaughter\",\"Murder and nonnegligent manslaughter\",\"Murder and nonnegligent manslaughter\",\"Murder and nonnegligent manslaughter\",\"Murder and nonnegligent manslaughter\",\"Murder and nonnegligent manslaughter\",\"Murder and nonnegligent manslaughter\",\"Murder and nonnegligent manslaughter\",\"Murder and nonnegligent manslaughter\",\"Murder and nonnegligent manslaughter\",\"Murder and nonnegligent manslaughter\",\"Murder and nonnegligent manslaughter\",\"Murder and nonnegligent manslaughter\",\"Murder and nonnegligent manslaughter\",\"Murder and nonnegligent manslaughter\",\"Murder and nonnegligent manslaughter\",\"Murder and nonnegligent manslaughter\",\"Murder and nonnegligent manslaughter\",\"Murder and nonnegligent manslaughter\",\"Murder and nonnegligent manslaughter\",\"Murder and nonnegligent manslaughter\",\"Murder and nonnegligent manslaughter\",\"Murder and nonnegligent manslaughter\",\"Murder and nonnegligent manslaughter\",\"Murder and nonnegligent manslaughter\",\"Murder and nonnegligent manslaughter\",\"Murder and nonnegligent manslaughter\",\"Murder and nonnegligent manslaughter\",\"Murder and nonnegligent manslaughter\",\"Murder and nonnegligent manslaughter\",\"Murder and nonnegligent manslaughter\",\"Murder and nonnegligent manslaughter\",\"Murder and nonnegligent manslaughter\",\"Murder and nonnegligent manslaughter\",\"Murder and nonnegligent manslaughter\",\"Murder and nonnegligent manslaughter\",\"Murder and nonnegligent manslaughter\",\"Murder and nonnegligent manslaughter\",\"Murder and nonnegligent manslaughter\",\"Murder and nonnegligent manslaughter\",\"Murder and nonnegligent manslaughter\",\"Murder and nonnegligent manslaughter\",\"Murder and nonnegligent manslaughter\",\"Murder and nonnegligent manslaughter\",\"Murder and nonnegligent manslaughter\",\"Murder and nonnegligent manslaughter\",\"Murder and nonnegligent manslaughter\",\"Murder and nonnegligent manslaughter\",\"Murder and nonnegligent manslaughter\",\"Murder and nonnegligent manslaughter\",\"Murder and nonnegligent manslaughter\",\"Murder and nonnegligent manslaughter\",\"Murder and nonnegligent manslaughter\",\"Murder and nonnegligent manslaughter\",\"Murder and nonnegligent manslaughter\",\"Murder and nonnegligent manslaughter\",\"Murder and nonnegligent manslaughter\",\"Murder and nonnegligent manslaughter\",\"Murder and nonnegligent manslaughter\",\"Murder and nonnegligent manslaughter\",\"Murder and nonnegligent manslaughter\",\"Murder and nonnegligent manslaughter\",\"Murder and nonnegligent manslaughter\",\"Murder and nonnegligent manslaughter\",\"Murder and nonnegligent manslaughter\",\"Murder and nonnegligent manslaughter\",\"Murder and nonnegligent manslaughter\",\"Murder and nonnegligent manslaughter\",\"Murder and nonnegligent manslaughter\",\"Murder and nonnegligent manslaughter\",\"Murder and nonnegligent manslaughter\",\"Murder and nonnegligent manslaughter\",\"Murder and nonnegligent manslaughter\",\"Murder and nonnegligent manslaughter\",\"Murder and nonnegligent manslaughter\",\"Murder and nonnegligent manslaughter\",\"Murder and nonnegligent manslaughter\",\"Murder and nonnegligent manslaughter\",\"Murder and nonnegligent manslaughter\",\"Murder and nonnegligent manslaughter\",\"Murder and nonnegligent manslaughter\",\"Murder and nonnegligent manslaughter\",\"Murder and nonnegligent manslaughter\",\"Murder and nonnegligent manslaughter\",\"Murder and nonnegligent manslaughter\",\"Murder and nonnegligent manslaughter\",\"Murder and nonnegligent manslaughter\",\"Murder and nonnegligent manslaughter\",\"Murder and nonnegligent manslaughter\",\"Murder and nonnegligent manslaughter\",\"Murder and nonnegligent manslaughter\",\"Murder and nonnegligent manslaughter\",\"Murder and nonnegligent manslaughter\",\"Murder and nonnegligent manslaughter\",\"Murder and nonnegligent manslaughter\",\"Murder and nonnegligent manslaughter\",\"Murder and nonnegligent manslaughter\",\"Murder and nonnegligent manslaughter\",\"Murder and nonnegligent manslaughter\",\"Murder and nonnegligent manslaughter\",\"Murder and nonnegligent manslaughter\",\"Murder and nonnegligent manslaughter\",\"Murder and nonnegligent manslaughter\",\"Murder and nonnegligent manslaughter\",\"Murder and nonnegligent manslaughter\",\"Murder and nonnegligent manslaughter\",\"Murder and nonnegligent manslaughter\",\"Murder and nonnegligent manslaughter\",\"Murder and nonnegligent manslaughter\",\"Murder and nonnegligent manslaughter\",\"Murder and nonnegligent manslaughter\",\"Murder and nonnegligent manslaughter\",\"Murder and nonnegligent manslaughter\",\"Murder and nonnegligent manslaughter\",\"Murder and nonnegligent manslaughter\",\"Murder and nonnegligent manslaughter\",\"Murder and nonnegligent manslaughter\",\"Murder and nonnegligent manslaughter\",\"Murder and nonnegligent manslaughter\",\"Murder and nonnegligent manslaughter\",\"Murder and nonnegligent manslaughter\",\"Murder and nonnegligent manslaughter\",\"Murder and nonnegligent manslaughter\",\"Murder and nonnegligent manslaughter\",\"Murder and nonnegligent manslaughter\",\"Murder and nonnegligent manslaughter\",\"Murder and nonnegligent manslaughter\",\"Murder and nonnegligent manslaughter\",\"Murder and nonnegligent manslaughter\",\"Murder and nonnegligent manslaughter\",\"Murder and nonnegligent manslaughter\",\"Murder and nonnegligent manslaughter\",\"Murder and nonnegligent manslaughter\",\"Murder and nonnegligent manslaughter\",\"Murder and nonnegligent manslaughter\",\"Murder and nonnegligent manslaughter\",\"Murder and nonnegligent manslaughter\",\"Murder and nonnegligent manslaughter\",\"Murder and nonnegligent manslaughter\",\"Murder and nonnegligent manslaughter\",\"Murder and nonnegligent manslaughter\",\"Murder and nonnegligent manslaughter\",\"Murder and nonnegligent manslaughter\",\"Murder and nonnegligent manslaughter\",\"Murder and nonnegligent manslaughter\",\"Murder and nonnegligent manslaughter\",\"Murder and nonnegligent manslaughter\",\"Murder and nonnegligent manslaughter\",\"Murder and nonnegligent manslaughter\",\"Murder and nonnegligent manslaughter\",\"Murder and nonnegligent manslaughter\",\"Murder and nonnegligent manslaughter\",\"Murder and nonnegligent manslaughter\",\"Murder and nonnegligent manslaughter\",\"Murder and nonnegligent manslaughter\",\"Murder and nonnegligent manslaughter\",\"Murder and nonnegligent manslaughter\",\"Murder and nonnegligent manslaughter\",\"Murder and nonnegligent manslaughter\",\"Murder and nonnegligent manslaughter\",\"Murder and nonnegligent manslaughter\",\"Murder and nonnegligent manslaughter\",\"Murder and nonnegligent manslaughter\",\"Murder and nonnegligent manslaughter\",\"Murder and nonnegligent manslaughter\",\"Murder and nonnegligent manslaughter\",\"Murder and nonnegligent manslaughter\",\"Murder and nonnegligent manslaughter\",\"Murder and nonnegligent manslaughter\",\"Murder and nonnegligent manslaughter\",\"Murder and nonnegligent manslaughter\",\"Murder and nonnegligent manslaughter\",\"Murder and nonnegligent manslaughter\",\"Murder and nonnegligent manslaughter\",\"Murder and nonnegligent manslaughter\",\"Murder and nonnegligent manslaughter\",\"Murder and nonnegligent manslaughter\",\"Murder and nonnegligent manslaughter\",\"Murder and nonnegligent manslaughter\",\"Murder and nonnegligent manslaughter\",\"Murder and nonnegligent manslaughter\",\"Murder and nonnegligent manslaughter\",\"Murder and nonnegligent manslaughter\",\"Murder and nonnegligent manslaughter\",\"Murder and nonnegligent manslaughter\",\"Murder and nonnegligent manslaughter\",\"Murder and nonnegligent manslaughter\",\"Murder and nonnegligent manslaughter\",\"Murder and nonnegligent manslaughter\",\"Murder and nonnegligent manslaughter\",\"Murder and nonnegligent manslaughter\",\"Murder and nonnegligent manslaughter\",\"Murder and nonnegligent manslaughter\",\"Murder and nonnegligent manslaughter\",\"Murder and nonnegligent manslaughter\",\"Murder and nonnegligent manslaughter\",\"Murder and nonnegligent manslaughter\",\"Murder and nonnegligent manslaughter\",\"Murder and nonnegligent manslaughter\",\"Murder and nonnegligent manslaughter\",\"Murder and nonnegligent manslaughter\",\"Murder and nonnegligent manslaughter\",\"Murder and nonnegligent manslaughter\",\"Murder and nonnegligent manslaughter\",\"Murder and nonnegligent manslaughter\",\"Murder and nonnegligent manslaughter\",\"Murder and nonnegligent manslaughter\",\"Murder and nonnegligent manslaughter\",\"Murder and nonnegligent manslaughter\",\"Murder and nonnegligent manslaughter\",\"Murder and nonnegligent manslaughter\",\"Murder and nonnegligent manslaughter\",\"Murder and nonnegligent manslaughter\",\"Murder and nonnegligent manslaughter\",\"Murder and nonnegligent manslaughter\",\"Murder and nonnegligent manslaughter\",\"Murder and nonnegligent manslaughter\",\"Murder and nonnegligent manslaughter\",\"Murder and nonnegligent manslaughter\",\"Murder and nonnegligent manslaughter\",\"Murder and nonnegligent manslaughter\",\"Murder and nonnegligent manslaughter\",\"Murder and nonnegligent manslaughter\",\"Murder and nonnegligent manslaughter\",\"Murder and nonnegligent manslaughter\",\"Murder and nonnegligent manslaughter\",\"Murder and nonnegligent manslaughter\",\"Murder and nonnegligent manslaughter\",\"Murder and nonnegligent manslaughter\",\"Murder and nonnegligent manslaughter\",\"Murder and nonnegligent manslaughter\",\"Murder and nonnegligent manslaughter\",\"Murder and nonnegligent manslaughter\",\"Murder and nonnegligent manslaughter\",\"Murder and nonnegligent manslaughter\",\"Murder and nonnegligent manslaughter\",\"Murder and nonnegligent manslaughter\",\"Murder and nonnegligent manslaughter\",\"Murder and nonnegligent manslaughter\",\"Murder and nonnegligent manslaughter\",\"Murder and nonnegligent manslaughter\",\"Murder and nonnegligent manslaughter\",\"Murder and nonnegligent manslaughter\",\"Murder and nonnegligent manslaughter\",\"Murder and nonnegligent manslaughter\",\"Murder and nonnegligent manslaughter\",\"Murder and nonnegligent manslaughter\",\"Murder and nonnegligent manslaughter\",\"Murder and nonnegligent manslaughter\",\"Murder and nonnegligent manslaughter\",\"Murder and nonnegligent manslaughter\",\"Murder and nonnegligent manslaughter\",\"Murder and nonnegligent manslaughter\",\"Murder and nonnegligent manslaughter\",\"Murder and nonnegligent manslaughter\",\"Murder and nonnegligent manslaughter\",\"Murder and nonnegligent manslaughter\",\"Murder and nonnegligent manslaughter\",\"Murder and nonnegligent manslaughter\",\"Murder and nonnegligent manslaughter\",\"Murder and nonnegligent manslaughter\",\"Murder and nonnegligent manslaughter\",\"Murder and nonnegligent manslaughter\",\"Murder and nonnegligent manslaughter\",\"Murder and nonnegligent manslaughter\",\"Murder and nonnegligent manslaughter\",\"Murder and nonnegligent manslaughter\",\"Murder and nonnegligent manslaughter\",\"Murder and nonnegligent manslaughter\",\"Murder and nonnegligent manslaughter\",\"Murder and nonnegligent manslaughter\",\"Murder and nonnegligent manslaughter\",\"Murder and nonnegligent manslaughter\",\"Murder and nonnegligent manslaughter\",\"Murder and nonnegligent manslaughter\",\"Murder and nonnegligent manslaughter\",\"Murder and nonnegligent manslaughter\",\"Murder and nonnegligent manslaughter\",\"Murder and nonnegligent manslaughter\",\"Murder and nonnegligent manslaughter\",\"Murder and nonnegligent manslaughter\",\"Murder and nonnegligent manslaughter\",\"Murder and nonnegligent manslaughter\",\"Murder and nonnegligent manslaughter\",\"Murder and nonnegligent manslaughter\",\"Murder and nonnegligent manslaughter\",\"Murder and nonnegligent manslaughter\",\"Murder and nonnegligent manslaughter\",\"Murder and nonnegligent manslaughter\",\"Murder and nonnegligent manslaughter\",\"Murder and nonnegligent manslaughter\",\"Murder and nonnegligent manslaughter\",\"Murder and nonnegligent manslaughter\",\"Murder and nonnegligent manslaughter\",\"Murder and nonnegligent manslaughter\",\"Murder and nonnegligent manslaughter\",\"Murder and nonnegligent manslaughter\",\"Murder and nonnegligent manslaughter\",\"Murder and nonnegligent manslaughter\",\"Murder and nonnegligent manslaughter\",\"Murder and nonnegligent manslaughter\",\"Murder and nonnegligent manslaughter\",\"Murder and nonnegligent manslaughter\",\"Murder and nonnegligent manslaughter\",\"Murder and nonnegligent manslaughter\",\"Murder and nonnegligent manslaughter\",\"Murder and nonnegligent manslaughter\",\"Murder and nonnegligent manslaughter\",\"Murder and nonnegligent manslaughter\",\"Murder and nonnegligent manslaughter\",\"Murder and nonnegligent manslaughter\",\"Murder and nonnegligent manslaughter\",\"Murder and nonnegligent manslaughter\",\"Murder and nonnegligent manslaughter\",\"Murder and nonnegligent manslaughter\",\"Murder and nonnegligent manslaughter\",\"Murder and nonnegligent manslaughter\",\"Murder and nonnegligent manslaughter\",\"Murder and nonnegligent manslaughter\",\"Murder and nonnegligent manslaughter\",\"Murder and nonnegligent manslaughter\",\"Murder and nonnegligent manslaughter\",\"Murder and nonnegligent manslaughter\",\"Murder and nonnegligent manslaughter\",\"Murder and nonnegligent manslaughter\",\"Murder and nonnegligent manslaughter\",\"Murder and nonnegligent manslaughter\",\"Murder and nonnegligent manslaughter\",\"Murder and nonnegligent manslaughter\",\"Murder and nonnegligent manslaughter\",\"Murder and nonnegligent manslaughter\",\"Murder and nonnegligent manslaughter\",\"Murder and nonnegligent manslaughter\",\"Murder and nonnegligent manslaughter\",\"Murder and nonnegligent manslaughter\",\"Murder and nonnegligent manslaughter\",\"Murder and nonnegligent manslaughter\",\"Murder and nonnegligent manslaughter\",\"Murder and nonnegligent manslaughter\",\"Murder and nonnegligent manslaughter\",\"Murder and nonnegligent manslaughter\",\"Murder and nonnegligent manslaughter\",\"Murder and nonnegligent manslaughter\",\"Murder and nonnegligent manslaughter\",\"Murder and nonnegligent manslaughter\",\"Murder and nonnegligent manslaughter\",\"Murder and nonnegligent manslaughter\",\"Murder and nonnegligent manslaughter\",\"Murder and nonnegligent manslaughter\",\"Murder and nonnegligent manslaughter\",\"Murder and nonnegligent manslaughter\",\"Murder and nonnegligent manslaughter\",\"Murder and nonnegligent manslaughter\",\"Murder and nonnegligent manslaughter\",\"Murder and nonnegligent manslaughter\",\"Murder and nonnegligent manslaughter\",\"Murder and nonnegligent manslaughter\",\"Murder and nonnegligent manslaughter\",\"Murder and nonnegligent manslaughter\",\"Murder and nonnegligent manslaughter\",\"Murder and nonnegligent manslaughter\",\"Murder and nonnegligent manslaughter\",\"Murder and nonnegligent manslaughter\",\"Murder and nonnegligent manslaughter\",\"Murder and nonnegligent manslaughter\",\"Murder and nonnegligent manslaughter\",\"Murder and nonnegligent manslaughter\",\"Murder and nonnegligent manslaughter\",\"Murder and nonnegligent manslaughter\",\"Murder and nonnegligent manslaughter\",\"Murder and nonnegligent manslaughter\",\"Murder and nonnegligent manslaughter\",\"Murder and nonnegligent manslaughter\",\"Murder and nonnegligent manslaughter\",\"Murder and nonnegligent manslaughter\",\"Murder and nonnegligent manslaughter\",\"Murder and nonnegligent manslaughter\",\"Murder and nonnegligent manslaughter\",\"Murder and nonnegligent manslaughter\",\"Murder and nonnegligent manslaughter\",\"Murder and nonnegligent manslaughter\",\"Murder and nonnegligent manslaughter\",\"Murder and nonnegligent manslaughter\",\"Murder and nonnegligent manslaughter\",\"Murder and nonnegligent manslaughter\",\"Murder and nonnegligent manslaughter\",\"Murder and nonnegligent manslaughter\",\"Murder and nonnegligent manslaughter\",\"Murder and nonnegligent manslaughter\",\"Murder and nonnegligent manslaughter\",\"Murder and nonnegligent manslaughter\",\"Murder and nonnegligent manslaughter\",\"Murder and nonnegligent manslaughter\",\"Murder and nonnegligent manslaughter\",\"Murder and nonnegligent manslaughter\",\"Murder and nonnegligent manslaughter\",\"Murder and nonnegligent manslaughter\",\"Murder and nonnegligent manslaughter\",\"Murder and nonnegligent manslaughter\",\"Murder and nonnegligent manslaughter\",\"Murder and nonnegligent manslaughter\",\"Murder and nonnegligent manslaughter\",\"Murder and nonnegligent manslaughter\",\"Murder and nonnegligent manslaughter\",\"Murder and nonnegligent manslaughter\",\"Murder and nonnegligent manslaughter\",\"Murder and nonnegligent manslaughter\",\"Murder and nonnegligent manslaughter\",\"Murder and nonnegligent manslaughter\",\"Murder and nonnegligent manslaughter\",\"Murder and nonnegligent manslaughter\",\"Murder and nonnegligent manslaughter\",\"Murder and nonnegligent manslaughter\",\"Murder and nonnegligent manslaughter\",\"Murder and nonnegligent manslaughter\",\"Murder and nonnegligent manslaughter\",\"Murder and nonnegligent manslaughter\",\"Murder and nonnegligent manslaughter\",\"Murder and nonnegligent manslaughter\",\"Murder and nonnegligent manslaughter\",\"Murder and nonnegligent manslaughter\",\"Murder and nonnegligent manslaughter\",\"Murder and nonnegligent manslaughter\",\"Murder and nonnegligent manslaughter\",\"Murder and nonnegligent manslaughter\",\"Murder and nonnegligent manslaughter\",\"Murder and nonnegligent manslaughter\",\"Murder and nonnegligent manslaughter\",\"Murder and nonnegligent manslaughter\",\"Murder and nonnegligent manslaughter\",\"Murder and nonnegligent manslaughter\",\"Murder and nonnegligent manslaughter\",\"Murder and nonnegligent manslaughter\",\"Murder and nonnegligent manslaughter\",\"Murder and nonnegligent manslaughter\",\"Murder and nonnegligent manslaughter\",\"Murder and nonnegligent manslaughter\",\"Murder and nonnegligent manslaughter\",\"Murder and nonnegligent manslaughter\",\"Murder and nonnegligent manslaughter\",\"Murder and nonnegligent manslaughter\",\"Murder and nonnegligent manslaughter\",\"Murder and nonnegligent manslaughter\",\"Murder and nonnegligent manslaughter\",\"Murder and nonnegligent manslaughter\",\"Murder and nonnegligent manslaughter\",\"Murder and nonnegligent manslaughter\",\"Murder and nonnegligent manslaughter\",\"Murder and nonnegligent manslaughter\",\"Murder and nonnegligent manslaughter\",\"Murder and nonnegligent manslaughter\",\"Murder and nonnegligent manslaughter\",\"Murder and nonnegligent manslaughter\",\"Murder and nonnegligent manslaughter\",\"Murder and nonnegligent manslaughter\",\"Murder and nonnegligent manslaughter\",\"Murder and nonnegligent manslaughter\",\"Murder and nonnegligent manslaughter\",\"Murder and nonnegligent manslaughter\",\"Murder and nonnegligent manslaughter\",\"Murder and nonnegligent manslaughter\",\"Murder and nonnegligent manslaughter\",\"Murder and nonnegligent manslaughter\",\"Murder and nonnegligent manslaughter\",\"Murder and nonnegligent manslaughter\",\"Murder and nonnegligent manslaughter\",\"Murder and nonnegligent manslaughter\",\"Murder and nonnegligent manslaughter\",\"Murder and nonnegligent manslaughter\",\"Murder and nonnegligent manslaughter\",\"Murder and nonnegligent manslaughter\",\"Murder and nonnegligent manslaughter\",\"Murder and nonnegligent manslaughter\",\"Murder and nonnegligent manslaughter\",\"Murder and nonnegligent manslaughter\",\"Murder and nonnegligent manslaughter\",\"Murder and nonnegligent manslaughter\",\"Murder and nonnegligent manslaughter\",\"Murder and nonnegligent manslaughter\",\"Murder and nonnegligent manslaughter\",\"Murder and nonnegligent manslaughter\",\"Murder and nonnegligent manslaughter\",\"Murder and nonnegligent manslaughter\",\"Murder and nonnegligent manslaughter\",\"Murder and nonnegligent manslaughter\",\"Murder and nonnegligent manslaughter\",\"Murder and nonnegligent manslaughter\",\"Murder and nonnegligent manslaughter\",\"Murder and nonnegligent manslaughter\",\"Murder and nonnegligent manslaughter\",\"Murder and nonnegligent manslaughter\",\"Murder and nonnegligent manslaughter\",\"Murder and nonnegligent manslaughter\",\"Murder and nonnegligent manslaughter\",\"Murder and nonnegligent manslaughter\",\"Murder and nonnegligent manslaughter\",\"Murder and nonnegligent manslaughter\",\"Murder and nonnegligent manslaughter\",\"Murder and nonnegligent manslaughter\",\"Murder and nonnegligent manslaughter\",\"Murder and nonnegligent manslaughter\",\"Murder and nonnegligent manslaughter\",\"Murder and nonnegligent manslaughter\",\"Murder and nonnegligent manslaughter\",\"Murder and nonnegligent manslaughter\",\"Murder and nonnegligent manslaughter\",\"Murder and nonnegligent manslaughter\",\"Murder and nonnegligent manslaughter\",\"Murder and nonnegligent manslaughter\",\"Murder and nonnegligent manslaughter\",\"Murder and nonnegligent manslaughter\",\"Murder and nonnegligent manslaughter\",\"Murder and nonnegligent manslaughter\",\"Murder and nonnegligent manslaughter\",\"Murder and nonnegligent manslaughter\",\"Murder and nonnegligent manslaughter\",\"Murder and nonnegligent manslaughter\",\"Murder and nonnegligent manslaughter\",\"Murder and nonnegligent manslaughter\",\"Murder and nonnegligent manslaughter\",\"Murder and nonnegligent manslaughter\",\"Murder and nonnegligent manslaughter\",\"Murder and nonnegligent manslaughter\",\"Murder and nonnegligent manslaughter\",\"Murder and nonnegligent manslaughter\",\"Murder and nonnegligent manslaughter\",\"Murder and nonnegligent manslaughter\",\"Murder and nonnegligent manslaughter\",\"Murder and nonnegligent manslaughter\",\"Murder and nonnegligent manslaughter\",\"Murder and nonnegligent manslaughter\",\"Murder and nonnegligent manslaughter\",\"Murder and nonnegligent manslaughter\",\"Murder and nonnegligent manslaughter\",\"Murder and nonnegligent manslaughter\",\"Murder and nonnegligent manslaughter\",\"Murder and nonnegligent manslaughter\",\"Murder and nonnegligent manslaughter\",\"Murder and nonnegligent manslaughter\",\"Murder and nonnegligent manslaughter\",\"Murder and nonnegligent manslaughter\",\"Murder and nonnegligent manslaughter\",\"Murder and nonnegligent manslaughter\",\"Murder and nonnegligent manslaughter\",\"Murder and nonnegligent manslaughter\",\"Murder and nonnegligent manslaughter\",\"Murder and nonnegligent manslaughter\",\"Murder and nonnegligent manslaughter\",\"Murder and nonnegligent manslaughter\",\"Murder and nonnegligent manslaughter\",\"Murder and nonnegligent manslaughter\",\"Murder and nonnegligent manslaughter\",\"Murder and nonnegligent manslaughter\",\"Murder and nonnegligent manslaughter\",\"Murder and nonnegligent manslaughter\",\"Murder and nonnegligent manslaughter\",\"Murder and nonnegligent manslaughter\",\"Murder and nonnegligent manslaughter\",\"Murder and nonnegligent manslaughter\",\"Murder and nonnegligent manslaughter\",\"Murder and nonnegligent manslaughter\",\"Murder and nonnegligent manslaughter\",\"Murder and nonnegligent manslaughter\",\"Murder and nonnegligent manslaughter\",\"Murder and nonnegligent manslaughter\",\"Murder and nonnegligent manslaughter\",\"Murder and nonnegligent manslaughter\",\"Murder and nonnegligent manslaughter\",\"Murder and nonnegligent manslaughter\",\"Murder and nonnegligent manslaughter\",\"Murder and nonnegligent manslaughter\",\"Murder and nonnegligent manslaughter\",\"Murder and nonnegligent manslaughter\",\"Murder and nonnegligent manslaughter\",\"Murder and nonnegligent manslaughter\",\"Murder and nonnegligent manslaughter\",\"Murder and nonnegligent manslaughter\",\"Murder and nonnegligent manslaughter\",\"Murder and nonnegligent manslaughter\",\"Murder and nonnegligent manslaughter\",\"Murder and nonnegligent manslaughter\",\"Murder and nonnegligent manslaughter\",\"Murder and nonnegligent manslaughter\",\"Murder and nonnegligent manslaughter\",\"Murder and nonnegligent manslaughter\",\"Murder and nonnegligent manslaughter\",\"Murder and nonnegligent manslaughter\",\"Murder and nonnegligent manslaughter\",\"Murder and nonnegligent manslaughter\",\"Murder and nonnegligent manslaughter\",\"Murder and nonnegligent manslaughter\",\"Murder and nonnegligent manslaughter\",\"Murder and nonnegligent manslaughter\",\"Murder and nonnegligent manslaughter\",\"Murder and nonnegligent manslaughter\",\"Murder and nonnegligent manslaughter\",\"Murder and nonnegligent manslaughter\",\"Murder and nonnegligent manslaughter\",\"Murder and nonnegligent manslaughter\",\"Murder and nonnegligent manslaughter\",\"Murder and nonnegligent manslaughter\",\"Murder and nonnegligent manslaughter\",\"Murder and nonnegligent manslaughter\",\"Murder and nonnegligent manslaughter\",\"Murder and nonnegligent manslaughter\",\"Murder and nonnegligent manslaughter\",\"Murder and nonnegligent manslaughter\",\"Murder and nonnegligent manslaughter\",\"Murder and nonnegligent manslaughter\",\"Murder and nonnegligent manslaughter\",\"Murder and nonnegligent manslaughter\",\"Murder and nonnegligent manslaughter\",\"Murder and nonnegligent manslaughter\",\"Murder and nonnegligent manslaughter\",\"Murder and nonnegligent manslaughter\",\"Murder and nonnegligent manslaughter\",\"Murder and nonnegligent manslaughter\",\"Murder and nonnegligent manslaughter\",\"Murder and nonnegligent manslaughter\",\"Murder and nonnegligent manslaughter\",\"Murder and nonnegligent manslaughter\",\"Murder and nonnegligent manslaughter\",\"Murder and nonnegligent manslaughter\",\"Murder and nonnegligent manslaughter\",\"Murder and nonnegligent manslaughter\",\"Murder and nonnegligent manslaughter\",\"Murder and nonnegligent manslaughter\",\"Murder and nonnegligent manslaughter\",\"Murder and nonnegligent manslaughter\",\"Murder and nonnegligent manslaughter\",\"Murder and nonnegligent manslaughter\",\"Murder and nonnegligent manslaughter\",\"Murder and nonnegligent manslaughter\",\"Murder and nonnegligent manslaughter\",\"Murder and nonnegligent manslaughter\",\"Murder and nonnegligent manslaughter\",\"Murder and nonnegligent manslaughter\",\"Murder and nonnegligent manslaughter\",\"Murder and nonnegligent manslaughter\",\"Murder and nonnegligent manslaughter\",\"Murder and nonnegligent manslaughter\",\"Murder and nonnegligent manslaughter\",\"Murder and nonnegligent manslaughter\",\"Murder and nonnegligent manslaughter\",\"Murder and nonnegligent manslaughter\",\"Murder and nonnegligent manslaughter\",\"Murder and nonnegligent manslaughter\",\"Murder and nonnegligent manslaughter\",\"Murder and nonnegligent manslaughter\",\"Murder and nonnegligent manslaughter\",\"Murder and nonnegligent manslaughter\",\"Murder and nonnegligent manslaughter\",\"Murder and nonnegligent manslaughter\",\"Murder and nonnegligent manslaughter\",\"Murder and nonnegligent manslaughter\",\"Murder and nonnegligent manslaughter\",\"Murder and nonnegligent manslaughter\",\"Murder and nonnegligent manslaughter\",\"Murder and nonnegligent manslaughter\",\"Murder and nonnegligent manslaughter\",\"Murder and nonnegligent manslaughter\",\"Murder and nonnegligent manslaughter\",\"Murder and nonnegligent manslaughter\",\"Murder and nonnegligent manslaughter\",\"Murder and nonnegligent manslaughter\",\"Murder and nonnegligent manslaughter\",\"Murder and nonnegligent manslaughter\",\"Murder and nonnegligent manslaughter\",\"Murder and nonnegligent manslaughter\",\"Murder and nonnegligent manslaughter\",\"Murder and nonnegligent manslaughter\",\"Murder and nonnegligent manslaughter\",\"Murder and nonnegligent manslaughter\",\"Murder and nonnegligent manslaughter\",\"Murder and nonnegligent manslaughter\",\"Murder and nonnegligent manslaughter\",\"Murder and nonnegligent manslaughter\",\"Murder and nonnegligent manslaughter\",\"Murder and nonnegligent manslaughter\",\"Murder and nonnegligent manslaughter\",\"Murder and nonnegligent manslaughter\",\"Murder and nonnegligent manslaughter\",\"Murder and nonnegligent manslaughter\",\"Murder and nonnegligent manslaughter\",\"Murder and nonnegligent manslaughter\",\"Murder and nonnegligent manslaughter\",\"Murder and nonnegligent manslaughter\",\"Murder and nonnegligent manslaughter\",\"Murder and nonnegligent manslaughter\",\"Murder and nonnegligent manslaughter\",\"Murder and nonnegligent manslaughter\",\"Murder and nonnegligent manslaughter\",\"Murder and nonnegligent manslaughter\",\"Murder and nonnegligent manslaughter\",\"Murder and nonnegligent manslaughter\",\"Murder and nonnegligent manslaughter\",\"Murder and nonnegligent manslaughter\",\"Murder and nonnegligent manslaughter\",\"Murder and nonnegligent manslaughter\",\"Murder and nonnegligent manslaughter\",\"Murder and nonnegligent manslaughter\",\"Murder and nonnegligent manslaughter\",\"Murder and nonnegligent manslaughter\",\"Murder and nonnegligent manslaughter\",\"Murder and nonnegligent manslaughter\",\"Murder and nonnegligent manslaughter\",\"Murder and nonnegligent manslaughter\",\"Murder and nonnegligent manslaughter\",\"Murder and nonnegligent manslaughter\",\"Murder and nonnegligent manslaughter\",\"Murder and nonnegligent manslaughter\",\"Murder and nonnegligent manslaughter\",\"Murder and nonnegligent manslaughter\",\"Murder and nonnegligent manslaughter\",\"Murder and nonnegligent manslaughter\",\"Murder and nonnegligent manslaughter\",\"Murder and nonnegligent manslaughter\",\"Murder and nonnegligent manslaughter\",\"Murder and nonnegligent manslaughter\",\"Murder and nonnegligent manslaughter\",\"Murder and nonnegligent manslaughter\",\"Murder and nonnegligent manslaughter\",\"Murder and nonnegligent manslaughter\",\"Murder and nonnegligent manslaughter\",\"Murder and nonnegligent manslaughter\",\"Murder and nonnegligent manslaughter\",\"Murder and nonnegligent manslaughter\",\"Murder and nonnegligent manslaughter\",\"Murder and nonnegligent manslaughter\",\"Murder and nonnegligent manslaughter\",\"Murder and nonnegligent manslaughter\",\"Murder and nonnegligent manslaughter\",\"Murder and nonnegligent manslaughter\",\"Murder and nonnegligent manslaughter\",\"Murder and nonnegligent manslaughter\",\"Murder and nonnegligent manslaughter\",\"Murder and nonnegligent manslaughter\",\"Murder and nonnegligent manslaughter\",\"Murder and nonnegligent manslaughter\",\"Murder and nonnegligent manslaughter\",\"Murder and nonnegligent manslaughter\",\"Murder and nonnegligent manslaughter\",\"Murder and nonnegligent manslaughter\",\"Murder and nonnegligent manslaughter\",\"Murder and nonnegligent manslaughter\",\"Murder and nonnegligent manslaughter\",\"Murder and nonnegligent manslaughter\",\"Murder and nonnegligent manslaughter\",\"Murder and nonnegligent manslaughter\",\"Murder and nonnegligent manslaughter\",\"Murder and nonnegligent manslaughter\",\"Murder and nonnegligent manslaughter\",\"Murder and nonnegligent manslaughter\",\"Murder and nonnegligent manslaughter\",\"Murder and nonnegligent manslaughter\",\"Murder and nonnegligent manslaughter\",\"Murder and nonnegligent manslaughter\",\"Murder and nonnegligent manslaughter\",\"Murder and nonnegligent manslaughter\",\"Murder and nonnegligent manslaughter\",\"Murder and nonnegligent manslaughter\",\"Murder and nonnegligent manslaughter\",\"Murder and nonnegligent manslaughter\",\"Murder and nonnegligent manslaughter\",\"Murder and nonnegligent manslaughter\",\"Murder and nonnegligent manslaughter\",\"Murder and nonnegligent manslaughter\",\"Murder and nonnegligent manslaughter\",\"Murder and nonnegligent manslaughter\",\"Murder and nonnegligent manslaughter\",\"Murder and nonnegligent manslaughter\",\"Murder and nonnegligent manslaughter\",\"Murder and nonnegligent manslaughter\",\"Murder and nonnegligent manslaughter\",\"Murder and nonnegligent manslaughter\",\"Murder and nonnegligent manslaughter\",\"Murder and nonnegligent manslaughter\",\"Murder and nonnegligent manslaughter\",\"Murder and nonnegligent manslaughter\",\"Murder and nonnegligent manslaughter\",\"Murder and nonnegligent manslaughter\",\"Murder and nonnegligent manslaughter\",\"Murder and nonnegligent manslaughter\",\"Murder and nonnegligent manslaughter\",\"Murder and nonnegligent manslaughter\",\"Murder and nonnegligent manslaughter\",\"Murder and nonnegligent manslaughter\",\"Murder and nonnegligent manslaughter\",\"Murder and nonnegligent manslaughter\",\"Murder and nonnegligent manslaughter\",\"Murder and nonnegligent manslaughter\",\"Murder and nonnegligent manslaughter\",\"Murder and nonnegligent manslaughter\",\"Murder and nonnegligent manslaughter\",\"Murder and nonnegligent manslaughter\",\"Murder and nonnegligent manslaughter\",\"Murder and nonnegligent manslaughter\",\"Murder and nonnegligent manslaughter\",\"Murder and nonnegligent manslaughter\",\"Murder and nonnegligent manslaughter\",\"Murder and nonnegligent manslaughter\",\"Murder and nonnegligent manslaughter\",\"Murder and nonnegligent manslaughter\",\"Murder and nonnegligent manslaughter\",\"Murder and nonnegligent manslaughter\",\"Murder and nonnegligent manslaughter\",\"Murder and nonnegligent manslaughter\",\"Murder and nonnegligent manslaughter\",\"Murder and nonnegligent manslaughter\",\"Murder and nonnegligent manslaughter\",\"Murder and nonnegligent manslaughter\",\"Murder and nonnegligent manslaughter\",\"Murder and nonnegligent manslaughter\",\"Murder and nonnegligent manslaughter\",\"Murder and nonnegligent manslaughter\",\"Murder and nonnegligent manslaughter\",\"Murder and nonnegligent manslaughter\",\"Murder and nonnegligent manslaughter\",\"Murder and nonnegligent manslaughter\",\"Murder and nonnegligent manslaughter\",\"Murder and nonnegligent manslaughter\",\"Murder and nonnegligent manslaughter\",\"Murder and nonnegligent manslaughter\",\"Murder and nonnegligent manslaughter\",\"Murder and nonnegligent manslaughter\",\"Murder and nonnegligent manslaughter\",\"Murder and nonnegligent manslaughter\",\"Murder and nonnegligent manslaughter\",\"Murder and nonnegligent manslaughter\",\"Murder and nonnegligent manslaughter\",\"Murder and nonnegligent manslaughter\",\"Murder and nonnegligent manslaughter\",\"Murder and nonnegligent manslaughter\",\"Murder and nonnegligent manslaughter\",\"Murder and nonnegligent manslaughter\",\"Murder and nonnegligent manslaughter\"],\"x0\":\" \",\"xaxis\":\"x\",\"y\":[6.0,4.0,14.0,9.0,8.0,0.0,31.0,2.0,98.0,1.0,3.0,10.0,5.0,1.0,2.0,4.0,12.0,37.0,1.0,18.0,10.0,5.0,3.0,3.0,2.0,4.0,0.0,3.0,3.0,5.0,11.0,1.0,23.0,3.0,1.0,3.0,0.0,1.0,6.0,0.0,1.0,1.0,7.0,0.0,3.0,0.0,0.0,5.0,0.0,0.0,0.0,1.0,0.0,2.0,3.0,1.0,0.0,null,null,null,null,null,null,null,null,null,null,null,null,null,null,null,null,null,null,null,null,null,null,null,null,null,null,null,null,null,null,null,null,null,null,null,null,null,null,null,null,null,null,null,null,null,null,null,null,null,null,null,null,null,null,null,null,null,null,null,null,null,null,null,null,null,null,null,null,null,null,null,null,null,null,null,null,null,null,null,null,null,null,null,null,null,null,null,null,null,null,null,null,null,null,null,null,null,null,null,null,null,null,null,null,null,null,null,null,null,null,null,null,null,null,null,null,null,null,null,null,null,null,null,null,null,null,null,null,null,null,null,null,null,null,null,null,null,null,null,null,null,null,null,null,null,null,null,null,null,null,null,null,null,null,null,null,null,null,null,null,null,null,null,null,null,null,null,null,null,null,null,null,null,null,null,null,null,null,null,null,null,null,null,null,null,null,null,null,null,null,null,null,null,null,null,null,null,null,null,null,null,null,null,null,null,null,null,null,null,null,null,null,null,null,null,null,null,null,null,null,null,null,null,null,null,null,null,null,null,null,null,null,null,null,null,null,null,null,null,null,null,null,null,null,null,null,null,null,null,null,null,null,null,null,null,null,null,null,null,null,null,null,null,null,null,null,null,null,null,null,null,null,null,null,null,null,null,null,null,null,null,null,null,null,null,null,null,null,null,null,null,null,null,null,null,null,null,null,null,null,null,null,null,null,null,null,null,null,null,null,null,null,null,null,null,null,null,null,null,null,null,null,null,null,null,null,null,null,null,null,null,null,null,null,null,null,null,null,null,null,null,null,null,null,null,null,null,null,null,null,null,null,null,null,null,null,null,null,null,null,null,null,null,null,null,null,null,null,null,null,null,null,null,null,null,null,null,null,null,null,null,null,null,null,null,null,null,null,null,null,null,null,null,null,null,null,null,null,null,null,null,null,null,null,null,null,null,null,null,null,null,null,null,null,null,null,null,null,null,null,null,null,null,null,null,null,null,null,null,null,null,null,null,null,null,null,null,null,null,null,null,null,null,null,null,null,null,null,null,null,null,null,null,null,null,null,null,null,null,null,null,null,null,null,null,null,null,null,null,null,null,null,null,null,null,null,null,null,null,null,null,null,null,null,null,null,null,null,null,null,null,null,null,null,null,null,null,null,null,null,null,null,null,null,null,null,null,null,null,null,null,null,null,null,null,null,null,null,null,null,null,null,null,null,null,null,null,null,null,null,null,null,null,null,null,null,null,null,null,null,null,null,null,null,null,null,null,null,null,null,null,null,null,null,null,null,null,null,null,null,null,null,null,null,null,null,null,null,null,null,null,null,null,null,null,null,null,null,null,null,null,null,null,null,null,null,null,null,null,null,null,null,null,null,null,null,null,null,null,null,null,null,null,null,null,null,null,null,null,null,null,null,null,null,null,null,null,null,null,null,null,null,null,null,null,null,null,null,null,null,null,null,null,null,null,null,null,null,null,null,null,null,null,null,null,null,null,null,null,null,null,null,null,null,null,null,null,null,null,null,null,null,null,null,null,null,null,null,null,null,null,null,null,null,null,null,null,null,null,null,null,null,null,null,null,null,null,null,null,null,null,null,null,null,null,null,null,null,null,null,null,null,null,null,null,null,null,null,null,null,null,null,null,null,null,null,null,null,null,null,null,null,null,null,null,null,null,null,null,null,null,null,null,null,null,null,null,null,null,null,null,null,null,null,null,null,null,null,null,null,null,null,null,null,null,null,null,null,null,null,null,null,null,null,null,null,null,null,null,null,null,null,null,null,null,null,null,null,null,null,null,null,null,null,null,null,null,null,null,null,null,null,null,null,null,null,null,null,null,null,null,null,null,null,null,null,null,null,null,null,null,null,null,null,null,null,null,null,null,null,null,null,null,null,null,null,null,null,null,null,null,null,null,null,null,null,null,null,null,null,null,null,null,null,null,null,null,null,null,null,null,null,null,null,null,null,null,null,null,null,null,null,null,null,null,null,null,null,null,null,null,null,null,null,null,null,null,null,null,null,null,null,null,null,null,null,null,null,null,null,null,null,null,null,null,null,null,null,null,null,null,null,null,null,null,null,null,null,null,null,null,null,null,null,null,null,null,null,null,null,null,null,null,null,null,null,null,null,null,null,null,null,null,null,null,null,null,null,null,null,null,null,null,null,null,null,null,null,null,null,null,null,null,null,null,null,null,null,null,null,null,null,null,null,null,null,null,null,null,null,null,null,null,null,null,null,null,null,null,null,null,null,null,null,null,null,null,null,null,null,null,null,null,null,null,null,null,null,null,null,null,null,null,null,null,null,null,null,null,null,null,null,null,null,null,null,null,null,null,null,null,null,null,null,null,null,null,null,null,null,null,null,null,null,null,null,null,null,null,null,null,null,null,null,null,null,null,null,null,null,null,null,null,null,null,null,null,null,null,null,null,null,null,null,null,null,null,null,null,null,null,null,null,null,null,null,null,null,null,null,null,null,null,null,null,null,null,null,null,null,null,null,null,null,null,null,null,null,null,null,null,null,null,null,null,null,null,null,null,null,null,null,null,null,null,null,null,null,null,null,null,null,null,null,null,null,null,null,null,null,null,null,null,null,null,null,null,null,null,null,null,null,null,null,null,null,null,null,null,null,null,null,null,null,null,null,null,null,null,null,null,null,null,null,null,null,null,null,null,null,null,null,null,null,null,null,null,null,null,null,null,null,null,null,null,null,null,null,null,null,null,null,null,null,null,null,null,null,null,null,null,null,null,null,null,null,null,null,null,null,null,null,null,null,null,null,null,null,null,null,null,null,null,null,null,null,null,null,null,null,null,null,null,null,null,null,null,null,null,null,null,null,null,null,null,null,null,null,null,null,null,null,null,null,null,null,null,null,null,null,null,null,null,null,null,null,null,null,null,null,null,null,null,null,null,null,null,null,null,null,null,null,null,null,null,null,null,null,null,null,null,null,null,null,null,null,null,null,null,null,null,null,null,null,null,null,null,null,null,null,null,null,null,null,null,null,null,null,null,null,null,null,null,null,null,null,null,null,null,null,null,null,null,null,null,null,null,null,null,null,null,null,null,null,null,null,null,null,null,null,null,null,null,null,null,null,null,null,null,null,null,null,null,null,null,null,null,null,null,null,null,null,null,null,null,null,null,null,null,null,null,null,null,null,null,null,null,null,null,null,null,null,null,null,null,null,null,null,null,null,null,null,null,null,null,null,null,null,null,null,null,null,null,null,null,null,null,null,null,null,null,null,null,null,null,null,null,null,null,null,null,null,null,null,null,null,null,null,null,null,null,null,null,null,null,null,null,null,null,null,null,null,null,null,null,null,null,null,null,null,null,null,null,null,null,null,null,null,null,null,null,null,null,null,null,null,null,null,null,null,null,null,null,null,null,null,null,null,null,null,null,null,null,null,null,null,null,null,null,null,null,null,null,null,null,null,null,null,null,null,null,null,null,null,null,null,null,null,null,null,null,null,null,null,null,null,null,null,null,null,null,null,null,null,null,null,null,null,null,null,null,null,null,null,null,null,null,null,null,null,null,null,null,null,null,null,null,null,null,null,null,null,null,null,null,null,null,null,null,null,null,null,null,null,null,null,null,null,null,null,null,null,null,null,null,null,null,null,null,null,null,null,null,null,null,null,null,null,null,null,null,null,null,null,null,null,null,null,null,null,null,null,null,null,null,null,null,null,null,null,null,null,null,null,null,null,null,null,null,null,null,null,null,null,null,null,null,null,null,null,null,null,null,null,null,null,null,null,null,null,null,null,null,null,null,null,null,null,null,null,null,null,null,null,null,null,null,null,null,null,null,null,null,null,null,null,null,null,null,null,null,null,null,null,null,null,null,null,null,null,null,null,null,null,null,null,null,null,null,null,null,null,null,null,null,null,null,null,null,null,null,null,null,null,null,null,null,null,null,null,null,null,null,null,null,null,null,null,null,null,null,null,null,null,null,null,null,null,null,null,null,null,null,null,null,null,null,null,null,null,null,null,null,null,null,null,null,null,null,null,null,null,null,null,null,null,null,null,null,null,null,null,null,null,null,null,null,null,null,null,null,null,null,null,null,null,null,null,null,null,null,null,null,null,null,null,null,null,null,null,null,null,null,null,null,null,null,null,null,null,null,null,null,null,null,null,null,null,null,null,null,null,null,null,null,null,null,null,null,null,null,null,null,null,null,null,null,null,null,null,null,null,null,null,null,null,null,null,null,null,null,null,null,null,null,null,null,null,null,null,null,null,null,null,null,null,null,null,null,null,null,null,null,null,null,null,null,null,null,null,null,null,null,null,null,null,null,null,null,null,null,null,null,null,null,null,null,null,null,null,null,null,null,null,null,null,null,null,null,null,null,null,null,null,null,null,null,null,null,null,null,null,null,null,null,null,null,null,null,null,null,null,null,null,null,null,null,null,null,null,null,null,null,null,null,null,null,null,null,null,null,null,null,null,null,null,null,null,null,null,null,null,null,null,null,null,null,null,null,null,null,null,null,null,null,null,null,null,null,null,null,null,null,null,null,null,null,null,null,null,null,null,null,null,null,null,null,null,null,null,null,null,null,null,null,null,null,null,null,null,null,null,null,null,null,null,null,null,null,null,null,null,null,null,null,null,null,null,null,null,null,null,null,null,null,null,null,null,null,null,null,null,null,null,null,null,null,null,null,null,null,null,null,null,null,null,null,null,null,null,null,null,null,null,null,null,null,null,null,null,null,null,null,null,null,null,null,null,null,null,null,null,null,null,null,null,null,null,null,null,null,null,null,null,null,null,null,null,null,null,null,null,null,null,null,null,null,null,null,null,null,null,null,null,null,null,null,null,null,null,null,null,null,null,null,null,null,null,null,null,null,null,null,null,null,null,null,null,null,null,null,null,null,null,null,null,null,null,null,null,null,null,null,null,null,null,null,null,null,null,null,null,null,null,null,null,null,null,null,null,null,null,null,null,null,null,null,null,null,null,null,null,null,null,null,null,null,null,null,null,null,null,null,null,null,null,null,null,null,null,null,null,null,null,null,null,null,null,null,null,null,null,null,null,null,null,null,null,null,null,null,null,null,null,null,null,null,null,null,null,null,null,null,null,null,null,null,null,null,null,null,null,null,null,null,null,null,null,null,null,null,null,null,null,null,null,null,null,null,null,null,null,null,null,null,null,null,null,null,null,null,null,null,null,null,null,null,null,null,null,null,null,null,null,null,null,null,null,null,null,null,null,null,null,null,null,null,null,null,null,null,null,null,null,null,null,null,null,null,null,null,null,null,null,null,null,null,null,null,null,null,null,null,null,null,null,null,null,null,null,null,null,null,null,null,null,null,null,null,null,null,null,null,null,null,null,null,null,null,null,null,null,null,null,null,null,null,null,null,null,null,null,null,null,null,null,null,null,null,null,null,null,null,null,null,null,null,null,null,null,null,null,null,null,null,null,null,null,null,null,null,null,null,null,null,null,null,null,null,null,null,null,null,null,null,null,null,null,null,null,null,null,null,null,null,null,null,null,null,null,null,null,null,null,null,null,null,null,null,null,null,null,null,null,null,null,null,null,null,null,null,null,null,null,null,null,null,null,null,null,null,null,null,null,null,null,null,null,null,null,null,null,null,null,null,null,null,null,null,null,null,null,null,null,null,null,null,null,null,null,null,null,null,null,null,null,null,null,null,null,null,null,null,null,null,null,null,null,null,null,null,null,null,null,null,null,null,null,null,null,null,null,null,null,null,null,null,null,null,null,null,null,null,null,null,null,null,null,null,null,null,null,null,null,null],\"y0\":\" \",\"yaxis\":\"y\",\"type\":\"box\"}],                        {\"template\":{\"data\":{\"histogram2dcontour\":[{\"type\":\"histogram2dcontour\",\"colorbar\":{\"outlinewidth\":0,\"ticks\":\"\"},\"colorscale\":[[0.0,\"#0d0887\"],[0.1111111111111111,\"#46039f\"],[0.2222222222222222,\"#7201a8\"],[0.3333333333333333,\"#9c179e\"],[0.4444444444444444,\"#bd3786\"],[0.5555555555555556,\"#d8576b\"],[0.6666666666666666,\"#ed7953\"],[0.7777777777777778,\"#fb9f3a\"],[0.8888888888888888,\"#fdca26\"],[1.0,\"#f0f921\"]]}],\"choropleth\":[{\"type\":\"choropleth\",\"colorbar\":{\"outlinewidth\":0,\"ticks\":\"\"}}],\"histogram2d\":[{\"type\":\"histogram2d\",\"colorbar\":{\"outlinewidth\":0,\"ticks\":\"\"},\"colorscale\":[[0.0,\"#0d0887\"],[0.1111111111111111,\"#46039f\"],[0.2222222222222222,\"#7201a8\"],[0.3333333333333333,\"#9c179e\"],[0.4444444444444444,\"#bd3786\"],[0.5555555555555556,\"#d8576b\"],[0.6666666666666666,\"#ed7953\"],[0.7777777777777778,\"#fb9f3a\"],[0.8888888888888888,\"#fdca26\"],[1.0,\"#f0f921\"]]}],\"heatmap\":[{\"type\":\"heatmap\",\"colorbar\":{\"outlinewidth\":0,\"ticks\":\"\"},\"colorscale\":[[0.0,\"#0d0887\"],[0.1111111111111111,\"#46039f\"],[0.2222222222222222,\"#7201a8\"],[0.3333333333333333,\"#9c179e\"],[0.4444444444444444,\"#bd3786\"],[0.5555555555555556,\"#d8576b\"],[0.6666666666666666,\"#ed7953\"],[0.7777777777777778,\"#fb9f3a\"],[0.8888888888888888,\"#fdca26\"],[1.0,\"#f0f921\"]]}],\"heatmapgl\":[{\"type\":\"heatmapgl\",\"colorbar\":{\"outlinewidth\":0,\"ticks\":\"\"},\"colorscale\":[[0.0,\"#0d0887\"],[0.1111111111111111,\"#46039f\"],[0.2222222222222222,\"#7201a8\"],[0.3333333333333333,\"#9c179e\"],[0.4444444444444444,\"#bd3786\"],[0.5555555555555556,\"#d8576b\"],[0.6666666666666666,\"#ed7953\"],[0.7777777777777778,\"#fb9f3a\"],[0.8888888888888888,\"#fdca26\"],[1.0,\"#f0f921\"]]}],\"contourcarpet\":[{\"type\":\"contourcarpet\",\"colorbar\":{\"outlinewidth\":0,\"ticks\":\"\"}}],\"contour\":[{\"type\":\"contour\",\"colorbar\":{\"outlinewidth\":0,\"ticks\":\"\"},\"colorscale\":[[0.0,\"#0d0887\"],[0.1111111111111111,\"#46039f\"],[0.2222222222222222,\"#7201a8\"],[0.3333333333333333,\"#9c179e\"],[0.4444444444444444,\"#bd3786\"],[0.5555555555555556,\"#d8576b\"],[0.6666666666666666,\"#ed7953\"],[0.7777777777777778,\"#fb9f3a\"],[0.8888888888888888,\"#fdca26\"],[1.0,\"#f0f921\"]]}],\"surface\":[{\"type\":\"surface\",\"colorbar\":{\"outlinewidth\":0,\"ticks\":\"\"},\"colorscale\":[[0.0,\"#0d0887\"],[0.1111111111111111,\"#46039f\"],[0.2222222222222222,\"#7201a8\"],[0.3333333333333333,\"#9c179e\"],[0.4444444444444444,\"#bd3786\"],[0.5555555555555556,\"#d8576b\"],[0.6666666666666666,\"#ed7953\"],[0.7777777777777778,\"#fb9f3a\"],[0.8888888888888888,\"#fdca26\"],[1.0,\"#f0f921\"]]}],\"mesh3d\":[{\"type\":\"mesh3d\",\"colorbar\":{\"outlinewidth\":0,\"ticks\":\"\"}}],\"scatter\":[{\"fillpattern\":{\"fillmode\":\"overlay\",\"size\":10,\"solidity\":0.2},\"type\":\"scatter\"}],\"parcoords\":[{\"type\":\"parcoords\",\"line\":{\"colorbar\":{\"outlinewidth\":0,\"ticks\":\"\"}}}],\"scatterpolargl\":[{\"type\":\"scatterpolargl\",\"marker\":{\"colorbar\":{\"outlinewidth\":0,\"ticks\":\"\"}}}],\"bar\":[{\"error_x\":{\"color\":\"#2a3f5f\"},\"error_y\":{\"color\":\"#2a3f5f\"},\"marker\":{\"line\":{\"color\":\"#E5ECF6\",\"width\":0.5},\"pattern\":{\"fillmode\":\"overlay\",\"size\":10,\"solidity\":0.2}},\"type\":\"bar\"}],\"scattergeo\":[{\"type\":\"scattergeo\",\"marker\":{\"colorbar\":{\"outlinewidth\":0,\"ticks\":\"\"}}}],\"scatterpolar\":[{\"type\":\"scatterpolar\",\"marker\":{\"colorbar\":{\"outlinewidth\":0,\"ticks\":\"\"}}}],\"histogram\":[{\"marker\":{\"pattern\":{\"fillmode\":\"overlay\",\"size\":10,\"solidity\":0.2}},\"type\":\"histogram\"}],\"scattergl\":[{\"type\":\"scattergl\",\"marker\":{\"colorbar\":{\"outlinewidth\":0,\"ticks\":\"\"}}}],\"scatter3d\":[{\"type\":\"scatter3d\",\"line\":{\"colorbar\":{\"outlinewidth\":0,\"ticks\":\"\"}},\"marker\":{\"colorbar\":{\"outlinewidth\":0,\"ticks\":\"\"}}}],\"scattermapbox\":[{\"type\":\"scattermapbox\",\"marker\":{\"colorbar\":{\"outlinewidth\":0,\"ticks\":\"\"}}}],\"scatterternary\":[{\"type\":\"scatterternary\",\"marker\":{\"colorbar\":{\"outlinewidth\":0,\"ticks\":\"\"}}}],\"scattercarpet\":[{\"type\":\"scattercarpet\",\"marker\":{\"colorbar\":{\"outlinewidth\":0,\"ticks\":\"\"}}}],\"carpet\":[{\"aaxis\":{\"endlinecolor\":\"#2a3f5f\",\"gridcolor\":\"white\",\"linecolor\":\"white\",\"minorgridcolor\":\"white\",\"startlinecolor\":\"#2a3f5f\"},\"baxis\":{\"endlinecolor\":\"#2a3f5f\",\"gridcolor\":\"white\",\"linecolor\":\"white\",\"minorgridcolor\":\"white\",\"startlinecolor\":\"#2a3f5f\"},\"type\":\"carpet\"}],\"table\":[{\"cells\":{\"fill\":{\"color\":\"#EBF0F8\"},\"line\":{\"color\":\"white\"}},\"header\":{\"fill\":{\"color\":\"#C8D4E3\"},\"line\":{\"color\":\"white\"}},\"type\":\"table\"}],\"barpolar\":[{\"marker\":{\"line\":{\"color\":\"#E5ECF6\",\"width\":0.5},\"pattern\":{\"fillmode\":\"overlay\",\"size\":10,\"solidity\":0.2}},\"type\":\"barpolar\"}],\"pie\":[{\"automargin\":true,\"type\":\"pie\"}]},\"layout\":{\"autotypenumbers\":\"strict\",\"colorway\":[\"#636efa\",\"#EF553B\",\"#00cc96\",\"#ab63fa\",\"#FFA15A\",\"#19d3f3\",\"#FF6692\",\"#B6E880\",\"#FF97FF\",\"#FECB52\"],\"font\":{\"color\":\"#2a3f5f\"},\"hovermode\":\"closest\",\"hoverlabel\":{\"align\":\"left\"},\"paper_bgcolor\":\"white\",\"plot_bgcolor\":\"#E5ECF6\",\"polar\":{\"bgcolor\":\"#E5ECF6\",\"angularaxis\":{\"gridcolor\":\"white\",\"linecolor\":\"white\",\"ticks\":\"\"},\"radialaxis\":{\"gridcolor\":\"white\",\"linecolor\":\"white\",\"ticks\":\"\"}},\"ternary\":{\"bgcolor\":\"#E5ECF6\",\"aaxis\":{\"gridcolor\":\"white\",\"linecolor\":\"white\",\"ticks\":\"\"},\"baxis\":{\"gridcolor\":\"white\",\"linecolor\":\"white\",\"ticks\":\"\"},\"caxis\":{\"gridcolor\":\"white\",\"linecolor\":\"white\",\"ticks\":\"\"}},\"coloraxis\":{\"colorbar\":{\"outlinewidth\":0,\"ticks\":\"\"}},\"colorscale\":{\"sequential\":[[0.0,\"#0d0887\"],[0.1111111111111111,\"#46039f\"],[0.2222222222222222,\"#7201a8\"],[0.3333333333333333,\"#9c179e\"],[0.4444444444444444,\"#bd3786\"],[0.5555555555555556,\"#d8576b\"],[0.6666666666666666,\"#ed7953\"],[0.7777777777777778,\"#fb9f3a\"],[0.8888888888888888,\"#fdca26\"],[1.0,\"#f0f921\"]],\"sequentialminus\":[[0.0,\"#0d0887\"],[0.1111111111111111,\"#46039f\"],[0.2222222222222222,\"#7201a8\"],[0.3333333333333333,\"#9c179e\"],[0.4444444444444444,\"#bd3786\"],[0.5555555555555556,\"#d8576b\"],[0.6666666666666666,\"#ed7953\"],[0.7777777777777778,\"#fb9f3a\"],[0.8888888888888888,\"#fdca26\"],[1.0,\"#f0f921\"]],\"diverging\":[[0,\"#8e0152\"],[0.1,\"#c51b7d\"],[0.2,\"#de77ae\"],[0.3,\"#f1b6da\"],[0.4,\"#fde0ef\"],[0.5,\"#f7f7f7\"],[0.6,\"#e6f5d0\"],[0.7,\"#b8e186\"],[0.8,\"#7fbc41\"],[0.9,\"#4d9221\"],[1,\"#276419\"]]},\"xaxis\":{\"gridcolor\":\"white\",\"linecolor\":\"white\",\"ticks\":\"\",\"title\":{\"standoff\":15},\"zerolinecolor\":\"white\",\"automargin\":true,\"zerolinewidth\":2},\"yaxis\":{\"gridcolor\":\"white\",\"linecolor\":\"white\",\"ticks\":\"\",\"title\":{\"standoff\":15},\"zerolinecolor\":\"white\",\"automargin\":true,\"zerolinewidth\":2},\"scene\":{\"xaxis\":{\"backgroundcolor\":\"#E5ECF6\",\"gridcolor\":\"white\",\"linecolor\":\"white\",\"showbackground\":true,\"ticks\":\"\",\"zerolinecolor\":\"white\",\"gridwidth\":2},\"yaxis\":{\"backgroundcolor\":\"#E5ECF6\",\"gridcolor\":\"white\",\"linecolor\":\"white\",\"showbackground\":true,\"ticks\":\"\",\"zerolinecolor\":\"white\",\"gridwidth\":2},\"zaxis\":{\"backgroundcolor\":\"#E5ECF6\",\"gridcolor\":\"white\",\"linecolor\":\"white\",\"showbackground\":true,\"ticks\":\"\",\"zerolinecolor\":\"white\",\"gridwidth\":2}},\"shapedefaults\":{\"line\":{\"color\":\"#2a3f5f\"}},\"annotationdefaults\":{\"arrowcolor\":\"#2a3f5f\",\"arrowhead\":0,\"arrowwidth\":1},\"geo\":{\"bgcolor\":\"white\",\"landcolor\":\"#E5ECF6\",\"subunitcolor\":\"white\",\"showland\":true,\"showlakes\":true,\"lakecolor\":\"white\"},\"title\":{\"x\":0.05},\"mapbox\":{\"style\":\"light\"}}},\"xaxis\":{\"anchor\":\"y\",\"domain\":[0.0,1.0],\"title\":{\"text\":\"variable\"}},\"yaxis\":{\"anchor\":\"x\",\"domain\":[0.0,1.0],\"title\":{\"text\":\"value\"}},\"legend\":{\"tracegroupgap\":0},\"margin\":{\"t\":60},\"boxmode\":\"group\"},                        {\"responsive\": true}                    ).then(function(){\n",
              "                            \n",
              "var gd = document.getElementById('dbb180e5-2f2c-402a-945a-e60481429a78');\n",
              "var x = new MutationObserver(function (mutations, observer) {{\n",
              "        var display = window.getComputedStyle(gd).display;\n",
              "        if (!display || display === 'none') {{\n",
              "            console.log([gd, 'removed!']);\n",
              "            Plotly.purge(gd);\n",
              "            observer.disconnect();\n",
              "        }}\n",
              "}});\n",
              "\n",
              "// Listen for the removal of the full notebook cells\n",
              "var notebookContainer = gd.closest('#notebook-container');\n",
              "if (notebookContainer) {{\n",
              "    x.observe(notebookContainer, {childList: true});\n",
              "}}\n",
              "\n",
              "// Listen for the clearing of the current output cell\n",
              "var outputEl = gd.closest('.output');\n",
              "if (outputEl) {{\n",
              "    x.observe(outputEl, {childList: true});\n",
              "}}\n",
              "\n",
              "                        })                };                            </script>        </div>\n",
              "</body>\n",
              "</html>"
            ]
          },
          "metadata": {}
        }
      ]
    },
    {
      "cell_type": "code",
      "source": [
        "px.box(df, x='Murder and nonnegligent manslaughter', y='Metropolitan/Nonmetropolitan')"
      ],
      "metadata": {
        "id": "9ZRV3jjlq9NN",
        "colab": {
          "base_uri": "https://localhost:8080/",
          "height": 542
        },
        "outputId": "6598beaf-4c5a-4e2e-9a75-68e48e1b1293"
      },
      "execution_count": null,
      "outputs": [
        {
          "output_type": "display_data",
          "data": {
            "text/html": [
              "<html>\n",
              "<head><meta charset=\"utf-8\" /></head>\n",
              "<body>\n",
              "    <div>            <script src=\"https://cdnjs.cloudflare.com/ajax/libs/mathjax/2.7.5/MathJax.js?config=TeX-AMS-MML_SVG\"></script><script type=\"text/javascript\">if (window.MathJax && window.MathJax.Hub && window.MathJax.Hub.Config) {window.MathJax.Hub.Config({SVG: {font: \"STIX-Web\"}});}</script>                <script type=\"text/javascript\">window.PlotlyConfig = {MathJaxConfig: 'local'};</script>\n",
              "        <script charset=\"utf-8\" src=\"https://cdn.plot.ly/plotly-2.24.1.min.js\"></script>                <div id=\"21a9d896-dbaf-43aa-9e12-4b6050801d97\" class=\"plotly-graph-div\" style=\"height:525px; width:100%;\"></div>            <script type=\"text/javascript\">                                    window.PLOTLYENV=window.PLOTLYENV || {};                                    if (document.getElementById(\"21a9d896-dbaf-43aa-9e12-4b6050801d97\")) {                    Plotly.newPlot(                        \"21a9d896-dbaf-43aa-9e12-4b6050801d97\",                        [{\"alignmentgroup\":\"True\",\"hovertemplate\":\"Murder and nonnegligent manslaughter=%{x}\\u003cbr\\u003eMetropolitan\\u002fNonmetropolitan=%{y}\\u003cextra\\u003e\\u003c\\u002fextra\\u003e\",\"legendgroup\":\"\",\"marker\":{\"color\":\"#636efa\"},\"name\":\"\",\"notched\":false,\"offsetgroup\":\"\",\"orientation\":\"h\",\"showlegend\":false,\"x\":[6.0,4.0,14.0,9.0,8.0,0.0,31.0,2.0,98.0,1.0,3.0,10.0,5.0,1.0,2.0,4.0,12.0,37.0,1.0,18.0,10.0,5.0,3.0,3.0,2.0,4.0,0.0,3.0,3.0,5.0,11.0,1.0,23.0,3.0,1.0,3.0,0.0,1.0,6.0,0.0,1.0,1.0,7.0,0.0,3.0,0.0,0.0,5.0,0.0,0.0,0.0,1.0,0.0,2.0,3.0,1.0,0.0,null,null,null,null,null,null,null,null,null,null,null,null,null,null,null,null,null,null,null,null,null,null,null,null,null,null,null,null,null,null,null,null,null,null,null,null,null,null,null,null,null,null,null,null,null,null,null,null,null,null,null,null,null,null,null,null,null,null,null,null,null,null,null,null,null,null,null,null,null,null,null,null,null,null,null,null,null,null,null,null,null,null,null,null,null,null,null,null,null,null,null,null,null,null,null,null,null,null,null,null,null,null,null,null,null,null,null,null,null,null,null,null,null,null,null,null,null,null,null,null,null,null,null,null,null,null,null,null,null,null,null,null,null,null,null,null,null,null,null,null,null,null,null,null,null,null,null,null,null,null,null,null,null,null,null,null,null,null,null,null,null,null,null,null,null,null,null,null,null,null,null,null,null,null,null,null,null,null,null,null,null,null,null,null,null,null,null,null,null,null,null,null,null,null,null,null,null,null,null,null,null,null,null,null,null,null,null,null,null,null,null,null,null,null,null,null,null,null,null,null,null,null,null,null,null,null,null,null,null,null,null,null,null,null,null,null,null,null,null,null,null,null,null,null,null,null,null,null,null,null,null,null,null,null,null,null,null,null,null,null,null,null,null,null,null,null,null,null,null,null,null,null,null,null,null,null,null,null,null,null,null,null,null,null,null,null,null,null,null,null,null,null,null,null,null,null,null,null,null,null,null,null,null,null,null,null,null,null,null,null,null,null,null,null,null,null,null,null,null,null,null,null,null,null,null,null,null,null,null,null,null,null,null,null,null,null,null,null,null,null,null,null,null,null,null,null,null,null,null,null,null,null,null,null,null,null,null,null,null,null,null,null,null,null,null,null,null,null,null,null,null,null,null,null,null,null,null,null,null,null,null,null,null,null,null,null,null,null,null,null,null,null,null,null,null,null,null,null,null,null,null,null,null,null,null,null,null,null,null,null,null,null,null,null,null,null,null,null,null,null,null,null,null,null,null,null,null,null,null,null,null,null,null,null,null,null,null,null,null,null,null,null,null,null,null,null,null,null,null,null,null,null,null,null,null,null,null,null,null,null,null,null,null,null,null,null,null,null,null,null,null,null,null,null,null,null,null,null,null,null,null,null,null,null,null,null,null,null,null,null,null,null,null,null,null,null,null,null,null,null,null,null,null,null,null,null,null,null,null,null,null,null,null,null,null,null,null,null,null,null,null,null,null,null,null,null,null,null,null,null,null,null,null,null,null,null,null,null,null,null,null,null,null,null,null,null,null,null,null,null,null,null,null,null,null,null,null,null,null,null,null,null,null,null,null,null,null,null,null,null,null,null,null,null,null,null,null,null,null,null,null,null,null,null,null,null,null,null,null,null,null,null,null,null,null,null,null,null,null,null,null,null,null,null,null,null,null,null,null,null,null,null,null,null,null,null,null,null,null,null,null,null,null,null,null,null,null,null,null,null,null,null,null,null,null,null,null,null,null,null,null,null,null,null,null,null,null,null,null,null,null,null,null,null,null,null,null,null,null,null,null,null,null,null,null,null,null,null,null,null,null,null,null,null,null,null,null,null,null,null,null,null,null,null,null,null,null,null,null,null,null,null,null,null,null,null,null,null,null,null,null,null,null,null,null,null,null,null,null,null,null,null,null,null,null,null,null,null,null,null,null,null,null,null,null,null,null,null,null,null,null,null,null,null,null,null,null,null,null,null,null,null,null,null,null,null,null,null,null,null,null,null,null,null,null,null,null,null,null,null,null,null,null,null,null,null,null,null,null,null,null,null,null,null,null,null,null,null,null,null,null,null,null,null,null,null,null,null,null,null,null,null,null,null,null,null,null,null,null,null,null,null,null,null,null,null,null,null,null,null,null,null,null,null,null,null,null,null,null,null,null,null,null,null,null,null,null,null,null,null,null,null,null,null,null,null,null,null,null,null,null,null,null,null,null,null,null,null,null,null,null,null,null,null,null,null,null,null,null,null,null,null,null,null,null,null,null,null,null,null,null,null,null,null,null,null,null,null,null,null,null,null,null,null,null,null,null,null,null,null,null,null,null,null,null,null,null,null,null,null,null,null,null,null,null,null,null,null,null,null,null,null,null,null,null,null,null,null,null,null,null,null,null,null,null,null,null,null,null,null,null,null,null,null,null,null,null,null,null,null,null,null,null,null,null,null,null,null,null,null,null,null,null,null,null,null,null,null,null,null,null,null,null,null,null,null,null,null,null,null,null,null,null,null,null,null,null,null,null,null,null,null,null,null,null,null,null,null,null,null,null,null,null,null,null,null,null,null,null,null,null,null,null,null,null,null,null,null,null,null,null,null,null,null,null,null,null,null,null,null,null,null,null,null,null,null,null,null,null,null,null,null,null,null,null,null,null,null,null,null,null,null,null,null,null,null,null,null,null,null,null,null,null,null,null,null,null,null,null,null,null,null,null,null,null,null,null,null,null,null,null,null,null,null,null,null,null,null,null,null,null,null,null,null,null,null,null,null,null,null,null,null,null,null,null,null,null,null,null,null,null,null,null,null,null,null,null,null,null,null,null,null,null,null,null,null,null,null,null,null,null,null,null,null,null,null,null,null,null,null,null,null,null,null,null,null,null,null,null,null,null,null,null,null,null,null,null,null,null,null,null,null,null,null,null,null,null,null,null,null,null,null,null,null,null,null,null,null,null,null,null,null,null,null,null,null,null,null,null,null,null,null,null,null,null,null,null,null,null,null,null,null,null,null,null,null,null,null,null,null,null,null,null,null,null,null,null,null,null,null,null,null,null,null,null,null,null,null,null,null,null,null,null,null,null,null,null,null,null,null,null,null,null,null,null,null,null,null,null,null,null,null,null,null,null,null,null,null,null,null,null,null,null,null,null,null,null,null,null,null,null,null,null,null,null,null,null,null,null,null,null,null,null,null,null,null,null,null,null,null,null,null,null,null,null,null,null,null,null,null,null,null,null,null,null,null,null,null,null,null,null,null,null,null,null,null,null,null,null,null,null,null,null,null,null,null,null,null,null,null,null,null,null,null,null,null,null,null,null,null,null,null,null,null,null,null,null,null,null,null,null,null,null,null,null,null,null,null,null,null,null,null,null,null,null,null,null,null,null,null,null,null,null,null,null,null,null,null,null,null,null,null,null,null,null,null,null,null,null,null,null,null,null,null,null,null,null,null,null,null,null,null,null,null,null,null,null,null,null,null,null,null,null,null,null,null,null,null,null,null,null,null,null,null,null,null,null,null,null,null,null,null,null,null,null,null,null,null,null,null,null,null,null,null,null,null,null,null,null,null,null,null,null,null,null,null,null,null,null,null,null,null,null,null,null,null,null,null,null,null,null,null,null,null,null,null,null,null,null,null,null,null,null,null,null,null,null,null,null,null,null,null,null,null,null,null,null,null,null,null,null,null,null,null,null,null,null,null,null,null,null,null,null,null,null,null,null,null,null,null,null,null,null,null,null,null,null,null,null,null,null,null,null,null,null,null,null,null,null,null,null,null,null,null,null,null,null,null,null,null,null,null,null,null,null,null,null,null,null,null,null,null,null,null,null,null,null,null,null,null,null,null,null,null,null,null,null,null,null,null,null,null,null,null,null,null,null,null,null,null,null,null,null,null,null,null,null,null,null,null,null,null,null,null,null,null,null,null,null,null,null,null,null,null,null,null,null,null,null,null,null,null,null,null,null,null,null,null,null,null,null,null,null,null,null,null,null,null,null,null,null,null,null,null,null,null,null,null,null,null,null,null,null,null,null,null,null,null,null,null,null,null,null,null,null,null,null,null,null,null,null,null,null,null,null,null,null,null,null,null,null,null,null,null,null,null,null,null,null,null,null,null,null,null,null,null,null,null,null,null,null,null,null,null,null,null,null,null,null,null,null,null,null,null,null,null,null,null,null,null,null,null,null,null,null,null,null,null,null,null,null,null,null,null,null,null,null,null,null,null,null,null,null,null,null,null,null,null,null,null,null,null,null,null,null,null,null,null,null,null,null,null,null,null,null,null,null,null,null,null,null,null,null,null,null,null,null,null,null,null,null,null,null,null,null,null,null,null,null,null,null,null,null,null,null,null,null,null,null,null,null,null,null,null,null,null,null,null,null,null,null,null,null,null,null,null,null,null,null,null,null,null,null,null,null,null,null,null,null,null,null,null,null,null,null,null,null,null,null,null,null,null,null,null,null,null,null,null,null,null,null,null,null,null,null,null,null,null,null,null,null,null,null,null,null,null,null,null,null,null,null,null,null,null,null,null,null,null,null,null,null,null,null,null,null,null,null,null,null,null,null,null,null,null,null,null,null,null,null,null,null,null,null,null,null,null,null,null,null,null,null,null,null,null,null,null,null,null,null,null,null,null,null,null,null,null,null,null,null,null,null,null,null,null,null,null,null,null,null,null,null,null,null,null,null,null,null,null,null,null,null,null,null,null,null,null,null,null,null,null,null,null,null,null,null,null,null,null,null,null,null,null,null,null,null,null,null,null,null,null,null,null,null,null,null,null,null,null,null,null,null,null,null,null,null,null,null,null,null,null,null,null,null,null,null,null,null,null,null,null,null,null,null,null,null,null,null,null,null,null,null,null,null,null,null,null,null,null,null,null,null,null,null,null,null,null,null,null,null,null,null,null,null,null,null,null,null,null,null,null,null,null,null,null,null,null,null,null,null,null,null,null,null,null,null,null,null,null,null,null,null,null,null,null,null,null,null,null,null,null,null,null,null,null,null,null,null,null,null,null,null,null,null,null,null,null,null,null,null,null,null,null,null,null,null,null,null,null,null,null,null,null,null,null,null,null,null,null,null,null,null,null,null,null,null,null,null,null,null,null,null,null,null,null,null,null,null,null,null,null,null,null,null,null,null,null,null,null,null,null,null,null,null,null,null,null,null,null,null,null,null,null,null,null,null,null,null,null,null,null,null,null,null,null,null,null,null,null,null,null,null,null,null,null,null,null,null,null,null,null,null,null,null,null,null,null,null,null,null,null,null,null,null,null,null,null,null,null,null,null,null,null,null,null,null,null,null,null,null,null,null,null,null,null,null,null,null,null,null,null,null,null,null,null,null,null,null,null,null,null,null,null,null,null,null,null,null,null,null,null,null,null,null,null,null,null,null,null,null,null,null,null,null,null,null,null,null,null,null,null,null,null,null,null,null,null,null,null,null,null,null,null,null,null,null,null,null,null,null,null,null,null,null,null,null,null,null,null,null,null,null,null,null,null,null,null,null,null,null,null,null,null,null,null,null,null,null,null,null,null,null,null,null,null,null,null,null,null,null,null,null,null,null,null,null,null,null,null,null,null,null,null,null,null,null,null,null,null,null,null,null,null,null,null,null,null,null,null,null,null,null,null,null,null,null,null,null,null,null,null,null,null,null,null,null,null,null,null,null,null,null,null,null,null,null,null,null,null,null,null,null,null,null,null,null,null,null,null,null,null,null,null,null,null,null,null,null,null,null,null,null,null,null,null,null,null,null,null,null,null,null,null,null,null,null,null,null,null,null,null,null,null,null,null,null,null,null,null,null,null,null,null,null,null,null,null,null,null,null,null,null,null,null,null,null,null,null,null,null,null,null,null,null,null,null,null,null,null,null,null,null,null,null,null,null,null,null,null,null,null,null,null,null,null,null,null,null,null,null,null,null,null,null,null,null,null,null,null,null,null,null,null,null,null,null,null,null,null,null,null,null,null,null,null,null,null,null,null,null,null,null,null,null,null,null,null,null,null,null,null,null,null,null,null,null,null,null,null,null,null,null,null,null,null,null],\"x0\":\" \",\"xaxis\":\"x\",\"y\":[\"Metropolitan Counties\",\"Metropolitan Counties\",\"Metropolitan Counties\",\"Metropolitan Counties\",\"Metropolitan Counties\",\"Metropolitan Counties\",\"Metropolitan Counties\",\"Metropolitan Counties\",\"Metropolitan Counties\",\"Metropolitan Counties\",\"Metropolitan Counties\",\"Metropolitan Counties\",\"Metropolitan Counties\",\"Metropolitan Counties\",\"Metropolitan Counties\",\"Metropolitan Counties\",\"Metropolitan Counties\",\"Metropolitan Counties\",\"Metropolitan Counties\",\"Metropolitan Counties\",\"Metropolitan Counties\",\"Metropolitan Counties\",\"Metropolitan Counties\",\"Metropolitan Counties\",\"Metropolitan Counties\",\"Metropolitan Counties\",\"Metropolitan Counties\",\"Metropolitan Counties\",\"Metropolitan Counties\",\"Metropolitan Counties\",\"Metropolitan Counties\",\"Metropolitan Counties\",\"Metropolitan Counties\",\"Metropolitan Counties\",\"Metropolitan Counties\",\"Metropolitan Counties\",\"Nonmetropolitan Counties\",\"Nonmetropolitan Counties\",\"Nonmetropolitan Counties\",\"Nonmetropolitan Counties\",\"Nonmetropolitan Counties\",\"Nonmetropolitan Counties\",\"Nonmetropolitan Counties\",\"Nonmetropolitan Counties\",\"Nonmetropolitan Counties\",\"Nonmetropolitan Counties\",\"Nonmetropolitan Counties\",\"Nonmetropolitan Counties\",\"Nonmetropolitan Counties\",\"Nonmetropolitan Counties\",\"Nonmetropolitan Counties\",\"Nonmetropolitan Counties\",\"Nonmetropolitan Counties\",\"Nonmetropolitan Counties\",\"Nonmetropolitan Counties\",\"Nonmetropolitan Counties\",\"Nonmetropolitan Counties\",null,null,null,null,null,null,null,null,null,null,null,null,null,null,null,null,null,null,null,null,null,null,null,null,null,null,null,null,null,null,null,null,null,null,null,null,null,null,null,null,null,null,null,null,null,null,null,null,null,null,null,null,null,null,null,null,null,null,null,null,null,null,null,null,null,null,null,null,null,null,null,null,null,null,null,null,null,null,null,null,null,null,null,null,null,null,null,null,null,null,null,null,null,null,null,null,null,null,null,null,null,null,null,null,null,null,null,null,null,null,null,null,null,null,null,null,null,null,null,null,null,null,null,null,null,null,null,null,null,null,null,null,null,null,null,null,null,null,null,null,null,null,null,null,null,null,null,null,null,null,null,null,null,null,null,null,null,null,null,null,null,null,null,null,null,null,null,null,null,null,null,null,null,null,null,null,null,null,null,null,null,null,null,null,null,null,null,null,null,null,null,null,null,null,null,null,null,null,null,null,null,null,null,null,null,null,null,null,null,null,null,null,null,null,null,null,null,null,null,null,null,null,null,null,null,null,null,null,null,null,null,null,null,null,null,null,null,null,null,null,null,null,null,null,null,null,null,null,null,null,null,null,null,null,null,null,null,null,null,null,null,null,null,null,null,null,null,null,null,null,null,null,null,null,null,null,null,null,null,null,null,null,null,null,null,null,null,null,null,null,null,null,null,null,null,null,null,null,null,null,null,null,null,null,null,null,null,null,null,null,null,null,null,null,null,null,null,null,null,null,null,null,null,null,null,null,null,null,null,null,null,null,null,null,null,null,null,null,null,null,null,null,null,null,null,null,null,null,null,null,null,null,null,null,null,null,null,null,null,null,null,null,null,null,null,null,null,null,null,null,null,null,null,null,null,null,null,null,null,null,null,null,null,null,null,null,null,null,null,null,null,null,null,null,null,null,null,null,null,null,null,null,null,null,null,null,null,null,null,null,null,null,null,null,null,null,null,null,null,null,null,null,null,null,null,null,null,null,null,null,null,null,null,null,null,null,null,null,null,null,null,null,null,null,null,null,null,null,null,null,null,null,null,null,null,null,null,null,null,null,null,null,null,null,null,null,null,null,null,null,null,null,null,null,null,null,null,null,null,null,null,null,null,null,null,null,null,null,null,null,null,null,null,null,null,null,null,null,null,null,null,null,null,null,null,null,null,null,null,null,null,null,null,null,null,null,null,null,null,null,null,null,null,null,null,null,null,null,null,null,null,null,null,null,null,null,null,null,null,null,null,null,null,null,null,null,null,null,null,null,null,null,null,null,null,null,null,null,null,null,null,null,null,null,null,null,null,null,null,null,null,null,null,null,null,null,null,null,null,null,null,null,null,null,null,null,null,null,null,null,null,null,null,null,null,null,null,null,null,null,null,null,null,null,null,null,null,null,null,null,null,null,null,null,null,null,null,null,null,null,null,null,null,null,null,null,null,null,null,null,null,null,null,null,null,null,null,null,null,null,null,null,null,null,null,null,null,null,null,null,null,null,null,null,null,null,null,null,null,null,null,null,null,null,null,null,null,null,null,null,null,null,null,null,null,null,null,null,null,null,null,null,null,null,null,null,null,null,null,null,null,null,null,null,null,null,null,null,null,null,null,null,null,null,null,null,null,null,null,null,null,null,null,null,null,null,null,null,null,null,null,null,null,null,null,null,null,null,null,null,null,null,null,null,null,null,null,null,null,null,null,null,null,null,null,null,null,null,null,null,null,null,null,null,null,null,null,null,null,null,null,null,null,null,null,null,null,null,null,null,null,null,null,null,null,null,null,null,null,null,null,null,null,null,null,null,null,null,null,null,null,null,null,null,null,null,null,null,null,null,null,null,null,null,null,null,null,null,null,null,null,null,null,null,null,null,null,null,null,null,null,null,null,null,null,null,null,null,null,null,null,null,null,null,null,null,null,null,null,null,null,null,null,null,null,null,null,null,null,null,null,null,null,null,null,null,null,null,null,null,null,null,null,null,null,null,null,null,null,null,null,null,null,null,null,null,null,null,null,null,null,null,null,null,null,null,null,null,null,null,null,null,null,null,null,null,null,null,null,null,null,null,null,null,null,null,null,null,null,null,null,null,null,null,null,null,null,null,null,null,null,null,null,null,null,null,null,null,null,null,null,null,null,null,null,null,null,null,null,null,null,null,null,null,null,null,null,null,null,null,null,null,null,null,null,null,null,null,null,null,null,null,null,null,null,null,null,null,null,null,null,null,null,null,null,null,null,null,null,null,null,null,null,null,null,null,null,null,null,null,null,null,null,null,null,null,null,null,null,null,null,null,null,null,null,null,null,null,null,null,null,null,null,null,null,null,null,null,null,null,null,null,null,null,null,null,null,null,null,null,null,null,null,null,null,null,null,null,null,null,null,null,null,null,null,null,null,null,null,null,null,null,null,null,null,null,null,null,null,null,null,null,null,null,null,null,null,null,null,null,null,null,null,null,null,null,null,null,null,null,null,null,null,null,null,null,null,null,null,null,null,null,null,null,null,null,null,null,null,null,null,null,null,null,null,null,null,null,null,null,null,null,null,null,null,null,null,null,null,null,null,null,null,null,null,null,null,null,null,null,null,null,null,null,null,null,null,null,null,null,null,null,null,null,null,null,null,null,null,null,null,null,null,null,null,null,null,null,null,null,null,null,null,null,null,null,null,null,null,null,null,null,null,null,null,null,null,null,null,null,null,null,null,null,null,null,null,null,null,null,null,null,null,null,null,null,null,null,null,null,null,null,null,null,null,null,null,null,null,null,null,null,null,null,null,null,null,null,null,null,null,null,null,null,null,null,null,null,null,null,null,null,null,null,null,null,null,null,null,null,null,null,null,null,null,null,null,null,null,null,null,null,null,null,null,null,null,null,null,null,null,null,null,null,null,null,null,null,null,null,null,null,null,null,null,null,null,null,null,null,null,null,null,null,null,null,null,null,null,null,null,null,null,null,null,null,null,null,null,null,null,null,null,null,null,null,null,null,null,null,null,null,null,null,null,null,null,null,null,null,null,null,null,null,null,null,null,null,null,null,null,null,null,null,null,null,null,null,null,null,null,null,null,null,null,null,null,null,null,null,null,null,null,null,null,null,null,null,null,null,null,null,null,null,null,null,null,null,null,null,null,null,null,null,null,null,null,null,null,null,null,null,null,null,null,null,null,null,null,null,null,null,null,null,null,null,null,null,null,null,null,null,null,null,null,null,null,null,null,null,null,null,null,null,null,null,null,null,null,null,null,null,null,null,null,null,null,null,null,null,null,null,null,null,null,null,null,null,null,null,null,null,null,null,null,null,null,null,null,null,null,null,null,null,null,null,null,null,null,null,null,null,null,null,null,null,null,null,null,null,null,null,null,null,null,null,null,null,null,null,null,null,null,null,null,null,null,null,null,null,null,null,null,null,null,null,null,null,null,null,null,null,null,null,null,null,null,null,null,null,null,null,null,null,null,null,null,null,null,null,null,null,null,null,null,null,null,null,null,null,null,null,null,null,null,null,null,null,null,null,null,null,null,null,null,null,null,null,null,null,null,null,null,null,null,null,null,null,null,null,null,null,null,null,null,null,null,null,null,null,null,null,null,null,null,null,null,null,null,null,null,null,null,null,null,null,null,null,null,null,null,null,null,null,null,null,null,null,null,null,null,null,null,null,null,null,null,null,null,null,null,null,null,null,null,null,null,null,null,null,null,null,null,null,null,null,null,null,null,null,null,null,null,null,null,null,null,null,null,null,null,null,null,null,null,null,null,null,null,null,null,null,null,null,null,null,null,null,null,null,null,null,null,null,null,null,null,null,null,null,null,null,null,null,null,null,null,null,null,null,null,null,null,null,null,null,null,null,null,null,null,null,null,null,null,null,null,null,null,null,null,null,null,null,null,null,null,null,null,null,null,null,null,null,null,null,null,null,null,null,null,null,null,null,null,null,null,null,null,null,null,null,null,null,null,null,null,null,null,null,null,null,null,null,null,null,null,null,null,null,null,null,null,null,null,null,null,null,null,null,null,null,null,null,null,null,null,null,null,null,null,null,null,null,null,null,null,null,null,null,null,null,null,null,null,null,null,null,null,null,null,null,null,null,null,null,null,null,null,null,null,null,null,null,null,null,null,null,null,null,null,null,null,null,null,null,null,null,null,null,null,null,null,null,null,null,null,null,null,null,null,null,null,null,null,null,null,null,null,null,null,null,null,null,null,null,null,null,null,null,null,null,null,null,null,null,null,null,null,null,null,null,null,null,null,null,null,null,null,null,null,null,null,null,null,null,null,null,null,null,null,null,null,null,null,null,null,null,null,null,null,null,null,null,null,null,null,null,null,null,null,null,null,null,null,null,null,null,null,null,null,null,null,null,null,null,null,null,null,null,null,null,null,null,null,null,null,null,null,null,null,null,null,null,null,null,null,null,null,null,null,null,null,null,null,null,null,null,null,null,null,null,null,null,null,null,null,null,null,null,null,null,null,null,null,null,null,null,null,null,null,null,null,null,null,null,null,null,null,null,null,null,null,null,null,null,null,null,null,null,null,null,null,null,null,null,null,null,null,null,null,null,null,null,null,null,null,null,null,null,null,null,null,null,null,null,null,null,null,null,null,null,null,null,null,null,null,null,null,null,null,null,null,null,null,null,null,null,null,null,null,null,null,null,null,null,null,null,null,null,null,null,null,null,null,null,null,null,null,null,null,null,null,null,null,null,null,null,null,null,null,null,null,null,null,null,null,null,null,null,null,null,null,null,null,null,null,null,null,null,null,null,null,null,null,null,null,null,null,null,null,null,null,null,null,null,null,null,null,null,null,null,null,null,null,null,null,null,null,null,null,null,null,null,null,null,null,null,null,null,null,null,null,null,null,null,null,null,null,null,null,null,null,null,null,null,null,null,null,null,null,null,null,null,null,null,null,null,null,null,null,null,null,null,null,null,null,null,null,null,null,null,null,null,null,null,null,null,null,null,null,null,null,null,null,null,null,null,null,null,null,null,null,null,null,null,null,null,null,null,null,null,null,null,null,null,null,null,null,null,null,null,null,null,null,null,null,null,null,null,null,null,null,null,null,null,null,null,null,null,null,null,null,null,null,null,null,null,null,null,null,null,null,null,null,null,null,null,null,null,null,null,null,null,null,null,null,null,null,null,null,null,null,null,null,null,null,null,null,null,null,null,null,null,null,null,null,null,null,null,null,null,null,null,null,null,null,null,null,null,null,null,null,null,null,null,null,null,null,null,null,null,null,null,null,null,null,null,null,null,null,null,null,null,null,null,null,null,null,null,null,null,null,null,null,null,null,null,null,null,null,null,null,null,null,null,null,null,null,null,null,null,null,null,null,null,null,null,null,null,null,null,null,null,null,null,null,null,null,null,null,null,null,null,null,null,null,null,null,null,null,null,null,null,null,null,null,null,null,null,null,null,null,null,null,null,null,null,null,null,null,null,null,null,null,null,null,null,null,null,null,null,null,null,null,null,null,null,null,null,null,null,null,null,null,null,null,null,null,null,null,null,null,null,null,null,null,null,null,null,null,null,null,null,null,null,null,null,null,null,null,null,null,null,null,null,null,null,null,null,null,null,null,null,null,null,null,null,null,null,null,null,null,null,null,null,null,null,null,null,null,null,null,null,null,null,null,null,null,null,null,null,null,null,null,null,null,null,null,null,null,null,null,null,null,null,null,null,null,null,null,null,null,null,null,null,null,null,null,null,null,null,null,null,null,null,null,null,null,null,null,null,null,null,null,null,null,null,null,null,null,null,null,null,null],\"y0\":\" \",\"yaxis\":\"y\",\"type\":\"box\"}],                        {\"template\":{\"data\":{\"histogram2dcontour\":[{\"type\":\"histogram2dcontour\",\"colorbar\":{\"outlinewidth\":0,\"ticks\":\"\"},\"colorscale\":[[0.0,\"#0d0887\"],[0.1111111111111111,\"#46039f\"],[0.2222222222222222,\"#7201a8\"],[0.3333333333333333,\"#9c179e\"],[0.4444444444444444,\"#bd3786\"],[0.5555555555555556,\"#d8576b\"],[0.6666666666666666,\"#ed7953\"],[0.7777777777777778,\"#fb9f3a\"],[0.8888888888888888,\"#fdca26\"],[1.0,\"#f0f921\"]]}],\"choropleth\":[{\"type\":\"choropleth\",\"colorbar\":{\"outlinewidth\":0,\"ticks\":\"\"}}],\"histogram2d\":[{\"type\":\"histogram2d\",\"colorbar\":{\"outlinewidth\":0,\"ticks\":\"\"},\"colorscale\":[[0.0,\"#0d0887\"],[0.1111111111111111,\"#46039f\"],[0.2222222222222222,\"#7201a8\"],[0.3333333333333333,\"#9c179e\"],[0.4444444444444444,\"#bd3786\"],[0.5555555555555556,\"#d8576b\"],[0.6666666666666666,\"#ed7953\"],[0.7777777777777778,\"#fb9f3a\"],[0.8888888888888888,\"#fdca26\"],[1.0,\"#f0f921\"]]}],\"heatmap\":[{\"type\":\"heatmap\",\"colorbar\":{\"outlinewidth\":0,\"ticks\":\"\"},\"colorscale\":[[0.0,\"#0d0887\"],[0.1111111111111111,\"#46039f\"],[0.2222222222222222,\"#7201a8\"],[0.3333333333333333,\"#9c179e\"],[0.4444444444444444,\"#bd3786\"],[0.5555555555555556,\"#d8576b\"],[0.6666666666666666,\"#ed7953\"],[0.7777777777777778,\"#fb9f3a\"],[0.8888888888888888,\"#fdca26\"],[1.0,\"#f0f921\"]]}],\"heatmapgl\":[{\"type\":\"heatmapgl\",\"colorbar\":{\"outlinewidth\":0,\"ticks\":\"\"},\"colorscale\":[[0.0,\"#0d0887\"],[0.1111111111111111,\"#46039f\"],[0.2222222222222222,\"#7201a8\"],[0.3333333333333333,\"#9c179e\"],[0.4444444444444444,\"#bd3786\"],[0.5555555555555556,\"#d8576b\"],[0.6666666666666666,\"#ed7953\"],[0.7777777777777778,\"#fb9f3a\"],[0.8888888888888888,\"#fdca26\"],[1.0,\"#f0f921\"]]}],\"contourcarpet\":[{\"type\":\"contourcarpet\",\"colorbar\":{\"outlinewidth\":0,\"ticks\":\"\"}}],\"contour\":[{\"type\":\"contour\",\"colorbar\":{\"outlinewidth\":0,\"ticks\":\"\"},\"colorscale\":[[0.0,\"#0d0887\"],[0.1111111111111111,\"#46039f\"],[0.2222222222222222,\"#7201a8\"],[0.3333333333333333,\"#9c179e\"],[0.4444444444444444,\"#bd3786\"],[0.5555555555555556,\"#d8576b\"],[0.6666666666666666,\"#ed7953\"],[0.7777777777777778,\"#fb9f3a\"],[0.8888888888888888,\"#fdca26\"],[1.0,\"#f0f921\"]]}],\"surface\":[{\"type\":\"surface\",\"colorbar\":{\"outlinewidth\":0,\"ticks\":\"\"},\"colorscale\":[[0.0,\"#0d0887\"],[0.1111111111111111,\"#46039f\"],[0.2222222222222222,\"#7201a8\"],[0.3333333333333333,\"#9c179e\"],[0.4444444444444444,\"#bd3786\"],[0.5555555555555556,\"#d8576b\"],[0.6666666666666666,\"#ed7953\"],[0.7777777777777778,\"#fb9f3a\"],[0.8888888888888888,\"#fdca26\"],[1.0,\"#f0f921\"]]}],\"mesh3d\":[{\"type\":\"mesh3d\",\"colorbar\":{\"outlinewidth\":0,\"ticks\":\"\"}}],\"scatter\":[{\"fillpattern\":{\"fillmode\":\"overlay\",\"size\":10,\"solidity\":0.2},\"type\":\"scatter\"}],\"parcoords\":[{\"type\":\"parcoords\",\"line\":{\"colorbar\":{\"outlinewidth\":0,\"ticks\":\"\"}}}],\"scatterpolargl\":[{\"type\":\"scatterpolargl\",\"marker\":{\"colorbar\":{\"outlinewidth\":0,\"ticks\":\"\"}}}],\"bar\":[{\"error_x\":{\"color\":\"#2a3f5f\"},\"error_y\":{\"color\":\"#2a3f5f\"},\"marker\":{\"line\":{\"color\":\"#E5ECF6\",\"width\":0.5},\"pattern\":{\"fillmode\":\"overlay\",\"size\":10,\"solidity\":0.2}},\"type\":\"bar\"}],\"scattergeo\":[{\"type\":\"scattergeo\",\"marker\":{\"colorbar\":{\"outlinewidth\":0,\"ticks\":\"\"}}}],\"scatterpolar\":[{\"type\":\"scatterpolar\",\"marker\":{\"colorbar\":{\"outlinewidth\":0,\"ticks\":\"\"}}}],\"histogram\":[{\"marker\":{\"pattern\":{\"fillmode\":\"overlay\",\"size\":10,\"solidity\":0.2}},\"type\":\"histogram\"}],\"scattergl\":[{\"type\":\"scattergl\",\"marker\":{\"colorbar\":{\"outlinewidth\":0,\"ticks\":\"\"}}}],\"scatter3d\":[{\"type\":\"scatter3d\",\"line\":{\"colorbar\":{\"outlinewidth\":0,\"ticks\":\"\"}},\"marker\":{\"colorbar\":{\"outlinewidth\":0,\"ticks\":\"\"}}}],\"scattermapbox\":[{\"type\":\"scattermapbox\",\"marker\":{\"colorbar\":{\"outlinewidth\":0,\"ticks\":\"\"}}}],\"scatterternary\":[{\"type\":\"scatterternary\",\"marker\":{\"colorbar\":{\"outlinewidth\":0,\"ticks\":\"\"}}}],\"scattercarpet\":[{\"type\":\"scattercarpet\",\"marker\":{\"colorbar\":{\"outlinewidth\":0,\"ticks\":\"\"}}}],\"carpet\":[{\"aaxis\":{\"endlinecolor\":\"#2a3f5f\",\"gridcolor\":\"white\",\"linecolor\":\"white\",\"minorgridcolor\":\"white\",\"startlinecolor\":\"#2a3f5f\"},\"baxis\":{\"endlinecolor\":\"#2a3f5f\",\"gridcolor\":\"white\",\"linecolor\":\"white\",\"minorgridcolor\":\"white\",\"startlinecolor\":\"#2a3f5f\"},\"type\":\"carpet\"}],\"table\":[{\"cells\":{\"fill\":{\"color\":\"#EBF0F8\"},\"line\":{\"color\":\"white\"}},\"header\":{\"fill\":{\"color\":\"#C8D4E3\"},\"line\":{\"color\":\"white\"}},\"type\":\"table\"}],\"barpolar\":[{\"marker\":{\"line\":{\"color\":\"#E5ECF6\",\"width\":0.5},\"pattern\":{\"fillmode\":\"overlay\",\"size\":10,\"solidity\":0.2}},\"type\":\"barpolar\"}],\"pie\":[{\"automargin\":true,\"type\":\"pie\"}]},\"layout\":{\"autotypenumbers\":\"strict\",\"colorway\":[\"#636efa\",\"#EF553B\",\"#00cc96\",\"#ab63fa\",\"#FFA15A\",\"#19d3f3\",\"#FF6692\",\"#B6E880\",\"#FF97FF\",\"#FECB52\"],\"font\":{\"color\":\"#2a3f5f\"},\"hovermode\":\"closest\",\"hoverlabel\":{\"align\":\"left\"},\"paper_bgcolor\":\"white\",\"plot_bgcolor\":\"#E5ECF6\",\"polar\":{\"bgcolor\":\"#E5ECF6\",\"angularaxis\":{\"gridcolor\":\"white\",\"linecolor\":\"white\",\"ticks\":\"\"},\"radialaxis\":{\"gridcolor\":\"white\",\"linecolor\":\"white\",\"ticks\":\"\"}},\"ternary\":{\"bgcolor\":\"#E5ECF6\",\"aaxis\":{\"gridcolor\":\"white\",\"linecolor\":\"white\",\"ticks\":\"\"},\"baxis\":{\"gridcolor\":\"white\",\"linecolor\":\"white\",\"ticks\":\"\"},\"caxis\":{\"gridcolor\":\"white\",\"linecolor\":\"white\",\"ticks\":\"\"}},\"coloraxis\":{\"colorbar\":{\"outlinewidth\":0,\"ticks\":\"\"}},\"colorscale\":{\"sequential\":[[0.0,\"#0d0887\"],[0.1111111111111111,\"#46039f\"],[0.2222222222222222,\"#7201a8\"],[0.3333333333333333,\"#9c179e\"],[0.4444444444444444,\"#bd3786\"],[0.5555555555555556,\"#d8576b\"],[0.6666666666666666,\"#ed7953\"],[0.7777777777777778,\"#fb9f3a\"],[0.8888888888888888,\"#fdca26\"],[1.0,\"#f0f921\"]],\"sequentialminus\":[[0.0,\"#0d0887\"],[0.1111111111111111,\"#46039f\"],[0.2222222222222222,\"#7201a8\"],[0.3333333333333333,\"#9c179e\"],[0.4444444444444444,\"#bd3786\"],[0.5555555555555556,\"#d8576b\"],[0.6666666666666666,\"#ed7953\"],[0.7777777777777778,\"#fb9f3a\"],[0.8888888888888888,\"#fdca26\"],[1.0,\"#f0f921\"]],\"diverging\":[[0,\"#8e0152\"],[0.1,\"#c51b7d\"],[0.2,\"#de77ae\"],[0.3,\"#f1b6da\"],[0.4,\"#fde0ef\"],[0.5,\"#f7f7f7\"],[0.6,\"#e6f5d0\"],[0.7,\"#b8e186\"],[0.8,\"#7fbc41\"],[0.9,\"#4d9221\"],[1,\"#276419\"]]},\"xaxis\":{\"gridcolor\":\"white\",\"linecolor\":\"white\",\"ticks\":\"\",\"title\":{\"standoff\":15},\"zerolinecolor\":\"white\",\"automargin\":true,\"zerolinewidth\":2},\"yaxis\":{\"gridcolor\":\"white\",\"linecolor\":\"white\",\"ticks\":\"\",\"title\":{\"standoff\":15},\"zerolinecolor\":\"white\",\"automargin\":true,\"zerolinewidth\":2},\"scene\":{\"xaxis\":{\"backgroundcolor\":\"#E5ECF6\",\"gridcolor\":\"white\",\"linecolor\":\"white\",\"showbackground\":true,\"ticks\":\"\",\"zerolinecolor\":\"white\",\"gridwidth\":2},\"yaxis\":{\"backgroundcolor\":\"#E5ECF6\",\"gridcolor\":\"white\",\"linecolor\":\"white\",\"showbackground\":true,\"ticks\":\"\",\"zerolinecolor\":\"white\",\"gridwidth\":2},\"zaxis\":{\"backgroundcolor\":\"#E5ECF6\",\"gridcolor\":\"white\",\"linecolor\":\"white\",\"showbackground\":true,\"ticks\":\"\",\"zerolinecolor\":\"white\",\"gridwidth\":2}},\"shapedefaults\":{\"line\":{\"color\":\"#2a3f5f\"}},\"annotationdefaults\":{\"arrowcolor\":\"#2a3f5f\",\"arrowhead\":0,\"arrowwidth\":1},\"geo\":{\"bgcolor\":\"white\",\"landcolor\":\"#E5ECF6\",\"subunitcolor\":\"white\",\"showland\":true,\"showlakes\":true,\"lakecolor\":\"white\"},\"title\":{\"x\":0.05},\"mapbox\":{\"style\":\"light\"}}},\"xaxis\":{\"anchor\":\"y\",\"domain\":[0.0,1.0],\"title\":{\"text\":\"Murder and nonnegligent manslaughter\"}},\"yaxis\":{\"anchor\":\"x\",\"domain\":[0.0,1.0],\"title\":{\"text\":\"Metropolitan\\u002fNonmetropolitan\"}},\"legend\":{\"tracegroupgap\":0},\"margin\":{\"t\":60},\"boxmode\":\"group\"},                        {\"responsive\": true}                    ).then(function(){\n",
              "                            \n",
              "var gd = document.getElementById('21a9d896-dbaf-43aa-9e12-4b6050801d97');\n",
              "var x = new MutationObserver(function (mutations, observer) {{\n",
              "        var display = window.getComputedStyle(gd).display;\n",
              "        if (!display || display === 'none') {{\n",
              "            console.log([gd, 'removed!']);\n",
              "            Plotly.purge(gd);\n",
              "            observer.disconnect();\n",
              "        }}\n",
              "}});\n",
              "\n",
              "// Listen for the removal of the full notebook cells\n",
              "var notebookContainer = gd.closest('#notebook-container');\n",
              "if (notebookContainer) {{\n",
              "    x.observe(notebookContainer, {childList: true});\n",
              "}}\n",
              "\n",
              "// Listen for the clearing of the current output cell\n",
              "var outputEl = gd.closest('.output');\n",
              "if (outputEl) {{\n",
              "    x.observe(outputEl, {childList: true});\n",
              "}}\n",
              "\n",
              "                        })                };                            </script>        </div>\n",
              "</body>\n",
              "</html>"
            ]
          },
          "metadata": {}
        }
      ]
    },
    {
      "cell_type": "markdown",
      "source": [
        "**В Metropolitan Counties больше выбивающихся значений, чем Nonmetropolitan**"
      ],
      "metadata": {
        "id": "nDBFGPuXdeYm"
      }
    },
    {
      "cell_type": "markdown",
      "source": [
        "Постройте диаграмму рассеивания для числовых признаков вашего датасета.\n",
        "\n",
        "*p.s. Если у вас только один числовой признак, преобразуйте категориальный при помощи LabelEncoder (https://scikit-learn.org/stable/modules/generated/sklearn.preprocessing.LabelEncoder.html)*"
      ],
      "metadata": {
        "id": "mj8cdITDZh53"
      }
    },
    {
      "cell_type": "code",
      "source": [
        "px.scatter(df, x = 'Murder and nonnegligent manslaughter', y = 'Violent crime')"
      ],
      "metadata": {
        "id": "V2-ZoNUcZ_2l",
        "colab": {
          "base_uri": "https://localhost:8080/",
          "height": 542
        },
        "outputId": "d64f289c-fa75-4e02-abac-487870852994"
      },
      "execution_count": null,
      "outputs": [
        {
          "output_type": "display_data",
          "data": {
            "text/html": [
              "<html>\n",
              "<head><meta charset=\"utf-8\" /></head>\n",
              "<body>\n",
              "    <div>            <script src=\"https://cdnjs.cloudflare.com/ajax/libs/mathjax/2.7.5/MathJax.js?config=TeX-AMS-MML_SVG\"></script><script type=\"text/javascript\">if (window.MathJax && window.MathJax.Hub && window.MathJax.Hub.Config) {window.MathJax.Hub.Config({SVG: {font: \"STIX-Web\"}});}</script>                <script type=\"text/javascript\">window.PlotlyConfig = {MathJaxConfig: 'local'};</script>\n",
              "        <script charset=\"utf-8\" src=\"https://cdn.plot.ly/plotly-2.24.1.min.js\"></script>                <div id=\"52895520-a7f8-4a4a-9ca2-595d92040f8f\" class=\"plotly-graph-div\" style=\"height:525px; width:100%;\"></div>            <script type=\"text/javascript\">                                    window.PLOTLYENV=window.PLOTLYENV || {};                                    if (document.getElementById(\"52895520-a7f8-4a4a-9ca2-595d92040f8f\")) {                    Plotly.newPlot(                        \"52895520-a7f8-4a4a-9ca2-595d92040f8f\",                        [{\"hovertemplate\":\"Murder and nonnegligent manslaughter=%{x}\\u003cbr\\u003eViolent crime=%{y}\\u003cextra\\u003e\\u003c\\u002fextra\\u003e\",\"legendgroup\":\"\",\"marker\":{\"color\":\"#636efa\",\"symbol\":\"circle\"},\"mode\":\"markers\",\"name\":\"\",\"showlegend\":false,\"x\":[6.0,4.0,14.0,9.0,8.0,0.0,31.0,2.0,98.0,1.0,3.0,10.0,5.0,1.0,2.0,4.0,12.0,37.0,1.0,18.0,10.0,5.0,3.0,3.0,2.0,4.0,0.0,3.0,3.0,5.0,11.0,1.0,23.0,3.0,1.0,3.0,0.0,1.0,6.0,0.0,1.0,1.0,7.0,0.0,3.0,0.0,0.0,5.0,0.0,0.0,0.0,1.0,0.0,2.0,3.0,1.0,0.0,null,null,null,null,null,null,null,null,null,null,null,null,null,null,null,null,null,null,null,null,null,null,null,null,null,null,null,null,null,null,null,null,null,null,null,null,null,null,null,null,null,null,null,null,null,null,null,null,null,null,null,null,null,null,null,null,null,null,null,null,null,null,null,null,null,null,null,null,null,null,null,null,null,null,null,null,null,null,null,null,null,null,null,null,null,null,null,null,null,null,null,null,null,null,null,null,null,null,null,null,null,null,null,null,null,null,null,null,null,null,null,null,null,null,null,null,null,null,null,null,null,null,null,null,null,null,null,null,null,null,null,null,null,null,null,null,null,null,null,null,null,null,null,null,null,null,null,null,null,null,null,null,null,null,null,null,null,null,null,null,null,null,null,null,null,null,null,null,null,null,null,null,null,null,null,null,null,null,null,null,null,null,null,null,null,null,null,null,null,null,null,null,null,null,null,null,null,null,null,null,null,null,null,null,null,null,null,null,null,null,null,null,null,null,null,null,null,null,null,null,null,null,null,null,null,null,null,null,null,null,null,null,null,null,null,null,null,null,null,null,null,null,null,null,null,null,null,null,null,null,null,null,null,null,null,null,null,null,null,null,null,null,null,null,null,null,null,null,null,null,null,null,null,null,null,null,null,null,null,null,null,null,null,null,null,null,null,null,null,null,null,null,null,null,null,null,null,null,null,null,null,null,null,null,null,null,null,null,null,null,null,null,null,null,null,null,null,null,null,null,null,null,null,null,null,null,null,null,null,null,null,null,null,null,null,null,null,null,null,null,null,null,null,null,null,null,null,null,null,null,null,null,null,null,null,null,null,null,null,null,null,null,null,null,null,null,null,null,null,null,null,null,null,null,null,null,null,null,null,null,null,null,null,null,null,null,null,null,null,null,null,null,null,null,null,null,null,null,null,null,null,null,null,null,null,null,null,null,null,null,null,null,null,null,null,null,null,null,null,null,null,null,null,null,null,null,null,null,null,null,null,null,null,null,null,null,null,null,null,null,null,null,null,null,null,null,null,null,null,null,null,null,null,null,null,null,null,null,null,null,null,null,null,null,null,null,null,null,null,null,null,null,null,null,null,null,null,null,null,null,null,null,null,null,null,null,null,null,null,null,null,null,null,null,null,null,null,null,null,null,null,null,null,null,null,null,null,null,null,null,null,null,null,null,null,null,null,null,null,null,null,null,null,null,null,null,null,null,null,null,null,null,null,null,null,null,null,null,null,null,null,null,null,null,null,null,null,null,null,null,null,null,null,null,null,null,null,null,null,null,null,null,null,null,null,null,null,null,null,null,null,null,null,null,null,null,null,null,null,null,null,null,null,null,null,null,null,null,null,null,null,null,null,null,null,null,null,null,null,null,null,null,null,null,null,null,null,null,null,null,null,null,null,null,null,null,null,null,null,null,null,null,null,null,null,null,null,null,null,null,null,null,null,null,null,null,null,null,null,null,null,null,null,null,null,null,null,null,null,null,null,null,null,null,null,null,null,null,null,null,null,null,null,null,null,null,null,null,null,null,null,null,null,null,null,null,null,null,null,null,null,null,null,null,null,null,null,null,null,null,null,null,null,null,null,null,null,null,null,null,null,null,null,null,null,null,null,null,null,null,null,null,null,null,null,null,null,null,null,null,null,null,null,null,null,null,null,null,null,null,null,null,null,null,null,null,null,null,null,null,null,null,null,null,null,null,null,null,null,null,null,null,null,null,null,null,null,null,null,null,null,null,null,null,null,null,null,null,null,null,null,null,null,null,null,null,null,null,null,null,null,null,null,null,null,null,null,null,null,null,null,null,null,null,null,null,null,null,null,null,null,null,null,null,null,null,null,null,null,null,null,null,null,null,null,null,null,null,null,null,null,null,null,null,null,null,null,null,null,null,null,null,null,null,null,null,null,null,null,null,null,null,null,null,null,null,null,null,null,null,null,null,null,null,null,null,null,null,null,null,null,null,null,null,null,null,null,null,null,null,null,null,null,null,null,null,null,null,null,null,null,null,null,null,null,null,null,null,null,null,null,null,null,null,null,null,null,null,null,null,null,null,null,null,null,null,null,null,null,null,null,null,null,null,null,null,null,null,null,null,null,null,null,null,null,null,null,null,null,null,null,null,null,null,null,null,null,null,null,null,null,null,null,null,null,null,null,null,null,null,null,null,null,null,null,null,null,null,null,null,null,null,null,null,null,null,null,null,null,null,null,null,null,null,null,null,null,null,null,null,null,null,null,null,null,null,null,null,null,null,null,null,null,null,null,null,null,null,null,null,null,null,null,null,null,null,null,null,null,null,null,null,null,null,null,null,null,null,null,null,null,null,null,null,null,null,null,null,null,null,null,null,null,null,null,null,null,null,null,null,null,null,null,null,null,null,null,null,null,null,null,null,null,null,null,null,null,null,null,null,null,null,null,null,null,null,null,null,null,null,null,null,null,null,null,null,null,null,null,null,null,null,null,null,null,null,null,null,null,null,null,null,null,null,null,null,null,null,null,null,null,null,null,null,null,null,null,null,null,null,null,null,null,null,null,null,null,null,null,null,null,null,null,null,null,null,null,null,null,null,null,null,null,null,null,null,null,null,null,null,null,null,null,null,null,null,null,null,null,null,null,null,null,null,null,null,null,null,null,null,null,null,null,null,null,null,null,null,null,null,null,null,null,null,null,null,null,null,null,null,null,null,null,null,null,null,null,null,null,null,null,null,null,null,null,null,null,null,null,null,null,null,null,null,null,null,null,null,null,null,null,null,null,null,null,null,null,null,null,null,null,null,null,null,null,null,null,null,null,null,null,null,null,null,null,null,null,null,null,null,null,null,null,null,null,null,null,null,null,null,null,null,null,null,null,null,null,null,null,null,null,null,null,null,null,null,null,null,null,null,null,null,null,null,null,null,null,null,null,null,null,null,null,null,null,null,null,null,null,null,null,null,null,null,null,null,null,null,null,null,null,null,null,null,null,null,null,null,null,null,null,null,null,null,null,null,null,null,null,null,null,null,null,null,null,null,null,null,null,null,null,null,null,null,null,null,null,null,null,null,null,null,null,null,null,null,null,null,null,null,null,null,null,null,null,null,null,null,null,null,null,null,null,null,null,null,null,null,null,null,null,null,null,null,null,null,null,null,null,null,null,null,null,null,null,null,null,null,null,null,null,null,null,null,null,null,null,null,null,null,null,null,null,null,null,null,null,null,null,null,null,null,null,null,null,null,null,null,null,null,null,null,null,null,null,null,null,null,null,null,null,null,null,null,null,null,null,null,null,null,null,null,null,null,null,null,null,null,null,null,null,null,null,null,null,null,null,null,null,null,null,null,null,null,null,null,null,null,null,null,null,null,null,null,null,null,null,null,null,null,null,null,null,null,null,null,null,null,null,null,null,null,null,null,null,null,null,null,null,null,null,null,null,null,null,null,null,null,null,null,null,null,null,null,null,null,null,null,null,null,null,null,null,null,null,null,null,null,null,null,null,null,null,null,null,null,null,null,null,null,null,null,null,null,null,null,null,null,null,null,null,null,null,null,null,null,null,null,null,null,null,null,null,null,null,null,null,null,null,null,null,null,null,null,null,null,null,null,null,null,null,null,null,null,null,null,null,null,null,null,null,null,null,null,null,null,null,null,null,null,null,null,null,null,null,null,null,null,null,null,null,null,null,null,null,null,null,null,null,null,null,null,null,null,null,null,null,null,null,null,null,null,null,null,null,null,null,null,null,null,null,null,null,null,null,null,null,null,null,null,null,null,null,null,null,null,null,null,null,null,null,null,null,null,null,null,null,null,null,null,null,null,null,null,null,null,null,null,null,null,null,null,null,null,null,null,null,null,null,null,null,null,null,null,null,null,null,null,null,null,null,null,null,null,null,null,null,null,null,null,null,null,null,null,null,null,null,null,null,null,null,null,null,null,null,null,null,null,null,null,null,null,null,null,null,null,null,null,null,null,null,null,null,null,null,null,null,null,null,null,null,null,null,null,null,null,null,null,null,null,null,null,null,null,null,null,null,null,null,null,null,null,null,null,null,null,null,null,null,null,null,null,null,null,null,null,null,null,null,null,null,null,null,null,null,null,null,null,null,null,null,null,null,null,null,null,null,null,null,null,null,null,null,null,null,null,null,null,null,null,null,null,null,null,null,null,null,null,null,null,null,null,null,null,null,null,null,null,null,null,null,null,null,null,null,null,null,null,null,null,null,null,null,null,null,null,null,null,null,null,null,null,null,null,null,null,null,null,null,null,null,null,null,null,null,null,null,null,null,null,null,null,null,null,null,null,null,null,null,null,null,null,null,null,null,null,null,null,null,null,null,null,null,null,null,null,null,null,null,null,null,null,null,null,null,null,null,null,null,null,null,null,null,null,null,null,null,null,null,null,null,null,null,null,null,null,null,null,null,null,null,null,null,null,null,null,null,null,null,null,null,null,null,null,null,null,null,null,null,null,null,null,null,null,null,null,null,null,null,null,null,null,null,null,null,null,null,null,null,null,null,null,null,null,null,null,null,null,null,null,null,null,null,null,null,null,null,null,null,null,null,null,null,null,null,null,null,null,null,null,null,null,null,null,null,null,null,null,null,null,null,null,null,null,null,null,null,null,null,null,null,null,null,null,null,null,null,null,null,null,null,null,null,null,null,null,null,null,null,null,null,null,null,null,null,null,null,null,null,null,null,null,null,null,null,null,null,null,null,null,null,null,null,null,null,null,null,null,null,null,null,null,null,null,null,null,null,null,null,null,null,null,null,null,null,null,null,null,null,null,null,null,null,null,null,null,null,null,null,null,null,null,null,null,null,null,null,null,null,null,null,null,null,null,null,null,null,null,null,null,null,null,null,null,null,null,null,null,null,null,null,null,null,null,null,null,null,null,null,null,null,null,null,null,null,null,null,null,null,null,null,null,null,null,null,null,null,null,null,null,null,null,null,null,null,null,null,null,null,null,null,null,null,null,null,null,null,null,null,null,null,null,null,null,null,null,null,null,null,null,null,null,null,null,null,null,null,null,null,null,null,null,null,null,null,null,null,null,null,null,null,null,null,null,null,null,null,null,null,null,null,null,null,null,null,null,null,null,null,null,null,null,null,null,null,null,null,null,null,null,null,null,null,null,null,null,null,null,null,null,null,null,null,null,null,null,null,null,null,null,null,null,null,null,null,null,null,null,null,null,null,null,null,null,null,null,null,null,null,null,null,null,null,null,null,null,null,null,null,null,null,null,null,null,null,null,null,null,null,null,null,null,null,null,null,null,null,null,null,null,null,null,null,null,null,null,null,null,null,null,null,null,null,null,null,null,null,null,null,null,null,null,null,null,null,null,null,null,null,null,null,null,null,null,null,null,null,null,null,null,null,null,null,null,null,null,null,null,null,null,null,null,null,null,null,null,null,null,null,null,null,null,null,null,null,null,null,null,null,null,null,null,null,null,null,null,null,null,null,null,null,null,null,null,null,null,null,null,null,null,null,null,null,null,null,null,null,null,null,null,null,null,null,null,null,null,null,null,null,null,null,null,null,null,null,null,null,null,null,null,null,null,null,null,null,null,null,null,null,null,null,null,null,null,null,null,null,null,null,null,null,null,null,null,null,null,null,null,null,null,null,null,null,null,null,null,null,null,null,null,null,null,null,null,null,null,null,null,null,null,null,null,null,null,null,null,null,null,null,null,null,null,null,null,null,null,null,null,null,null,null,null,null,null,null,null,null,null,null,null,null,null,null,null,null,null,null,null,null,null,null,null,null,null,null],\"xaxis\":\"x\",\"y\":[\"510\",\"155\",\"426\",\"252\",\"962\",\"219\",\"2,235\",\"122\",\"5,173\",\"334\",\"95\",\"432\",\"244\",\"79\",\"213\",\"299\",\"885\",\"3,117\",\"41\",\"920\",\"1,161\",\"845\",\"324\",\"330\",\"266\",\"232\",\"295\",\"697\",\"101\",\"638\",\"394\",\"104\",\"383\",\"169\",\"87\",\"227\",\"9\",\"50\",\"111\",\"33\",\"101\",\"44\",\"265\",\"58\",\"200\",\"47\",\"89\",\"324\",\"34\",\"14\",\"139\",\"82\",\"3\",\"39\",\"167\",\"34\",\"185\",null,null,null,null,null,null,null,null,null,null,null,null,null,null,null,null,null,null,null,null,null,null,null,null,null,null,null,null,null,null,null,null,null,null,null,null,null,null,null,null,null,null,null,null,null,null,null,null,null,null,null,null,null,null,null,null,null,null,null,null,null,null,null,null,null,null,null,null,null,null,null,null,null,null,null,null,null,null,null,null,null,null,null,null,null,null,null,null,null,null,null,null,null,null,null,null,null,null,null,null,null,null,null,null,null,null,null,null,null,null,null,null,null,null,null,null,null,null,null,null,null,null,null,null,null,null,null,null,null,null,null,null,null,null,null,null,null,null,null,null,null,null,null,null,null,null,null,null,null,null,null,null,null,null,null,null,null,null,null,null,null,null,null,null,null,null,null,null,null,null,null,null,null,null,null,null,null,null,null,null,null,null,null,null,null,null,null,null,null,null,null,null,null,null,null,null,null,null,null,null,null,null,null,null,null,null,null,null,null,null,null,null,null,null,null,null,null,null,null,null,null,null,null,null,null,null,null,null,null,null,null,null,null,null,null,null,null,null,null,null,null,null,null,null,null,null,null,null,null,null,null,null,null,null,null,null,null,null,null,null,null,null,null,null,null,null,null,null,null,null,null,null,null,null,null,null,null,null,null,null,null,null,null,null,null,null,null,null,null,null,null,null,null,null,null,null,null,null,null,null,null,null,null,null,null,null,null,null,null,null,null,null,null,null,null,null,null,null,null,null,null,null,null,null,null,null,null,null,null,null,null,null,null,null,null,null,null,null,null,null,null,null,null,null,null,null,null,null,null,null,null,null,null,null,null,null,null,null,null,null,null,null,null,null,null,null,null,null,null,null,null,null,null,null,null,null,null,null,null,null,null,null,null,null,null,null,null,null,null,null,null,null,null,null,null,null,null,null,null,null,null,null,null,null,null,null,null,null,null,null,null,null,null,null,null,null,null,null,null,null,null,null,null,null,null,null,null,null,null,null,null,null,null,null,null,null,null,null,null,null,null,null,null,null,null,null,null,null,null,null,null,null,null,null,null,null,null,null,null,null,null,null,null,null,null,null,null,null,null,null,null,null,null,null,null,null,null,null,null,null,null,null,null,null,null,null,null,null,null,null,null,null,null,null,null,null,null,null,null,null,null,null,null,null,null,null,null,null,null,null,null,null,null,null,null,null,null,null,null,null,null,null,null,null,null,null,null,null,null,null,null,null,null,null,null,null,null,null,null,null,null,null,null,null,null,null,null,null,null,null,null,null,null,null,null,null,null,null,null,null,null,null,null,null,null,null,null,null,null,null,null,null,null,null,null,null,null,null,null,null,null,null,null,null,null,null,null,null,null,null,null,null,null,null,null,null,null,null,null,null,null,null,null,null,null,null,null,null,null,null,null,null,null,null,null,null,null,null,null,null,null,null,null,null,null,null,null,null,null,null,null,null,null,null,null,null,null,null,null,null,null,null,null,null,null,null,null,null,null,null,null,null,null,null,null,null,null,null,null,null,null,null,null,null,null,null,null,null,null,null,null,null,null,null,null,null,null,null,null,null,null,null,null,null,null,null,null,null,null,null,null,null,null,null,null,null,null,null,null,null,null,null,null,null,null,null,null,null,null,null,null,null,null,null,null,null,null,null,null,null,null,null,null,null,null,null,null,null,null,null,null,null,null,null,null,null,null,null,null,null,null,null,null,null,null,null,null,null,null,null,null,null,null,null,null,null,null,null,null,null,null,null,null,null,null,null,null,null,null,null,null,null,null,null,null,null,null,null,null,null,null,null,null,null,null,null,null,null,null,null,null,null,null,null,null,null,null,null,null,null,null,null,null,null,null,null,null,null,null,null,null,null,null,null,null,null,null,null,null,null,null,null,null,null,null,null,null,null,null,null,null,null,null,null,null,null,null,null,null,null,null,null,null,null,null,null,null,null,null,null,null,null,null,null,null,null,null,null,null,null,null,null,null,null,null,null,null,null,null,null,null,null,null,null,null,null,null,null,null,null,null,null,null,null,null,null,null,null,null,null,null,null,null,null,null,null,null,null,null,null,null,null,null,null,null,null,null,null,null,null,null,null,null,null,null,null,null,null,null,null,null,null,null,null,null,null,null,null,null,null,null,null,null,null,null,null,null,null,null,null,null,null,null,null,null,null,null,null,null,null,null,null,null,null,null,null,null,null,null,null,null,null,null,null,null,null,null,null,null,null,null,null,null,null,null,null,null,null,null,null,null,null,null,null,null,null,null,null,null,null,null,null,null,null,null,null,null,null,null,null,null,null,null,null,null,null,null,null,null,null,null,null,null,null,null,null,null,null,null,null,null,null,null,null,null,null,null,null,null,null,null,null,null,null,null,null,null,null,null,null,null,null,null,null,null,null,null,null,null,null,null,null,null,null,null,null,null,null,null,null,null,null,null,null,null,null,null,null,null,null,null,null,null,null,null,null,null,null,null,null,null,null,null,null,null,null,null,null,null,null,null,null,null,null,null,null,null,null,null,null,null,null,null,null,null,null,null,null,null,null,null,null,null,null,null,null,null,null,null,null,null,null,null,null,null,null,null,null,null,null,null,null,null,null,null,null,null,null,null,null,null,null,null,null,null,null,null,null,null,null,null,null,null,null,null,null,null,null,null,null,null,null,null,null,null,null,null,null,null,null,null,null,null,null,null,null,null,null,null,null,null,null,null,null,null,null,null,null,null,null,null,null,null,null,null,null,null,null,null,null,null,null,null,null,null,null,null,null,null,null,null,null,null,null,null,null,null,null,null,null,null,null,null,null,null,null,null,null,null,null,null,null,null,null,null,null,null,null,null,null,null,null,null,null,null,null,null,null,null,null,null,null,null,null,null,null,null,null,null,null,null,null,null,null,null,null,null,null,null,null,null,null,null,null,null,null,null,null,null,null,null,null,null,null,null,null,null,null,null,null,null,null,null,null,null,null,null,null,null,null,null,null,null,null,null,null,null,null,null,null,null,null,null,null,null,null,null,null,null,null,null,null,null,null,null,null,null,null,null,null,null,null,null,null,null,null,null,null,null,null,null,null,null,null,null,null,null,null,null,null,null,null,null,null,null,null,null,null,null,null,null,null,null,null,null,null,null,null,null,null,null,null,null,null,null,null,null,null,null,null,null,null,null,null,null,null,null,null,null,null,null,null,null,null,null,null,null,null,null,null,null,null,null,null,null,null,null,null,null,null,null,null,null,null,null,null,null,null,null,null,null,null,null,null,null,null,null,null,null,null,null,null,null,null,null,null,null,null,null,null,null,null,null,null,null,null,null,null,null,null,null,null,null,null,null,null,null,null,null,null,null,null,null,null,null,null,null,null,null,null,null,null,null,null,null,null,null,null,null,null,null,null,null,null,null,null,null,null,null,null,null,null,null,null,null,null,null,null,null,null,null,null,null,null,null,null,null,null,null,null,null,null,null,null,null,null,null,null,null,null,null,null,null,null,null,null,null,null,null,null,null,null,null,null,null,null,null,null,null,null,null,null,null,null,null,null,null,null,null,null,null,null,null,null,null,null,null,null,null,null,null,null,null,null,null,null,null,null,null,null,null,null,null,null,null,null,null,null,null,null,null,null,null,null,null,null,null,null,null,null,null,null,null,null,null,null,null,null,null,null,null,null,null,null,null,null,null,null,null,null,null,null,null,null,null,null,null,null,null,null,null,null,null,null,null,null,null,null,null,null,null,null,null,null,null,null,null,null,null,null,null,null,null,null,null,null,null,null,null,null,null,null,null,null,null,null,null,null,null,null,null,null,null,null,null,null,null,null,null,null,null,null,null,null,null,null,null,null,null,null,null,null,null,null,null,null,null,null,null,null,null,null,null,null,null,null,null,null,null,null,null,null,null,null,null,null,null,null,null,null,null,null,null,null,null,null,null,null,null,null,null,null,null,null,null,null,null,null,null,null,null,null,null,null,null,null,null,null,null,null,null,null,null,null,null,null,null,null,null,null,null,null,null,null,null,null,null,null,null,null,null,null,null,null,null,null,null,null,null,null,null,null,null,null,null,null,null,null,null,null,null,null,null,null,null,null,null,null,null,null,null,null,null,null,null,null,null,null,null,null,null,null,null,null,null,null,null,null,null,null,null,null,null,null,null,null,null,null,null,null,null,null,null,null,null,null,null,null,null,null,null,null,null,null,null,null,null,null,null,null,null,null,null,null,null,null,null,null,null,null,null,null,null,null,null,null,null,null,null,null,null,null,null,null,null,null,null,null,null,null,null,null,null,null,null,null,null,null,null,null,null,null,null,null,null,null,null,null,null,null,null,null,null,null,null,null,null,null,null,null,null,null,null,null,null,null,null,null,null,null,null,null,null,null,null,null,null,null,null,null,null,null,null,null,null,null,null,null,null,null,null,null,null,null,null,null,null,null,null,null,null,null,null,null,null,null,null,null,null,null,null,null,null,null,null,null,null,null,null,null,null,null,null,null,null,null,null,null,null,null,null,null,null,null,null,null,null,null,null,null,null,null,null,null,null,null,null,null,null,null,null,null,null,null,null,null,null,null,null,null,null,null,null,null,null,null,null,null,null,null,null,null,null,null,null,null,null,null,null,null,null,null,null,null,null,null,null,null,null,null,null,null,null,null,null,null,null,null,null,null,null,null,null,null,null,null,null,null,null,null,null,null,null,null,null,null,null,null,null,null,null,null,null,null,null,null,null,null,null,null,null,null,null,null,null,null,null,null,null,null,null,null,null,null,null,null,null,null,null,null,null,null,null,null,null,null,null,null,null,null,null,null,null,null,null,null,null,null,null,null,null,null,null,null,null,null,null,null,null,null,null,null,null,null,null,null,null,null,null,null,null,null,null,null,null,null,null,null,null,null,null,null,null,null,null,null,null,null,null,null,null,null,null,null,null,null,null,null,null,null,null,null,null,null,null,null,null,null,null,null,null,null,null,null,null,null,null,null,null,null,null,null,null,null,null,null,null,null,null,null,null,null,null,null,null,null,null,null,null,null,null,null,null,null,null,null,null,null,null,null,null,null,null,null,null,null,null,null,null,null,null,null,null,null,null,null,null,null,null,null,null,null,null,null,null,null,null,null,null,null,null,null,null,null,null,null,null,null,null,null,null,null,null,null,null,null,null,null,null,null,null,null,null,null,null,null,null,null,null,null,null,null,null,null,null,null,null,null,null,null,null,null,null,null,null,null,null,null,null,null,null,null,null,null,null,null,null,null,null,null,null,null,null,null,null,null,null,null,null,null,null,null,null,null,null,null,null,null,null,null,null,null,null,null,null,null,null,null,null,null,null,null,null,null,null,null,null,null,null,null,null,null,null,null,null,null,null,null,null,null,null,null,null,null,null,null,null,null,null,null,null,null,null,null,null,null,null,null,null,null,null,null,null,null,null,null,null,null,null,null,null,null,null,null,null,null,null,null,null,null,null,null,null,null,null,null,null,null,null,null,null,null,null,null,null,null,null,null,null,null,null,null,null,null,null,null,null,null,null,null,null,null,null,null,null,null,null,null,null,null,null,null,null,null,null,null,null,null,null,null,null,null,null,null,null,null,null,null,null,null,null,null,null,null,null,null,null,null,null,null,null,null,null,null,null,null,null,null,null,null,null,null,null,null,null,null,null,null,null,null,null,null,null,null,null,null,null,null,null,null,null,null,null,null,null,null,null,null,null,null,null,null,null,null,null,null,null,null,null,null,null,null,null,null,null,null,null,null,null,null,null,null,null,null,null,null,null,null,null,null,null,null,null,null,null],\"yaxis\":\"y\",\"type\":\"scattergl\"}],                        {\"template\":{\"data\":{\"histogram2dcontour\":[{\"type\":\"histogram2dcontour\",\"colorbar\":{\"outlinewidth\":0,\"ticks\":\"\"},\"colorscale\":[[0.0,\"#0d0887\"],[0.1111111111111111,\"#46039f\"],[0.2222222222222222,\"#7201a8\"],[0.3333333333333333,\"#9c179e\"],[0.4444444444444444,\"#bd3786\"],[0.5555555555555556,\"#d8576b\"],[0.6666666666666666,\"#ed7953\"],[0.7777777777777778,\"#fb9f3a\"],[0.8888888888888888,\"#fdca26\"],[1.0,\"#f0f921\"]]}],\"choropleth\":[{\"type\":\"choropleth\",\"colorbar\":{\"outlinewidth\":0,\"ticks\":\"\"}}],\"histogram2d\":[{\"type\":\"histogram2d\",\"colorbar\":{\"outlinewidth\":0,\"ticks\":\"\"},\"colorscale\":[[0.0,\"#0d0887\"],[0.1111111111111111,\"#46039f\"],[0.2222222222222222,\"#7201a8\"],[0.3333333333333333,\"#9c179e\"],[0.4444444444444444,\"#bd3786\"],[0.5555555555555556,\"#d8576b\"],[0.6666666666666666,\"#ed7953\"],[0.7777777777777778,\"#fb9f3a\"],[0.8888888888888888,\"#fdca26\"],[1.0,\"#f0f921\"]]}],\"heatmap\":[{\"type\":\"heatmap\",\"colorbar\":{\"outlinewidth\":0,\"ticks\":\"\"},\"colorscale\":[[0.0,\"#0d0887\"],[0.1111111111111111,\"#46039f\"],[0.2222222222222222,\"#7201a8\"],[0.3333333333333333,\"#9c179e\"],[0.4444444444444444,\"#bd3786\"],[0.5555555555555556,\"#d8576b\"],[0.6666666666666666,\"#ed7953\"],[0.7777777777777778,\"#fb9f3a\"],[0.8888888888888888,\"#fdca26\"],[1.0,\"#f0f921\"]]}],\"heatmapgl\":[{\"type\":\"heatmapgl\",\"colorbar\":{\"outlinewidth\":0,\"ticks\":\"\"},\"colorscale\":[[0.0,\"#0d0887\"],[0.1111111111111111,\"#46039f\"],[0.2222222222222222,\"#7201a8\"],[0.3333333333333333,\"#9c179e\"],[0.4444444444444444,\"#bd3786\"],[0.5555555555555556,\"#d8576b\"],[0.6666666666666666,\"#ed7953\"],[0.7777777777777778,\"#fb9f3a\"],[0.8888888888888888,\"#fdca26\"],[1.0,\"#f0f921\"]]}],\"contourcarpet\":[{\"type\":\"contourcarpet\",\"colorbar\":{\"outlinewidth\":0,\"ticks\":\"\"}}],\"contour\":[{\"type\":\"contour\",\"colorbar\":{\"outlinewidth\":0,\"ticks\":\"\"},\"colorscale\":[[0.0,\"#0d0887\"],[0.1111111111111111,\"#46039f\"],[0.2222222222222222,\"#7201a8\"],[0.3333333333333333,\"#9c179e\"],[0.4444444444444444,\"#bd3786\"],[0.5555555555555556,\"#d8576b\"],[0.6666666666666666,\"#ed7953\"],[0.7777777777777778,\"#fb9f3a\"],[0.8888888888888888,\"#fdca26\"],[1.0,\"#f0f921\"]]}],\"surface\":[{\"type\":\"surface\",\"colorbar\":{\"outlinewidth\":0,\"ticks\":\"\"},\"colorscale\":[[0.0,\"#0d0887\"],[0.1111111111111111,\"#46039f\"],[0.2222222222222222,\"#7201a8\"],[0.3333333333333333,\"#9c179e\"],[0.4444444444444444,\"#bd3786\"],[0.5555555555555556,\"#d8576b\"],[0.6666666666666666,\"#ed7953\"],[0.7777777777777778,\"#fb9f3a\"],[0.8888888888888888,\"#fdca26\"],[1.0,\"#f0f921\"]]}],\"mesh3d\":[{\"type\":\"mesh3d\",\"colorbar\":{\"outlinewidth\":0,\"ticks\":\"\"}}],\"scatter\":[{\"fillpattern\":{\"fillmode\":\"overlay\",\"size\":10,\"solidity\":0.2},\"type\":\"scatter\"}],\"parcoords\":[{\"type\":\"parcoords\",\"line\":{\"colorbar\":{\"outlinewidth\":0,\"ticks\":\"\"}}}],\"scatterpolargl\":[{\"type\":\"scatterpolargl\",\"marker\":{\"colorbar\":{\"outlinewidth\":0,\"ticks\":\"\"}}}],\"bar\":[{\"error_x\":{\"color\":\"#2a3f5f\"},\"error_y\":{\"color\":\"#2a3f5f\"},\"marker\":{\"line\":{\"color\":\"#E5ECF6\",\"width\":0.5},\"pattern\":{\"fillmode\":\"overlay\",\"size\":10,\"solidity\":0.2}},\"type\":\"bar\"}],\"scattergeo\":[{\"type\":\"scattergeo\",\"marker\":{\"colorbar\":{\"outlinewidth\":0,\"ticks\":\"\"}}}],\"scatterpolar\":[{\"type\":\"scatterpolar\",\"marker\":{\"colorbar\":{\"outlinewidth\":0,\"ticks\":\"\"}}}],\"histogram\":[{\"marker\":{\"pattern\":{\"fillmode\":\"overlay\",\"size\":10,\"solidity\":0.2}},\"type\":\"histogram\"}],\"scattergl\":[{\"type\":\"scattergl\",\"marker\":{\"colorbar\":{\"outlinewidth\":0,\"ticks\":\"\"}}}],\"scatter3d\":[{\"type\":\"scatter3d\",\"line\":{\"colorbar\":{\"outlinewidth\":0,\"ticks\":\"\"}},\"marker\":{\"colorbar\":{\"outlinewidth\":0,\"ticks\":\"\"}}}],\"scattermapbox\":[{\"type\":\"scattermapbox\",\"marker\":{\"colorbar\":{\"outlinewidth\":0,\"ticks\":\"\"}}}],\"scatterternary\":[{\"type\":\"scatterternary\",\"marker\":{\"colorbar\":{\"outlinewidth\":0,\"ticks\":\"\"}}}],\"scattercarpet\":[{\"type\":\"scattercarpet\",\"marker\":{\"colorbar\":{\"outlinewidth\":0,\"ticks\":\"\"}}}],\"carpet\":[{\"aaxis\":{\"endlinecolor\":\"#2a3f5f\",\"gridcolor\":\"white\",\"linecolor\":\"white\",\"minorgridcolor\":\"white\",\"startlinecolor\":\"#2a3f5f\"},\"baxis\":{\"endlinecolor\":\"#2a3f5f\",\"gridcolor\":\"white\",\"linecolor\":\"white\",\"minorgridcolor\":\"white\",\"startlinecolor\":\"#2a3f5f\"},\"type\":\"carpet\"}],\"table\":[{\"cells\":{\"fill\":{\"color\":\"#EBF0F8\"},\"line\":{\"color\":\"white\"}},\"header\":{\"fill\":{\"color\":\"#C8D4E3\"},\"line\":{\"color\":\"white\"}},\"type\":\"table\"}],\"barpolar\":[{\"marker\":{\"line\":{\"color\":\"#E5ECF6\",\"width\":0.5},\"pattern\":{\"fillmode\":\"overlay\",\"size\":10,\"solidity\":0.2}},\"type\":\"barpolar\"}],\"pie\":[{\"automargin\":true,\"type\":\"pie\"}]},\"layout\":{\"autotypenumbers\":\"strict\",\"colorway\":[\"#636efa\",\"#EF553B\",\"#00cc96\",\"#ab63fa\",\"#FFA15A\",\"#19d3f3\",\"#FF6692\",\"#B6E880\",\"#FF97FF\",\"#FECB52\"],\"font\":{\"color\":\"#2a3f5f\"},\"hovermode\":\"closest\",\"hoverlabel\":{\"align\":\"left\"},\"paper_bgcolor\":\"white\",\"plot_bgcolor\":\"#E5ECF6\",\"polar\":{\"bgcolor\":\"#E5ECF6\",\"angularaxis\":{\"gridcolor\":\"white\",\"linecolor\":\"white\",\"ticks\":\"\"},\"radialaxis\":{\"gridcolor\":\"white\",\"linecolor\":\"white\",\"ticks\":\"\"}},\"ternary\":{\"bgcolor\":\"#E5ECF6\",\"aaxis\":{\"gridcolor\":\"white\",\"linecolor\":\"white\",\"ticks\":\"\"},\"baxis\":{\"gridcolor\":\"white\",\"linecolor\":\"white\",\"ticks\":\"\"},\"caxis\":{\"gridcolor\":\"white\",\"linecolor\":\"white\",\"ticks\":\"\"}},\"coloraxis\":{\"colorbar\":{\"outlinewidth\":0,\"ticks\":\"\"}},\"colorscale\":{\"sequential\":[[0.0,\"#0d0887\"],[0.1111111111111111,\"#46039f\"],[0.2222222222222222,\"#7201a8\"],[0.3333333333333333,\"#9c179e\"],[0.4444444444444444,\"#bd3786\"],[0.5555555555555556,\"#d8576b\"],[0.6666666666666666,\"#ed7953\"],[0.7777777777777778,\"#fb9f3a\"],[0.8888888888888888,\"#fdca26\"],[1.0,\"#f0f921\"]],\"sequentialminus\":[[0.0,\"#0d0887\"],[0.1111111111111111,\"#46039f\"],[0.2222222222222222,\"#7201a8\"],[0.3333333333333333,\"#9c179e\"],[0.4444444444444444,\"#bd3786\"],[0.5555555555555556,\"#d8576b\"],[0.6666666666666666,\"#ed7953\"],[0.7777777777777778,\"#fb9f3a\"],[0.8888888888888888,\"#fdca26\"],[1.0,\"#f0f921\"]],\"diverging\":[[0,\"#8e0152\"],[0.1,\"#c51b7d\"],[0.2,\"#de77ae\"],[0.3,\"#f1b6da\"],[0.4,\"#fde0ef\"],[0.5,\"#f7f7f7\"],[0.6,\"#e6f5d0\"],[0.7,\"#b8e186\"],[0.8,\"#7fbc41\"],[0.9,\"#4d9221\"],[1,\"#276419\"]]},\"xaxis\":{\"gridcolor\":\"white\",\"linecolor\":\"white\",\"ticks\":\"\",\"title\":{\"standoff\":15},\"zerolinecolor\":\"white\",\"automargin\":true,\"zerolinewidth\":2},\"yaxis\":{\"gridcolor\":\"white\",\"linecolor\":\"white\",\"ticks\":\"\",\"title\":{\"standoff\":15},\"zerolinecolor\":\"white\",\"automargin\":true,\"zerolinewidth\":2},\"scene\":{\"xaxis\":{\"backgroundcolor\":\"#E5ECF6\",\"gridcolor\":\"white\",\"linecolor\":\"white\",\"showbackground\":true,\"ticks\":\"\",\"zerolinecolor\":\"white\",\"gridwidth\":2},\"yaxis\":{\"backgroundcolor\":\"#E5ECF6\",\"gridcolor\":\"white\",\"linecolor\":\"white\",\"showbackground\":true,\"ticks\":\"\",\"zerolinecolor\":\"white\",\"gridwidth\":2},\"zaxis\":{\"backgroundcolor\":\"#E5ECF6\",\"gridcolor\":\"white\",\"linecolor\":\"white\",\"showbackground\":true,\"ticks\":\"\",\"zerolinecolor\":\"white\",\"gridwidth\":2}},\"shapedefaults\":{\"line\":{\"color\":\"#2a3f5f\"}},\"annotationdefaults\":{\"arrowcolor\":\"#2a3f5f\",\"arrowhead\":0,\"arrowwidth\":1},\"geo\":{\"bgcolor\":\"white\",\"landcolor\":\"#E5ECF6\",\"subunitcolor\":\"white\",\"showland\":true,\"showlakes\":true,\"lakecolor\":\"white\"},\"title\":{\"x\":0.05},\"mapbox\":{\"style\":\"light\"}}},\"xaxis\":{\"anchor\":\"y\",\"domain\":[0.0,1.0],\"title\":{\"text\":\"Murder and nonnegligent manslaughter\"}},\"yaxis\":{\"anchor\":\"x\",\"domain\":[0.0,1.0],\"title\":{\"text\":\"Violent crime\"}},\"legend\":{\"tracegroupgap\":0},\"margin\":{\"t\":60}},                        {\"responsive\": true}                    ).then(function(){\n",
              "                            \n",
              "var gd = document.getElementById('52895520-a7f8-4a4a-9ca2-595d92040f8f');\n",
              "var x = new MutationObserver(function (mutations, observer) {{\n",
              "        var display = window.getComputedStyle(gd).display;\n",
              "        if (!display || display === 'none') {{\n",
              "            console.log([gd, 'removed!']);\n",
              "            Plotly.purge(gd);\n",
              "            observer.disconnect();\n",
              "        }}\n",
              "}});\n",
              "\n",
              "// Listen for the removal of the full notebook cells\n",
              "var notebookContainer = gd.closest('#notebook-container');\n",
              "if (notebookContainer) {{\n",
              "    x.observe(notebookContainer, {childList: true});\n",
              "}}\n",
              "\n",
              "// Listen for the clearing of the current output cell\n",
              "var outputEl = gd.closest('.output');\n",
              "if (outputEl) {{\n",
              "    x.observe(outputEl, {childList: true});\n",
              "}}\n",
              "\n",
              "                        })                };                            </script>        </div>\n",
              "</body>\n",
              "</html>"
            ]
          },
          "metadata": {}
        }
      ]
    },
    {
      "cell_type": "markdown",
      "source": [
        "Постройте матрицу корреляции для двух числовых признаков вашего датасета."
      ],
      "metadata": {
        "id": "S-jG4a5SaFXS"
      }
    },
    {
      "cell_type": "code",
      "source": [
        "corr_matrix = df.corr()\n",
        "corr_matrix"
      ],
      "metadata": {
        "id": "u_lOnPtjnfbq",
        "colab": {
          "base_uri": "https://localhost:8080/",
          "height": 303
        },
        "outputId": "237ebd1c-3221-4d15-94ae-88f1611bee02"
      },
      "execution_count": null,
      "outputs": [
        {
          "output_type": "stream",
          "name": "stderr",
          "text": [
            "<ipython-input-53-208d05607fc1>:1: FutureWarning:\n",
            "\n",
            "The default value of numeric_only in DataFrame.corr is deprecated. In a future version, it will default to False. Select only valid columns or specify the value of numeric_only to silence this warning.\n",
            "\n"
          ]
        },
        {
          "output_type": "execute_result",
          "data": {
            "text/plain": [
              "                                      Murder and nonnegligent manslaughter  \\\n",
              "Murder and nonnegligent manslaughter                              1.000000   \n",
              "Rape (revised definition)                                         0.907173   \n",
              "Rape(legacy definition)                                                NaN   \n",
              "Arson                                                             0.689732   \n",
              "\n",
              "                                      Rape (revised definition)  \\\n",
              "Murder and nonnegligent manslaughter                   0.907173   \n",
              "Rape (revised definition)                              1.000000   \n",
              "Rape(legacy definition)                                     NaN   \n",
              "Arson                                                  0.740270   \n",
              "\n",
              "                                      Rape(legacy definition)     Arson  \n",
              "Murder and nonnegligent manslaughter                      NaN  0.689732  \n",
              "Rape (revised definition)                                 NaN  0.740270  \n",
              "Rape(legacy definition)                                   NaN       NaN  \n",
              "Arson                                                     NaN  1.000000  "
            ],
            "text/html": [
              "\n",
              "  <div id=\"df-cdc930ab-6595-4120-bd34-243284caf308\" class=\"colab-df-container\">\n",
              "    <div>\n",
              "<style scoped>\n",
              "    .dataframe tbody tr th:only-of-type {\n",
              "        vertical-align: middle;\n",
              "    }\n",
              "\n",
              "    .dataframe tbody tr th {\n",
              "        vertical-align: top;\n",
              "    }\n",
              "\n",
              "    .dataframe thead th {\n",
              "        text-align: right;\n",
              "    }\n",
              "</style>\n",
              "<table border=\"1\" class=\"dataframe\">\n",
              "  <thead>\n",
              "    <tr style=\"text-align: right;\">\n",
              "      <th></th>\n",
              "      <th>Murder and nonnegligent manslaughter</th>\n",
              "      <th>Rape (revised definition)</th>\n",
              "      <th>Rape(legacy definition)</th>\n",
              "      <th>Arson</th>\n",
              "    </tr>\n",
              "  </thead>\n",
              "  <tbody>\n",
              "    <tr>\n",
              "      <th>Murder and nonnegligent manslaughter</th>\n",
              "      <td>1.000000</td>\n",
              "      <td>0.907173</td>\n",
              "      <td>NaN</td>\n",
              "      <td>0.689732</td>\n",
              "    </tr>\n",
              "    <tr>\n",
              "      <th>Rape (revised definition)</th>\n",
              "      <td>0.907173</td>\n",
              "      <td>1.000000</td>\n",
              "      <td>NaN</td>\n",
              "      <td>0.740270</td>\n",
              "    </tr>\n",
              "    <tr>\n",
              "      <th>Rape(legacy definition)</th>\n",
              "      <td>NaN</td>\n",
              "      <td>NaN</td>\n",
              "      <td>NaN</td>\n",
              "      <td>NaN</td>\n",
              "    </tr>\n",
              "    <tr>\n",
              "      <th>Arson</th>\n",
              "      <td>0.689732</td>\n",
              "      <td>0.740270</td>\n",
              "      <td>NaN</td>\n",
              "      <td>1.000000</td>\n",
              "    </tr>\n",
              "  </tbody>\n",
              "</table>\n",
              "</div>\n",
              "    <div class=\"colab-df-buttons\">\n",
              "\n",
              "  <div class=\"colab-df-container\">\n",
              "    <button class=\"colab-df-convert\" onclick=\"convertToInteractive('df-cdc930ab-6595-4120-bd34-243284caf308')\"\n",
              "            title=\"Convert this dataframe to an interactive table.\"\n",
              "            style=\"display:none;\">\n",
              "\n",
              "  <svg xmlns=\"http://www.w3.org/2000/svg\" height=\"24px\" viewBox=\"0 -960 960 960\">\n",
              "    <path d=\"M120-120v-720h720v720H120Zm60-500h600v-160H180v160Zm220 220h160v-160H400v160Zm0 220h160v-160H400v160ZM180-400h160v-160H180v160Zm440 0h160v-160H620v160ZM180-180h160v-160H180v160Zm440 0h160v-160H620v160Z\"/>\n",
              "  </svg>\n",
              "    </button>\n",
              "\n",
              "  <style>\n",
              "    .colab-df-container {\n",
              "      display:flex;\n",
              "      gap: 12px;\n",
              "    }\n",
              "\n",
              "    .colab-df-convert {\n",
              "      background-color: #E8F0FE;\n",
              "      border: none;\n",
              "      border-radius: 50%;\n",
              "      cursor: pointer;\n",
              "      display: none;\n",
              "      fill: #1967D2;\n",
              "      height: 32px;\n",
              "      padding: 0 0 0 0;\n",
              "      width: 32px;\n",
              "    }\n",
              "\n",
              "    .colab-df-convert:hover {\n",
              "      background-color: #E2EBFA;\n",
              "      box-shadow: 0px 1px 2px rgba(60, 64, 67, 0.3), 0px 1px 3px 1px rgba(60, 64, 67, 0.15);\n",
              "      fill: #174EA6;\n",
              "    }\n",
              "\n",
              "    .colab-df-buttons div {\n",
              "      margin-bottom: 4px;\n",
              "    }\n",
              "\n",
              "    [theme=dark] .colab-df-convert {\n",
              "      background-color: #3B4455;\n",
              "      fill: #D2E3FC;\n",
              "    }\n",
              "\n",
              "    [theme=dark] .colab-df-convert:hover {\n",
              "      background-color: #434B5C;\n",
              "      box-shadow: 0px 1px 3px 1px rgba(0, 0, 0, 0.15);\n",
              "      filter: drop-shadow(0px 1px 2px rgba(0, 0, 0, 0.3));\n",
              "      fill: #FFFFFF;\n",
              "    }\n",
              "  </style>\n",
              "\n",
              "    <script>\n",
              "      const buttonEl =\n",
              "        document.querySelector('#df-cdc930ab-6595-4120-bd34-243284caf308 button.colab-df-convert');\n",
              "      buttonEl.style.display =\n",
              "        google.colab.kernel.accessAllowed ? 'block' : 'none';\n",
              "\n",
              "      async function convertToInteractive(key) {\n",
              "        const element = document.querySelector('#df-cdc930ab-6595-4120-bd34-243284caf308');\n",
              "        const dataTable =\n",
              "          await google.colab.kernel.invokeFunction('convertToInteractive',\n",
              "                                                    [key], {});\n",
              "        if (!dataTable) return;\n",
              "\n",
              "        const docLinkHtml = 'Like what you see? Visit the ' +\n",
              "          '<a target=\"_blank\" href=https://colab.research.google.com/notebooks/data_table.ipynb>data table notebook</a>'\n",
              "          + ' to learn more about interactive tables.';\n",
              "        element.innerHTML = '';\n",
              "        dataTable['output_type'] = 'display_data';\n",
              "        await google.colab.output.renderOutput(dataTable, element);\n",
              "        const docLink = document.createElement('div');\n",
              "        docLink.innerHTML = docLinkHtml;\n",
              "        element.appendChild(docLink);\n",
              "      }\n",
              "    </script>\n",
              "  </div>\n",
              "\n",
              "\n",
              "<div id=\"df-f25f9370-66fa-48a9-9c30-d966f20cce81\">\n",
              "  <button class=\"colab-df-quickchart\" onclick=\"quickchart('df-f25f9370-66fa-48a9-9c30-d966f20cce81')\"\n",
              "            title=\"Suggest charts\"\n",
              "            style=\"display:none;\">\n",
              "\n",
              "<svg xmlns=\"http://www.w3.org/2000/svg\" height=\"24px\"viewBox=\"0 0 24 24\"\n",
              "     width=\"24px\">\n",
              "    <g>\n",
              "        <path d=\"M19 3H5c-1.1 0-2 .9-2 2v14c0 1.1.9 2 2 2h14c1.1 0 2-.9 2-2V5c0-1.1-.9-2-2-2zM9 17H7v-7h2v7zm4 0h-2V7h2v10zm4 0h-2v-4h2v4z\"/>\n",
              "    </g>\n",
              "</svg>\n",
              "  </button>\n",
              "\n",
              "<style>\n",
              "  .colab-df-quickchart {\n",
              "      --bg-color: #E8F0FE;\n",
              "      --fill-color: #1967D2;\n",
              "      --hover-bg-color: #E2EBFA;\n",
              "      --hover-fill-color: #174EA6;\n",
              "      --disabled-fill-color: #AAA;\n",
              "      --disabled-bg-color: #DDD;\n",
              "  }\n",
              "\n",
              "  [theme=dark] .colab-df-quickchart {\n",
              "      --bg-color: #3B4455;\n",
              "      --fill-color: #D2E3FC;\n",
              "      --hover-bg-color: #434B5C;\n",
              "      --hover-fill-color: #FFFFFF;\n",
              "      --disabled-bg-color: #3B4455;\n",
              "      --disabled-fill-color: #666;\n",
              "  }\n",
              "\n",
              "  .colab-df-quickchart {\n",
              "    background-color: var(--bg-color);\n",
              "    border: none;\n",
              "    border-radius: 50%;\n",
              "    cursor: pointer;\n",
              "    display: none;\n",
              "    fill: var(--fill-color);\n",
              "    height: 32px;\n",
              "    padding: 0;\n",
              "    width: 32px;\n",
              "  }\n",
              "\n",
              "  .colab-df-quickchart:hover {\n",
              "    background-color: var(--hover-bg-color);\n",
              "    box-shadow: 0 1px 2px rgba(60, 64, 67, 0.3), 0 1px 3px 1px rgba(60, 64, 67, 0.15);\n",
              "    fill: var(--button-hover-fill-color);\n",
              "  }\n",
              "\n",
              "  .colab-df-quickchart-complete:disabled,\n",
              "  .colab-df-quickchart-complete:disabled:hover {\n",
              "    background-color: var(--disabled-bg-color);\n",
              "    fill: var(--disabled-fill-color);\n",
              "    box-shadow: none;\n",
              "  }\n",
              "\n",
              "  .colab-df-spinner {\n",
              "    border: 2px solid var(--fill-color);\n",
              "    border-color: transparent;\n",
              "    border-bottom-color: var(--fill-color);\n",
              "    animation:\n",
              "      spin 1s steps(1) infinite;\n",
              "  }\n",
              "\n",
              "  @keyframes spin {\n",
              "    0% {\n",
              "      border-color: transparent;\n",
              "      border-bottom-color: var(--fill-color);\n",
              "      border-left-color: var(--fill-color);\n",
              "    }\n",
              "    20% {\n",
              "      border-color: transparent;\n",
              "      border-left-color: var(--fill-color);\n",
              "      border-top-color: var(--fill-color);\n",
              "    }\n",
              "    30% {\n",
              "      border-color: transparent;\n",
              "      border-left-color: var(--fill-color);\n",
              "      border-top-color: var(--fill-color);\n",
              "      border-right-color: var(--fill-color);\n",
              "    }\n",
              "    40% {\n",
              "      border-color: transparent;\n",
              "      border-right-color: var(--fill-color);\n",
              "      border-top-color: var(--fill-color);\n",
              "    }\n",
              "    60% {\n",
              "      border-color: transparent;\n",
              "      border-right-color: var(--fill-color);\n",
              "    }\n",
              "    80% {\n",
              "      border-color: transparent;\n",
              "      border-right-color: var(--fill-color);\n",
              "      border-bottom-color: var(--fill-color);\n",
              "    }\n",
              "    90% {\n",
              "      border-color: transparent;\n",
              "      border-bottom-color: var(--fill-color);\n",
              "    }\n",
              "  }\n",
              "</style>\n",
              "\n",
              "  <script>\n",
              "    async function quickchart(key) {\n",
              "      const quickchartButtonEl =\n",
              "        document.querySelector('#' + key + ' button');\n",
              "      quickchartButtonEl.disabled = true;  // To prevent multiple clicks.\n",
              "      quickchartButtonEl.classList.add('colab-df-spinner');\n",
              "      try {\n",
              "        const charts = await google.colab.kernel.invokeFunction(\n",
              "            'suggestCharts', [key], {});\n",
              "      } catch (error) {\n",
              "        console.error('Error during call to suggestCharts:', error);\n",
              "      }\n",
              "      quickchartButtonEl.classList.remove('colab-df-spinner');\n",
              "      quickchartButtonEl.classList.add('colab-df-quickchart-complete');\n",
              "    }\n",
              "    (() => {\n",
              "      let quickchartButtonEl =\n",
              "        document.querySelector('#df-f25f9370-66fa-48a9-9c30-d966f20cce81 button');\n",
              "      quickchartButtonEl.style.display =\n",
              "        google.colab.kernel.accessAllowed ? 'block' : 'none';\n",
              "    })();\n",
              "  </script>\n",
              "</div>\n",
              "    </div>\n",
              "  </div>\n"
            ]
          },
          "metadata": {},
          "execution_count": 53
        }
      ]
    },
    {
      "cell_type": "code",
      "source": [
        "px.imshow(corr_matrix)"
      ],
      "metadata": {
        "id": "p04Ifq_ZaOHb",
        "colab": {
          "base_uri": "https://localhost:8080/",
          "height": 542
        },
        "outputId": "0617c1e9-bdc0-41c9-9026-6ec8500a3081"
      },
      "execution_count": null,
      "outputs": [
        {
          "output_type": "display_data",
          "data": {
            "text/html": [
              "<html>\n",
              "<head><meta charset=\"utf-8\" /></head>\n",
              "<body>\n",
              "    <div>            <script src=\"https://cdnjs.cloudflare.com/ajax/libs/mathjax/2.7.5/MathJax.js?config=TeX-AMS-MML_SVG\"></script><script type=\"text/javascript\">if (window.MathJax && window.MathJax.Hub && window.MathJax.Hub.Config) {window.MathJax.Hub.Config({SVG: {font: \"STIX-Web\"}});}</script>                <script type=\"text/javascript\">window.PlotlyConfig = {MathJaxConfig: 'local'};</script>\n",
              "        <script charset=\"utf-8\" src=\"https://cdn.plot.ly/plotly-2.24.1.min.js\"></script>                <div id=\"7c62eb88-04e6-4fb4-a6b8-a0db03f4e597\" class=\"plotly-graph-div\" style=\"height:525px; width:100%;\"></div>            <script type=\"text/javascript\">                                    window.PLOTLYENV=window.PLOTLYENV || {};                                    if (document.getElementById(\"7c62eb88-04e6-4fb4-a6b8-a0db03f4e597\")) {                    Plotly.newPlot(                        \"7c62eb88-04e6-4fb4-a6b8-a0db03f4e597\",                        [{\"coloraxis\":\"coloraxis\",\"name\":\"0\",\"x\":[\"Murder and nonnegligent manslaughter\",\"Rape (revised definition)\",\"Rape(legacy definition)\",\"Arson\"],\"y\":[\"Murder and nonnegligent manslaughter\",\"Rape (revised definition)\",\"Rape(legacy definition)\",\"Arson\"],\"z\":[[1.0,0.907172959588691,null,0.6897317656950901],[0.907172959588691,1.0,null,0.7402701611147259],[null,null,null,null],[0.6897317656950901,0.7402701611147259,null,1.0]],\"type\":\"heatmap\",\"xaxis\":\"x\",\"yaxis\":\"y\",\"hovertemplate\":\"x: %{x}\\u003cbr\\u003ey: %{y}\\u003cbr\\u003ecolor: %{z}\\u003cextra\\u003e\\u003c\\u002fextra\\u003e\"}],                        {\"template\":{\"data\":{\"histogram2dcontour\":[{\"type\":\"histogram2dcontour\",\"colorbar\":{\"outlinewidth\":0,\"ticks\":\"\"},\"colorscale\":[[0.0,\"#0d0887\"],[0.1111111111111111,\"#46039f\"],[0.2222222222222222,\"#7201a8\"],[0.3333333333333333,\"#9c179e\"],[0.4444444444444444,\"#bd3786\"],[0.5555555555555556,\"#d8576b\"],[0.6666666666666666,\"#ed7953\"],[0.7777777777777778,\"#fb9f3a\"],[0.8888888888888888,\"#fdca26\"],[1.0,\"#f0f921\"]]}],\"choropleth\":[{\"type\":\"choropleth\",\"colorbar\":{\"outlinewidth\":0,\"ticks\":\"\"}}],\"histogram2d\":[{\"type\":\"histogram2d\",\"colorbar\":{\"outlinewidth\":0,\"ticks\":\"\"},\"colorscale\":[[0.0,\"#0d0887\"],[0.1111111111111111,\"#46039f\"],[0.2222222222222222,\"#7201a8\"],[0.3333333333333333,\"#9c179e\"],[0.4444444444444444,\"#bd3786\"],[0.5555555555555556,\"#d8576b\"],[0.6666666666666666,\"#ed7953\"],[0.7777777777777778,\"#fb9f3a\"],[0.8888888888888888,\"#fdca26\"],[1.0,\"#f0f921\"]]}],\"heatmap\":[{\"type\":\"heatmap\",\"colorbar\":{\"outlinewidth\":0,\"ticks\":\"\"},\"colorscale\":[[0.0,\"#0d0887\"],[0.1111111111111111,\"#46039f\"],[0.2222222222222222,\"#7201a8\"],[0.3333333333333333,\"#9c179e\"],[0.4444444444444444,\"#bd3786\"],[0.5555555555555556,\"#d8576b\"],[0.6666666666666666,\"#ed7953\"],[0.7777777777777778,\"#fb9f3a\"],[0.8888888888888888,\"#fdca26\"],[1.0,\"#f0f921\"]]}],\"heatmapgl\":[{\"type\":\"heatmapgl\",\"colorbar\":{\"outlinewidth\":0,\"ticks\":\"\"},\"colorscale\":[[0.0,\"#0d0887\"],[0.1111111111111111,\"#46039f\"],[0.2222222222222222,\"#7201a8\"],[0.3333333333333333,\"#9c179e\"],[0.4444444444444444,\"#bd3786\"],[0.5555555555555556,\"#d8576b\"],[0.6666666666666666,\"#ed7953\"],[0.7777777777777778,\"#fb9f3a\"],[0.8888888888888888,\"#fdca26\"],[1.0,\"#f0f921\"]]}],\"contourcarpet\":[{\"type\":\"contourcarpet\",\"colorbar\":{\"outlinewidth\":0,\"ticks\":\"\"}}],\"contour\":[{\"type\":\"contour\",\"colorbar\":{\"outlinewidth\":0,\"ticks\":\"\"},\"colorscale\":[[0.0,\"#0d0887\"],[0.1111111111111111,\"#46039f\"],[0.2222222222222222,\"#7201a8\"],[0.3333333333333333,\"#9c179e\"],[0.4444444444444444,\"#bd3786\"],[0.5555555555555556,\"#d8576b\"],[0.6666666666666666,\"#ed7953\"],[0.7777777777777778,\"#fb9f3a\"],[0.8888888888888888,\"#fdca26\"],[1.0,\"#f0f921\"]]}],\"surface\":[{\"type\":\"surface\",\"colorbar\":{\"outlinewidth\":0,\"ticks\":\"\"},\"colorscale\":[[0.0,\"#0d0887\"],[0.1111111111111111,\"#46039f\"],[0.2222222222222222,\"#7201a8\"],[0.3333333333333333,\"#9c179e\"],[0.4444444444444444,\"#bd3786\"],[0.5555555555555556,\"#d8576b\"],[0.6666666666666666,\"#ed7953\"],[0.7777777777777778,\"#fb9f3a\"],[0.8888888888888888,\"#fdca26\"],[1.0,\"#f0f921\"]]}],\"mesh3d\":[{\"type\":\"mesh3d\",\"colorbar\":{\"outlinewidth\":0,\"ticks\":\"\"}}],\"scatter\":[{\"fillpattern\":{\"fillmode\":\"overlay\",\"size\":10,\"solidity\":0.2},\"type\":\"scatter\"}],\"parcoords\":[{\"type\":\"parcoords\",\"line\":{\"colorbar\":{\"outlinewidth\":0,\"ticks\":\"\"}}}],\"scatterpolargl\":[{\"type\":\"scatterpolargl\",\"marker\":{\"colorbar\":{\"outlinewidth\":0,\"ticks\":\"\"}}}],\"bar\":[{\"error_x\":{\"color\":\"#2a3f5f\"},\"error_y\":{\"color\":\"#2a3f5f\"},\"marker\":{\"line\":{\"color\":\"#E5ECF6\",\"width\":0.5},\"pattern\":{\"fillmode\":\"overlay\",\"size\":10,\"solidity\":0.2}},\"type\":\"bar\"}],\"scattergeo\":[{\"type\":\"scattergeo\",\"marker\":{\"colorbar\":{\"outlinewidth\":0,\"ticks\":\"\"}}}],\"scatterpolar\":[{\"type\":\"scatterpolar\",\"marker\":{\"colorbar\":{\"outlinewidth\":0,\"ticks\":\"\"}}}],\"histogram\":[{\"marker\":{\"pattern\":{\"fillmode\":\"overlay\",\"size\":10,\"solidity\":0.2}},\"type\":\"histogram\"}],\"scattergl\":[{\"type\":\"scattergl\",\"marker\":{\"colorbar\":{\"outlinewidth\":0,\"ticks\":\"\"}}}],\"scatter3d\":[{\"type\":\"scatter3d\",\"line\":{\"colorbar\":{\"outlinewidth\":0,\"ticks\":\"\"}},\"marker\":{\"colorbar\":{\"outlinewidth\":0,\"ticks\":\"\"}}}],\"scattermapbox\":[{\"type\":\"scattermapbox\",\"marker\":{\"colorbar\":{\"outlinewidth\":0,\"ticks\":\"\"}}}],\"scatterternary\":[{\"type\":\"scatterternary\",\"marker\":{\"colorbar\":{\"outlinewidth\":0,\"ticks\":\"\"}}}],\"scattercarpet\":[{\"type\":\"scattercarpet\",\"marker\":{\"colorbar\":{\"outlinewidth\":0,\"ticks\":\"\"}}}],\"carpet\":[{\"aaxis\":{\"endlinecolor\":\"#2a3f5f\",\"gridcolor\":\"white\",\"linecolor\":\"white\",\"minorgridcolor\":\"white\",\"startlinecolor\":\"#2a3f5f\"},\"baxis\":{\"endlinecolor\":\"#2a3f5f\",\"gridcolor\":\"white\",\"linecolor\":\"white\",\"minorgridcolor\":\"white\",\"startlinecolor\":\"#2a3f5f\"},\"type\":\"carpet\"}],\"table\":[{\"cells\":{\"fill\":{\"color\":\"#EBF0F8\"},\"line\":{\"color\":\"white\"}},\"header\":{\"fill\":{\"color\":\"#C8D4E3\"},\"line\":{\"color\":\"white\"}},\"type\":\"table\"}],\"barpolar\":[{\"marker\":{\"line\":{\"color\":\"#E5ECF6\",\"width\":0.5},\"pattern\":{\"fillmode\":\"overlay\",\"size\":10,\"solidity\":0.2}},\"type\":\"barpolar\"}],\"pie\":[{\"automargin\":true,\"type\":\"pie\"}]},\"layout\":{\"autotypenumbers\":\"strict\",\"colorway\":[\"#636efa\",\"#EF553B\",\"#00cc96\",\"#ab63fa\",\"#FFA15A\",\"#19d3f3\",\"#FF6692\",\"#B6E880\",\"#FF97FF\",\"#FECB52\"],\"font\":{\"color\":\"#2a3f5f\"},\"hovermode\":\"closest\",\"hoverlabel\":{\"align\":\"left\"},\"paper_bgcolor\":\"white\",\"plot_bgcolor\":\"#E5ECF6\",\"polar\":{\"bgcolor\":\"#E5ECF6\",\"angularaxis\":{\"gridcolor\":\"white\",\"linecolor\":\"white\",\"ticks\":\"\"},\"radialaxis\":{\"gridcolor\":\"white\",\"linecolor\":\"white\",\"ticks\":\"\"}},\"ternary\":{\"bgcolor\":\"#E5ECF6\",\"aaxis\":{\"gridcolor\":\"white\",\"linecolor\":\"white\",\"ticks\":\"\"},\"baxis\":{\"gridcolor\":\"white\",\"linecolor\":\"white\",\"ticks\":\"\"},\"caxis\":{\"gridcolor\":\"white\",\"linecolor\":\"white\",\"ticks\":\"\"}},\"coloraxis\":{\"colorbar\":{\"outlinewidth\":0,\"ticks\":\"\"}},\"colorscale\":{\"sequential\":[[0.0,\"#0d0887\"],[0.1111111111111111,\"#46039f\"],[0.2222222222222222,\"#7201a8\"],[0.3333333333333333,\"#9c179e\"],[0.4444444444444444,\"#bd3786\"],[0.5555555555555556,\"#d8576b\"],[0.6666666666666666,\"#ed7953\"],[0.7777777777777778,\"#fb9f3a\"],[0.8888888888888888,\"#fdca26\"],[1.0,\"#f0f921\"]],\"sequentialminus\":[[0.0,\"#0d0887\"],[0.1111111111111111,\"#46039f\"],[0.2222222222222222,\"#7201a8\"],[0.3333333333333333,\"#9c179e\"],[0.4444444444444444,\"#bd3786\"],[0.5555555555555556,\"#d8576b\"],[0.6666666666666666,\"#ed7953\"],[0.7777777777777778,\"#fb9f3a\"],[0.8888888888888888,\"#fdca26\"],[1.0,\"#f0f921\"]],\"diverging\":[[0,\"#8e0152\"],[0.1,\"#c51b7d\"],[0.2,\"#de77ae\"],[0.3,\"#f1b6da\"],[0.4,\"#fde0ef\"],[0.5,\"#f7f7f7\"],[0.6,\"#e6f5d0\"],[0.7,\"#b8e186\"],[0.8,\"#7fbc41\"],[0.9,\"#4d9221\"],[1,\"#276419\"]]},\"xaxis\":{\"gridcolor\":\"white\",\"linecolor\":\"white\",\"ticks\":\"\",\"title\":{\"standoff\":15},\"zerolinecolor\":\"white\",\"automargin\":true,\"zerolinewidth\":2},\"yaxis\":{\"gridcolor\":\"white\",\"linecolor\":\"white\",\"ticks\":\"\",\"title\":{\"standoff\":15},\"zerolinecolor\":\"white\",\"automargin\":true,\"zerolinewidth\":2},\"scene\":{\"xaxis\":{\"backgroundcolor\":\"#E5ECF6\",\"gridcolor\":\"white\",\"linecolor\":\"white\",\"showbackground\":true,\"ticks\":\"\",\"zerolinecolor\":\"white\",\"gridwidth\":2},\"yaxis\":{\"backgroundcolor\":\"#E5ECF6\",\"gridcolor\":\"white\",\"linecolor\":\"white\",\"showbackground\":true,\"ticks\":\"\",\"zerolinecolor\":\"white\",\"gridwidth\":2},\"zaxis\":{\"backgroundcolor\":\"#E5ECF6\",\"gridcolor\":\"white\",\"linecolor\":\"white\",\"showbackground\":true,\"ticks\":\"\",\"zerolinecolor\":\"white\",\"gridwidth\":2}},\"shapedefaults\":{\"line\":{\"color\":\"#2a3f5f\"}},\"annotationdefaults\":{\"arrowcolor\":\"#2a3f5f\",\"arrowhead\":0,\"arrowwidth\":1},\"geo\":{\"bgcolor\":\"white\",\"landcolor\":\"#E5ECF6\",\"subunitcolor\":\"white\",\"showland\":true,\"showlakes\":true,\"lakecolor\":\"white\"},\"title\":{\"x\":0.05},\"mapbox\":{\"style\":\"light\"}}},\"xaxis\":{\"anchor\":\"y\",\"domain\":[0.0,1.0],\"scaleanchor\":\"y\",\"constrain\":\"domain\"},\"yaxis\":{\"anchor\":\"x\",\"domain\":[0.0,1.0],\"autorange\":\"reversed\",\"constrain\":\"domain\"},\"coloraxis\":{\"colorscale\":[[0.0,\"#0d0887\"],[0.1111111111111111,\"#46039f\"],[0.2222222222222222,\"#7201a8\"],[0.3333333333333333,\"#9c179e\"],[0.4444444444444444,\"#bd3786\"],[0.5555555555555556,\"#d8576b\"],[0.6666666666666666,\"#ed7953\"],[0.7777777777777778,\"#fb9f3a\"],[0.8888888888888888,\"#fdca26\"],[1.0,\"#f0f921\"]]},\"margin\":{\"t\":60}},                        {\"responsive\": true}                    ).then(function(){\n",
              "                            \n",
              "var gd = document.getElementById('7c62eb88-04e6-4fb4-a6b8-a0db03f4e597');\n",
              "var x = new MutationObserver(function (mutations, observer) {{\n",
              "        var display = window.getComputedStyle(gd).display;\n",
              "        if (!display || display === 'none') {{\n",
              "            console.log([gd, 'removed!']);\n",
              "            Plotly.purge(gd);\n",
              "            observer.disconnect();\n",
              "        }}\n",
              "}});\n",
              "\n",
              "// Listen for the removal of the full notebook cells\n",
              "var notebookContainer = gd.closest('#notebook-container');\n",
              "if (notebookContainer) {{\n",
              "    x.observe(notebookContainer, {childList: true});\n",
              "}}\n",
              "\n",
              "// Listen for the clearing of the current output cell\n",
              "var outputEl = gd.closest('.output');\n",
              "if (outputEl) {{\n",
              "    x.observe(outputEl, {childList: true});\n",
              "}}\n",
              "\n",
              "                        })                };                            </script>        </div>\n",
              "</body>\n",
              "</html>"
            ]
          },
          "metadata": {}
        }
      ]
    },
    {
      "cell_type": "markdown",
      "source": [
        "Какие выводы можно сделать на основе графиков и матрицы корреляции?"
      ],
      "metadata": {
        "id": "2MVHWXICaoJ4"
      }
    },
    {
      "cell_type": "markdown",
      "source": [
        "**Ответ здесь**\n",
        "Столбцы/признаки связаны между собой (в основном), имеют некоторую зависимость."
      ],
      "metadata": {
        "id": "HFAFaiNzatLN"
      }
    },
    {
      "cell_type": "markdown",
      "source": [
        "##Задание для гениев*"
      ],
      "metadata": {
        "id": "K5HCSPTPbwfJ"
      }
    },
    {
      "cell_type": "markdown",
      "source": [
        "**Может быть потом, но не сейчас** ☹"
      ],
      "metadata": {
        "id": "KnD4YS9uczUQ"
      }
    },
    {
      "cell_type": "markdown",
      "source": [
        "Реализовать следующие методы поиска выбросов:\n",
        "1. На основе среднего и отклонения\n",
        "2. Критерий Шовене\n",
        "3. С помощью квартилей\n",
        "4. Поиск выбросов по двум переменным\n",
        "\n",
        "[Посмотреть](http://course.omgtu.ru/wp-content/uploads/2021/04/3_%D0%92%D1%8B%D0%B1%D1%80%D0%BE%D1%81%D1%8B.pdf)\n",
        "\n",
        "P.S. в качестве возвразаемого значения методов может быть:\n",
        "1. очищенный датафрейм\n",
        "2. индексы выбросов ```df.series.index```"
      ],
      "metadata": {
        "id": "pil5bgt5b98A"
      }
    },
    {
      "cell_type": "code",
      "source": [
        "\"\"\"\n",
        "\n",
        "Ваш код здесь\n",
        "\n",
        "\"\"\""
      ],
      "metadata": {
        "id": "IXM6eoIvdCBs"
      },
      "execution_count": null,
      "outputs": []
    },
    {
      "cell_type": "markdown",
      "source": [
        "### Пример реализации одного метода"
      ],
      "metadata": {
        "id": "dRQRyxdgD_sk"
      }
    },
    {
      "cell_type": "code",
      "source": [
        "from statistics import median, mean\n",
        "\n",
        "class Outline:\n",
        "  def __init__(self, df):\n",
        "    self.df = df\n",
        "\n",
        "  def delete_outline_by_mean(self, column_name):\n",
        "    mean_data = mean(self.df[column_name])\n",
        "    maximum = mean_data * 2\n",
        "    result = []\n",
        "\n",
        "    for item in self.df[column_name]:\n",
        "      if abs(item - mean_data) < maximum:\n",
        "        result.append(item)\n",
        "\n",
        "    return result\n",
        "\n"
      ],
      "metadata": {
        "id": "lJEOQcx0vavH"
      },
      "execution_count": null,
      "outputs": []
    },
    {
      "cell_type": "code",
      "source": [
        "data = pd.DataFrame(\n",
        "    data = {\n",
        "        \"col1\": [1, 2, 3, 4, 5, 1000],\n",
        "        \"col2\": [1, 2, 3, 2, 1, 4]\n",
        "    }\n",
        ")\n",
        "\n",
        "so = Outline(data)\n",
        "so.delete_outline_by_mean(\"col1\")"
      ],
      "metadata": {
        "colab": {
          "base_uri": "https://localhost:8080/"
        },
        "id": "1EViTEon8Rkj",
        "outputId": "d1fa0b6f-a127-4d89-c2c8-9597251aaac6"
      },
      "execution_count": null,
      "outputs": [
        {
          "output_type": "execute_result",
          "data": {
            "text/plain": [
              "[1, 2, 3, 4, 5]"
            ]
          },
          "metadata": {},
          "execution_count": 39
        }
      ]
    }
  ]
}